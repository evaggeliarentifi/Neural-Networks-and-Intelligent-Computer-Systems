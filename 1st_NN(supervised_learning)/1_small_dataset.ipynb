{
  "nbformat": 4,
  "nbformat_minor": 0,
  "metadata": {
    "colab": {
      "name": "Αντίγραφο 1ηΣειρα",
      "provenance": [],
      "collapsed_sections": [],
      "toc_visible": true
    },
    "kernelspec": {
      "name": "python3",
      "display_name": "Python 3"
    }
  },
  "cells": [
    {
      "cell_type": "markdown",
      "metadata": {
        "id": "SqL3H6AjgEUr"
      },
      "source": [
        "# **Small Dataset(S06)**"
      ]
    },
    {
      "cell_type": "markdown",
      "metadata": {
        "id": "Sf1wJSmNkhyQ"
      },
      "source": [
        "## **Βασικές Πληροφορίες**"
      ]
    },
    {
      "cell_type": "markdown",
      "metadata": {
        "id": "mF4ZtklUkTNe"
      },
      "source": [
        "###**Σύντομη παρουσίαση του Dataset**"
      ]
    },
    {
      "cell_type": "markdown",
      "metadata": {
        "id": "bkFjOLHa8nlR"
      },
      "source": [
        "![εικονα](https://archive.ics.uci.edu/ml/assets/logo.gif)\n",
        "\n",
        "To [UCI ML Repository](http://archive.ics.uci.edu/ml/index.php) είναι το διασημότερο αποθετήριο datasets για Machine Learning.Το small dataset που αντιστοιχεί στην δική μας ομάδα  είναι το S06, δλδ το [\n",
        "Japanese Credit Screening Data Set](http://archive.ics.uci.edu/ml/datasets/Japanese+Credit+Screening) , το οποίο περιέχει δεδομένα σχετικά με την παραχώρηση ή μη  πίστωσης στους πελάτες μιας ιαπωνικής εταιρείας\n",
        ".\n"
      ]
    },
    {
      "cell_type": "code",
      "metadata": {
        "id": "_qri9WZ2MKoV",
        "colab": {
          "base_uri": "https://localhost:8080/"
        },
        "outputId": "75f2718f-b6ba-451f-df2a-431dffbf7df1"
      },
      "source": [
        "# κάνουμε upgrade στις βιβλοθήκες που θα χρειαστούμε,\n",
        "\n",
        "!pip install --upgrade pip #upgrade pip package installer\n",
        "!pip install scikit-learn --upgrade #upgrade scikit-learn package\n",
        "!pip install numpy --upgrade #upgrade numpy package\n",
        "!pip install pandas --upgrade #--upgrade #upgrade pandas package"
      ],
      "execution_count": null,
      "outputs": [
        {
          "output_type": "stream",
          "text": [
            "Requirement already up-to-date: pip in /usr/local/lib/python3.6/dist-packages (20.2.4)\n",
            "Requirement already up-to-date: scikit-learn in /usr/local/lib/python3.6/dist-packages (0.23.2)\n",
            "Requirement already satisfied, skipping upgrade: numpy>=1.13.3 in /usr/local/lib/python3.6/dist-packages (from scikit-learn) (1.19.4)\n",
            "Requirement already satisfied, skipping upgrade: threadpoolctl>=2.0.0 in /usr/local/lib/python3.6/dist-packages (from scikit-learn) (2.1.0)\n",
            "Requirement already satisfied, skipping upgrade: joblib>=0.11 in /usr/local/lib/python3.6/dist-packages (from scikit-learn) (0.17.0)\n",
            "Requirement already satisfied, skipping upgrade: scipy>=0.19.1 in /usr/local/lib/python3.6/dist-packages (from scikit-learn) (1.4.1)\n",
            "Requirement already up-to-date: numpy in /usr/local/lib/python3.6/dist-packages (1.19.4)\n",
            "Requirement already up-to-date: pandas in /usr/local/lib/python3.6/dist-packages (1.1.4)\n",
            "Requirement already satisfied, skipping upgrade: numpy>=1.15.4 in /usr/local/lib/python3.6/dist-packages (from pandas) (1.19.4)\n",
            "Requirement already satisfied, skipping upgrade: python-dateutil>=2.7.3 in /usr/local/lib/python3.6/dist-packages (from pandas) (2.8.1)\n",
            "Requirement already satisfied, skipping upgrade: pytz>=2017.2 in /usr/local/lib/python3.6/dist-packages (from pandas) (2018.9)\n",
            "Requirement already satisfied, skipping upgrade: six>=1.5 in /usr/local/lib/python3.6/dist-packages (from python-dateutil>=2.7.3->pandas) (1.15.0)\n"
          ],
          "name": "stdout"
        }
      ]
    },
    {
      "cell_type": "code",
      "metadata": {
        "id": "2rv3BdLpHFFZ",
        "colab": {
          "base_uri": "https://localhost:8080/"
        },
        "outputId": "55a19880-c676-4529-e781-6f02638bf994"
      },
      "source": [
        "!ls  # ελέγχουμε ότι τα αρχεία που κάναμε upload βρίσκονται στο σύστημα"
      ],
      "execution_count": null,
      "outputs": [
        {
          "output_type": "stream",
          "text": [
            "crx.data  sample_data\n"
          ],
          "name": "stdout"
        }
      ]
    },
    {
      "cell_type": "code",
      "metadata": {
        "id": "6biJ9AeXMA9U",
        "colab": {
          "base_uri": "https://localhost:8080/",
          "height": 419
        },
        "outputId": "b4cb944e-61bf-45bf-d2fc-3b31117769e1"
      },
      "source": [
        "#Εισάγουμε και διαβάζουμε το csv \"crx.data\" με την read_csv και option \"header=None\" γιατί \n",
        "# η πρώτη γραμμή περιέχει δεδομένα και όχι ονόματα κολόνων και τυπώνουμε τις πρώτες πέντε γραμμές:\n",
        "\n",
        "import pandas as pd\n",
        "\n",
        "df = pd.read_csv(\"crx.data\", header=None)\n",
        "df"
      ],
      "execution_count": null,
      "outputs": [
        {
          "output_type": "execute_result",
          "data": {
            "text/html": [
              "<div>\n",
              "<style scoped>\n",
              "    .dataframe tbody tr th:only-of-type {\n",
              "        vertical-align: middle;\n",
              "    }\n",
              "\n",
              "    .dataframe tbody tr th {\n",
              "        vertical-align: top;\n",
              "    }\n",
              "\n",
              "    .dataframe thead th {\n",
              "        text-align: right;\n",
              "    }\n",
              "</style>\n",
              "<table border=\"1\" class=\"dataframe\">\n",
              "  <thead>\n",
              "    <tr style=\"text-align: right;\">\n",
              "      <th></th>\n",
              "      <th>0</th>\n",
              "      <th>1</th>\n",
              "      <th>2</th>\n",
              "      <th>3</th>\n",
              "      <th>4</th>\n",
              "      <th>5</th>\n",
              "      <th>6</th>\n",
              "      <th>7</th>\n",
              "      <th>8</th>\n",
              "      <th>9</th>\n",
              "      <th>10</th>\n",
              "      <th>11</th>\n",
              "      <th>12</th>\n",
              "      <th>13</th>\n",
              "      <th>14</th>\n",
              "      <th>15</th>\n",
              "    </tr>\n",
              "  </thead>\n",
              "  <tbody>\n",
              "    <tr>\n",
              "      <th>0</th>\n",
              "      <td>b</td>\n",
              "      <td>30.83</td>\n",
              "      <td>0.000</td>\n",
              "      <td>u</td>\n",
              "      <td>g</td>\n",
              "      <td>w</td>\n",
              "      <td>v</td>\n",
              "      <td>1.25</td>\n",
              "      <td>t</td>\n",
              "      <td>t</td>\n",
              "      <td>1</td>\n",
              "      <td>f</td>\n",
              "      <td>g</td>\n",
              "      <td>00202</td>\n",
              "      <td>0</td>\n",
              "      <td>+</td>\n",
              "    </tr>\n",
              "    <tr>\n",
              "      <th>1</th>\n",
              "      <td>a</td>\n",
              "      <td>58.67</td>\n",
              "      <td>4.460</td>\n",
              "      <td>u</td>\n",
              "      <td>g</td>\n",
              "      <td>q</td>\n",
              "      <td>h</td>\n",
              "      <td>3.04</td>\n",
              "      <td>t</td>\n",
              "      <td>t</td>\n",
              "      <td>6</td>\n",
              "      <td>f</td>\n",
              "      <td>g</td>\n",
              "      <td>00043</td>\n",
              "      <td>560</td>\n",
              "      <td>+</td>\n",
              "    </tr>\n",
              "    <tr>\n",
              "      <th>2</th>\n",
              "      <td>a</td>\n",
              "      <td>24.50</td>\n",
              "      <td>0.500</td>\n",
              "      <td>u</td>\n",
              "      <td>g</td>\n",
              "      <td>q</td>\n",
              "      <td>h</td>\n",
              "      <td>1.50</td>\n",
              "      <td>t</td>\n",
              "      <td>f</td>\n",
              "      <td>0</td>\n",
              "      <td>f</td>\n",
              "      <td>g</td>\n",
              "      <td>00280</td>\n",
              "      <td>824</td>\n",
              "      <td>+</td>\n",
              "    </tr>\n",
              "    <tr>\n",
              "      <th>3</th>\n",
              "      <td>b</td>\n",
              "      <td>27.83</td>\n",
              "      <td>1.540</td>\n",
              "      <td>u</td>\n",
              "      <td>g</td>\n",
              "      <td>w</td>\n",
              "      <td>v</td>\n",
              "      <td>3.75</td>\n",
              "      <td>t</td>\n",
              "      <td>t</td>\n",
              "      <td>5</td>\n",
              "      <td>t</td>\n",
              "      <td>g</td>\n",
              "      <td>00100</td>\n",
              "      <td>3</td>\n",
              "      <td>+</td>\n",
              "    </tr>\n",
              "    <tr>\n",
              "      <th>4</th>\n",
              "      <td>b</td>\n",
              "      <td>20.17</td>\n",
              "      <td>5.625</td>\n",
              "      <td>u</td>\n",
              "      <td>g</td>\n",
              "      <td>w</td>\n",
              "      <td>v</td>\n",
              "      <td>1.71</td>\n",
              "      <td>t</td>\n",
              "      <td>f</td>\n",
              "      <td>0</td>\n",
              "      <td>f</td>\n",
              "      <td>s</td>\n",
              "      <td>00120</td>\n",
              "      <td>0</td>\n",
              "      <td>+</td>\n",
              "    </tr>\n",
              "    <tr>\n",
              "      <th>...</th>\n",
              "      <td>...</td>\n",
              "      <td>...</td>\n",
              "      <td>...</td>\n",
              "      <td>...</td>\n",
              "      <td>...</td>\n",
              "      <td>...</td>\n",
              "      <td>...</td>\n",
              "      <td>...</td>\n",
              "      <td>...</td>\n",
              "      <td>...</td>\n",
              "      <td>...</td>\n",
              "      <td>...</td>\n",
              "      <td>...</td>\n",
              "      <td>...</td>\n",
              "      <td>...</td>\n",
              "      <td>...</td>\n",
              "    </tr>\n",
              "    <tr>\n",
              "      <th>685</th>\n",
              "      <td>b</td>\n",
              "      <td>21.08</td>\n",
              "      <td>10.085</td>\n",
              "      <td>y</td>\n",
              "      <td>p</td>\n",
              "      <td>e</td>\n",
              "      <td>h</td>\n",
              "      <td>1.25</td>\n",
              "      <td>f</td>\n",
              "      <td>f</td>\n",
              "      <td>0</td>\n",
              "      <td>f</td>\n",
              "      <td>g</td>\n",
              "      <td>00260</td>\n",
              "      <td>0</td>\n",
              "      <td>-</td>\n",
              "    </tr>\n",
              "    <tr>\n",
              "      <th>686</th>\n",
              "      <td>a</td>\n",
              "      <td>22.67</td>\n",
              "      <td>0.750</td>\n",
              "      <td>u</td>\n",
              "      <td>g</td>\n",
              "      <td>c</td>\n",
              "      <td>v</td>\n",
              "      <td>2.00</td>\n",
              "      <td>f</td>\n",
              "      <td>t</td>\n",
              "      <td>2</td>\n",
              "      <td>t</td>\n",
              "      <td>g</td>\n",
              "      <td>00200</td>\n",
              "      <td>394</td>\n",
              "      <td>-</td>\n",
              "    </tr>\n",
              "    <tr>\n",
              "      <th>687</th>\n",
              "      <td>a</td>\n",
              "      <td>25.25</td>\n",
              "      <td>13.500</td>\n",
              "      <td>y</td>\n",
              "      <td>p</td>\n",
              "      <td>ff</td>\n",
              "      <td>ff</td>\n",
              "      <td>2.00</td>\n",
              "      <td>f</td>\n",
              "      <td>t</td>\n",
              "      <td>1</td>\n",
              "      <td>t</td>\n",
              "      <td>g</td>\n",
              "      <td>00200</td>\n",
              "      <td>1</td>\n",
              "      <td>-</td>\n",
              "    </tr>\n",
              "    <tr>\n",
              "      <th>688</th>\n",
              "      <td>b</td>\n",
              "      <td>17.92</td>\n",
              "      <td>0.205</td>\n",
              "      <td>u</td>\n",
              "      <td>g</td>\n",
              "      <td>aa</td>\n",
              "      <td>v</td>\n",
              "      <td>0.04</td>\n",
              "      <td>f</td>\n",
              "      <td>f</td>\n",
              "      <td>0</td>\n",
              "      <td>f</td>\n",
              "      <td>g</td>\n",
              "      <td>00280</td>\n",
              "      <td>750</td>\n",
              "      <td>-</td>\n",
              "    </tr>\n",
              "    <tr>\n",
              "      <th>689</th>\n",
              "      <td>b</td>\n",
              "      <td>35.00</td>\n",
              "      <td>3.375</td>\n",
              "      <td>u</td>\n",
              "      <td>g</td>\n",
              "      <td>c</td>\n",
              "      <td>h</td>\n",
              "      <td>8.29</td>\n",
              "      <td>f</td>\n",
              "      <td>f</td>\n",
              "      <td>0</td>\n",
              "      <td>t</td>\n",
              "      <td>g</td>\n",
              "      <td>00000</td>\n",
              "      <td>0</td>\n",
              "      <td>-</td>\n",
              "    </tr>\n",
              "  </tbody>\n",
              "</table>\n",
              "<p>690 rows × 16 columns</p>\n",
              "</div>"
            ],
            "text/plain": [
              "    0      1       2  3  4   5   6     7  8  9   10 11 12     13   14 15\n",
              "0    b  30.83   0.000  u  g   w   v  1.25  t  t   1  f  g  00202    0  +\n",
              "1    a  58.67   4.460  u  g   q   h  3.04  t  t   6  f  g  00043  560  +\n",
              "2    a  24.50   0.500  u  g   q   h  1.50  t  f   0  f  g  00280  824  +\n",
              "3    b  27.83   1.540  u  g   w   v  3.75  t  t   5  t  g  00100    3  +\n",
              "4    b  20.17   5.625  u  g   w   v  1.71  t  f   0  f  s  00120    0  +\n",
              "..  ..    ...     ... .. ..  ..  ..   ... .. ..  .. .. ..    ...  ... ..\n",
              "685  b  21.08  10.085  y  p   e   h  1.25  f  f   0  f  g  00260    0  -\n",
              "686  a  22.67   0.750  u  g   c   v  2.00  f  t   2  t  g  00200  394  -\n",
              "687  a  25.25  13.500  y  p  ff  ff  2.00  f  t   1  t  g  00200    1  -\n",
              "688  b  17.92   0.205  u  g  aa   v  0.04  f  f   0  f  g  00280  750  -\n",
              "689  b  35.00   3.375  u  g   c   h  8.29  f  f   0  t  g  00000    0  -\n",
              "\n",
              "[690 rows x 16 columns]"
            ]
          },
          "metadata": {
            "tags": []
          },
          "execution_count": 3
        }
      ]
    },
    {
      "cell_type": "markdown",
      "metadata": {
        "id": "eBQyBCsMkFdh"
      },
      "source": [
        "###**Αριθμός δειγμάτων και χαρακτηριστικών  - είδος χαρακτηριστικών**"
      ]
    },
    {
      "cell_type": "markdown",
      "metadata": {
        "id": "ZPgHKpzDONON"
      },
      "source": [
        "Όπως φαίνεται παραπάνω το σύνολο δεδομένων έχει 690 δειγματα(instances) και περιλαμβανει 16 χαρακτηριστικά(attributes) για το κάθε δείγμα τα οποία μπορεί να είναι κατηγορικά ,πραγματικοί ή ακέραιοι αριθμοί.Αξίζει να σημειωθεί ότι τα  πραγματικά ονόματα και οι τιμές των χαρακτηριστικών έχουν αντικατασταθεί απο σύμβολα χωρις νόημα για την προστασία της εμπιστευτικότητας των δεδομένων.Αναλυτικότερα πληροφορίες για τον τύπο δεδομένων κάθε χαρακτηριστικού φαίνονται παρακάτω:\n"
      ]
    },
    {
      "cell_type": "code",
      "metadata": {
        "id": "tgQ2MJyuIDli",
        "colab": {
          "base_uri": "https://localhost:8080/"
        },
        "outputId": "b9c53274-9096-42d6-e014-bd5a82ebf11b"
      },
      "source": [
        "df_info = df.info()\n",
        "print(df_info)\n"
      ],
      "execution_count": null,
      "outputs": [
        {
          "output_type": "stream",
          "text": [
            "<class 'pandas.core.frame.DataFrame'>\n",
            "RangeIndex: 690 entries, 0 to 689\n",
            "Data columns (total 16 columns):\n",
            " #   Column  Non-Null Count  Dtype  \n",
            "---  ------  --------------  -----  \n",
            " 0   0       690 non-null    object \n",
            " 1   1       690 non-null    object \n",
            " 2   2       690 non-null    float64\n",
            " 3   3       690 non-null    object \n",
            " 4   4       690 non-null    object \n",
            " 5   5       690 non-null    object \n",
            " 6   6       690 non-null    object \n",
            " 7   7       690 non-null    float64\n",
            " 8   8       690 non-null    object \n",
            " 9   9       690 non-null    object \n",
            " 10  10      690 non-null    int64  \n",
            " 11  11      690 non-null    object \n",
            " 12  12      690 non-null    object \n",
            " 13  13      690 non-null    object \n",
            " 14  14      690 non-null    int64  \n",
            " 15  15      690 non-null    object \n",
            "dtypes: float64(2), int64(2), object(12)\n",
            "memory usage: 86.4+ KB\n",
            "None\n"
          ],
          "name": "stdout"
        }
      ]
    },
    {
      "cell_type": "markdown",
      "metadata": {
        "id": "hytoHeJ8JN5s"
      },
      "source": [
        "Με την εκτέλεση του παραπάνω κώδικα επιβεβαιώνονται όσα αναφέρθηκαν παραπάνω.Δηλαδή ότι το dataset μας αποτελείται τόσο από αριθμητικά όσο και από κατηγορικά χαρακτηριστικά( float64, int64 και object types).Ειδικότερα τα χαρακτηριστικά που αντιστοιχούν στις στήλες 2, 7, 10 και 14 λαμβάνουν αριθμητικές τιμές ,ενώ όλα τα υπόλοιπα είναι κατηγορικά."
      ]
    },
    {
      "cell_type": "markdown",
      "metadata": {
        "id": "PY7AozW7krXv"
      },
      "source": [
        "###**Eπικεφαλίδες , αρίθμηση γραμμών και ετικέτες κλάσεων**"
      ]
    },
    {
      "cell_type": "markdown",
      "metadata": {
        "id": "N3rOVBcaiPRP"
      },
      "source": [
        "\n",
        "\n",
        "Επίσης παρατηρούμε ότι δεν έχουμε επικεφαλίδες, δεν υπάρχει  αρίθμηση γραμμών(οπότε δεν θα χρειαστεί να αφαιρέσουμε καποιο index που δεν αποτελεί δείγμα),οι ετικέτες των κλάσεων είναι '+' , '-' και βρίσκονται στην 16η (δλδ την τελευταία) κολώνα. \n",
        "\n",
        "###**Μετατροπές στα αρχεία text**\n",
        "\n",
        "Κατα την επεξεργασία των δεδομένων  χρειάστηκαν ορισμένες  μετατροπές στα αρχεια που δόθηκαν(αντικατασταση  '?' με ΝaN για διαχείριση των missing values,όπως θα ανφερθεί και παρακάτω).\n",
        "\n",
        "\n",
        "   \n"
      ]
    },
    {
      "cell_type": "markdown",
      "metadata": {
        "id": "cBJBWSCrm1Aa"
      },
      "source": [
        "###**Απουσιάζουσες τιμές**\n",
        "\n",
        "Παράλληλα,να επισημάνουμε ότι σε 37 δείγματα ( δλδ 5% επι του συνόλου των δειγμάτων) λειπουν τιμές σε ένα ή περισσότερα attributes.Αναλυτικότερα τα missing values για το κάθε attribute έχουν ως εξής.\n",
        "\n",
        "Attribute's name/column | Missing values\n",
        "---|---\n",
        "    A1/0|  12\n",
        "    A2/1 | 12\n",
        "    A4/3|  6\n",
        "    A5/4 |  6\n",
        "    A6/5|  9\n",
        "    A7/6 | 9\n",
        "    A14/13|13\n"
      ]
    },
    {
      "cell_type": "markdown",
      "metadata": {
        "id": "AEmJCUZKlndO"
      },
      "source": [
        "###**Εξισορρόπηση dataset**"
      ]
    },
    {
      "cell_type": "code",
      "metadata": {
        "id": "sKVvpnKdFnGW",
        "colab": {
          "base_uri": "https://localhost:8080/"
        },
        "outputId": "ef46c099-b0ea-4971-cabf-2fd023848b9b"
      },
      "source": [
        "print(\"we have\",(df[15] == '+').sum() , \"+\")\n",
        "print(\"we have\",(df[15]=='-').sum(),\"-\")"
      ],
      "execution_count": null,
      "outputs": [
        {
          "output_type": "stream",
          "text": [
            "we have 307 +\n",
            "we have 383 -\n"
          ],
          "name": "stdout"
        }
      ]
    },
    {
      "cell_type": "markdown",
      "metadata": {
        "id": "G0LMBW6wFv4Q"
      },
      "source": [
        "Παρατηρούμε ότι η αναλογία των δυο κλάσεων είναι περίπου 1.2 οπότε το dataset μας θεωρείται σχετικά ισορροπημένο.(απο εκφώνηση αναφέρεται ότι ένα dataset είναι μη ισορροπημένο αν μια οποιαδήποτε κλάση είναι 1.5 φορά πιο συχνή από κάποια άλλη)"
      ]
    },
    {
      "cell_type": "markdown",
      "metadata": {
        "id": "cQKxNwRwnFS7"
      },
      "source": [
        "### **Διαχείριση missing values**"
      ]
    },
    {
      "cell_type": "code",
      "metadata": {
        "id": "PUuCpZKfMDwm",
        "colab": {
          "base_uri": "https://localhost:8080/",
          "height": 669
        },
        "outputId": "891045f5-ebb9-40b3-bf54-9b25c9b27a10"
      },
      "source": [
        "df.tail(20)"
      ],
      "execution_count": null,
      "outputs": [
        {
          "output_type": "execute_result",
          "data": {
            "text/html": [
              "<div>\n",
              "<style scoped>\n",
              "    .dataframe tbody tr th:only-of-type {\n",
              "        vertical-align: middle;\n",
              "    }\n",
              "\n",
              "    .dataframe tbody tr th {\n",
              "        vertical-align: top;\n",
              "    }\n",
              "\n",
              "    .dataframe thead th {\n",
              "        text-align: right;\n",
              "    }\n",
              "</style>\n",
              "<table border=\"1\" class=\"dataframe\">\n",
              "  <thead>\n",
              "    <tr style=\"text-align: right;\">\n",
              "      <th></th>\n",
              "      <th>0</th>\n",
              "      <th>1</th>\n",
              "      <th>2</th>\n",
              "      <th>3</th>\n",
              "      <th>4</th>\n",
              "      <th>5</th>\n",
              "      <th>6</th>\n",
              "      <th>7</th>\n",
              "      <th>8</th>\n",
              "      <th>9</th>\n",
              "      <th>10</th>\n",
              "      <th>11</th>\n",
              "      <th>12</th>\n",
              "      <th>13</th>\n",
              "      <th>14</th>\n",
              "      <th>15</th>\n",
              "    </tr>\n",
              "  </thead>\n",
              "  <tbody>\n",
              "    <tr>\n",
              "      <th>670</th>\n",
              "      <td>b</td>\n",
              "      <td>47.17</td>\n",
              "      <td>5.835</td>\n",
              "      <td>u</td>\n",
              "      <td>g</td>\n",
              "      <td>w</td>\n",
              "      <td>v</td>\n",
              "      <td>5.500</td>\n",
              "      <td>f</td>\n",
              "      <td>f</td>\n",
              "      <td>0</td>\n",
              "      <td>f</td>\n",
              "      <td>g</td>\n",
              "      <td>00465</td>\n",
              "      <td>150</td>\n",
              "      <td>-</td>\n",
              "    </tr>\n",
              "    <tr>\n",
              "      <th>671</th>\n",
              "      <td>b</td>\n",
              "      <td>25.83</td>\n",
              "      <td>12.835</td>\n",
              "      <td>u</td>\n",
              "      <td>g</td>\n",
              "      <td>cc</td>\n",
              "      <td>v</td>\n",
              "      <td>0.500</td>\n",
              "      <td>f</td>\n",
              "      <td>f</td>\n",
              "      <td>0</td>\n",
              "      <td>f</td>\n",
              "      <td>g</td>\n",
              "      <td>00000</td>\n",
              "      <td>2</td>\n",
              "      <td>-</td>\n",
              "    </tr>\n",
              "    <tr>\n",
              "      <th>672</th>\n",
              "      <td>a</td>\n",
              "      <td>50.25</td>\n",
              "      <td>0.835</td>\n",
              "      <td>u</td>\n",
              "      <td>g</td>\n",
              "      <td>aa</td>\n",
              "      <td>v</td>\n",
              "      <td>0.500</td>\n",
              "      <td>f</td>\n",
              "      <td>f</td>\n",
              "      <td>0</td>\n",
              "      <td>t</td>\n",
              "      <td>g</td>\n",
              "      <td>00240</td>\n",
              "      <td>117</td>\n",
              "      <td>-</td>\n",
              "    </tr>\n",
              "    <tr>\n",
              "      <th>673</th>\n",
              "      <td>?</td>\n",
              "      <td>29.50</td>\n",
              "      <td>2.000</td>\n",
              "      <td>y</td>\n",
              "      <td>p</td>\n",
              "      <td>e</td>\n",
              "      <td>h</td>\n",
              "      <td>2.000</td>\n",
              "      <td>f</td>\n",
              "      <td>f</td>\n",
              "      <td>0</td>\n",
              "      <td>f</td>\n",
              "      <td>g</td>\n",
              "      <td>00256</td>\n",
              "      <td>17</td>\n",
              "      <td>-</td>\n",
              "    </tr>\n",
              "    <tr>\n",
              "      <th>674</th>\n",
              "      <td>a</td>\n",
              "      <td>37.33</td>\n",
              "      <td>2.500</td>\n",
              "      <td>u</td>\n",
              "      <td>g</td>\n",
              "      <td>i</td>\n",
              "      <td>h</td>\n",
              "      <td>0.210</td>\n",
              "      <td>f</td>\n",
              "      <td>f</td>\n",
              "      <td>0</td>\n",
              "      <td>f</td>\n",
              "      <td>g</td>\n",
              "      <td>00260</td>\n",
              "      <td>246</td>\n",
              "      <td>-</td>\n",
              "    </tr>\n",
              "    <tr>\n",
              "      <th>675</th>\n",
              "      <td>a</td>\n",
              "      <td>41.58</td>\n",
              "      <td>1.040</td>\n",
              "      <td>u</td>\n",
              "      <td>g</td>\n",
              "      <td>aa</td>\n",
              "      <td>v</td>\n",
              "      <td>0.665</td>\n",
              "      <td>f</td>\n",
              "      <td>f</td>\n",
              "      <td>0</td>\n",
              "      <td>f</td>\n",
              "      <td>g</td>\n",
              "      <td>00240</td>\n",
              "      <td>237</td>\n",
              "      <td>-</td>\n",
              "    </tr>\n",
              "    <tr>\n",
              "      <th>676</th>\n",
              "      <td>a</td>\n",
              "      <td>30.58</td>\n",
              "      <td>10.665</td>\n",
              "      <td>u</td>\n",
              "      <td>g</td>\n",
              "      <td>q</td>\n",
              "      <td>h</td>\n",
              "      <td>0.085</td>\n",
              "      <td>f</td>\n",
              "      <td>t</td>\n",
              "      <td>12</td>\n",
              "      <td>t</td>\n",
              "      <td>g</td>\n",
              "      <td>00129</td>\n",
              "      <td>3</td>\n",
              "      <td>-</td>\n",
              "    </tr>\n",
              "    <tr>\n",
              "      <th>677</th>\n",
              "      <td>b</td>\n",
              "      <td>19.42</td>\n",
              "      <td>7.250</td>\n",
              "      <td>u</td>\n",
              "      <td>g</td>\n",
              "      <td>m</td>\n",
              "      <td>v</td>\n",
              "      <td>0.040</td>\n",
              "      <td>f</td>\n",
              "      <td>t</td>\n",
              "      <td>1</td>\n",
              "      <td>f</td>\n",
              "      <td>g</td>\n",
              "      <td>00100</td>\n",
              "      <td>1</td>\n",
              "      <td>-</td>\n",
              "    </tr>\n",
              "    <tr>\n",
              "      <th>678</th>\n",
              "      <td>a</td>\n",
              "      <td>17.92</td>\n",
              "      <td>10.210</td>\n",
              "      <td>u</td>\n",
              "      <td>g</td>\n",
              "      <td>ff</td>\n",
              "      <td>ff</td>\n",
              "      <td>0.000</td>\n",
              "      <td>f</td>\n",
              "      <td>f</td>\n",
              "      <td>0</td>\n",
              "      <td>f</td>\n",
              "      <td>g</td>\n",
              "      <td>00000</td>\n",
              "      <td>50</td>\n",
              "      <td>-</td>\n",
              "    </tr>\n",
              "    <tr>\n",
              "      <th>679</th>\n",
              "      <td>a</td>\n",
              "      <td>20.08</td>\n",
              "      <td>1.250</td>\n",
              "      <td>u</td>\n",
              "      <td>g</td>\n",
              "      <td>c</td>\n",
              "      <td>v</td>\n",
              "      <td>0.000</td>\n",
              "      <td>f</td>\n",
              "      <td>f</td>\n",
              "      <td>0</td>\n",
              "      <td>f</td>\n",
              "      <td>g</td>\n",
              "      <td>00000</td>\n",
              "      <td>0</td>\n",
              "      <td>-</td>\n",
              "    </tr>\n",
              "    <tr>\n",
              "      <th>680</th>\n",
              "      <td>b</td>\n",
              "      <td>19.50</td>\n",
              "      <td>0.290</td>\n",
              "      <td>u</td>\n",
              "      <td>g</td>\n",
              "      <td>k</td>\n",
              "      <td>v</td>\n",
              "      <td>0.290</td>\n",
              "      <td>f</td>\n",
              "      <td>f</td>\n",
              "      <td>0</td>\n",
              "      <td>f</td>\n",
              "      <td>g</td>\n",
              "      <td>00280</td>\n",
              "      <td>364</td>\n",
              "      <td>-</td>\n",
              "    </tr>\n",
              "    <tr>\n",
              "      <th>681</th>\n",
              "      <td>b</td>\n",
              "      <td>27.83</td>\n",
              "      <td>1.000</td>\n",
              "      <td>y</td>\n",
              "      <td>p</td>\n",
              "      <td>d</td>\n",
              "      <td>h</td>\n",
              "      <td>3.000</td>\n",
              "      <td>f</td>\n",
              "      <td>f</td>\n",
              "      <td>0</td>\n",
              "      <td>f</td>\n",
              "      <td>g</td>\n",
              "      <td>00176</td>\n",
              "      <td>537</td>\n",
              "      <td>-</td>\n",
              "    </tr>\n",
              "    <tr>\n",
              "      <th>682</th>\n",
              "      <td>b</td>\n",
              "      <td>17.08</td>\n",
              "      <td>3.290</td>\n",
              "      <td>u</td>\n",
              "      <td>g</td>\n",
              "      <td>i</td>\n",
              "      <td>v</td>\n",
              "      <td>0.335</td>\n",
              "      <td>f</td>\n",
              "      <td>f</td>\n",
              "      <td>0</td>\n",
              "      <td>t</td>\n",
              "      <td>g</td>\n",
              "      <td>00140</td>\n",
              "      <td>2</td>\n",
              "      <td>-</td>\n",
              "    </tr>\n",
              "    <tr>\n",
              "      <th>683</th>\n",
              "      <td>b</td>\n",
              "      <td>36.42</td>\n",
              "      <td>0.750</td>\n",
              "      <td>y</td>\n",
              "      <td>p</td>\n",
              "      <td>d</td>\n",
              "      <td>v</td>\n",
              "      <td>0.585</td>\n",
              "      <td>f</td>\n",
              "      <td>f</td>\n",
              "      <td>0</td>\n",
              "      <td>f</td>\n",
              "      <td>g</td>\n",
              "      <td>00240</td>\n",
              "      <td>3</td>\n",
              "      <td>-</td>\n",
              "    </tr>\n",
              "    <tr>\n",
              "      <th>684</th>\n",
              "      <td>b</td>\n",
              "      <td>40.58</td>\n",
              "      <td>3.290</td>\n",
              "      <td>u</td>\n",
              "      <td>g</td>\n",
              "      <td>m</td>\n",
              "      <td>v</td>\n",
              "      <td>3.500</td>\n",
              "      <td>f</td>\n",
              "      <td>f</td>\n",
              "      <td>0</td>\n",
              "      <td>t</td>\n",
              "      <td>s</td>\n",
              "      <td>00400</td>\n",
              "      <td>0</td>\n",
              "      <td>-</td>\n",
              "    </tr>\n",
              "    <tr>\n",
              "      <th>685</th>\n",
              "      <td>b</td>\n",
              "      <td>21.08</td>\n",
              "      <td>10.085</td>\n",
              "      <td>y</td>\n",
              "      <td>p</td>\n",
              "      <td>e</td>\n",
              "      <td>h</td>\n",
              "      <td>1.250</td>\n",
              "      <td>f</td>\n",
              "      <td>f</td>\n",
              "      <td>0</td>\n",
              "      <td>f</td>\n",
              "      <td>g</td>\n",
              "      <td>00260</td>\n",
              "      <td>0</td>\n",
              "      <td>-</td>\n",
              "    </tr>\n",
              "    <tr>\n",
              "      <th>686</th>\n",
              "      <td>a</td>\n",
              "      <td>22.67</td>\n",
              "      <td>0.750</td>\n",
              "      <td>u</td>\n",
              "      <td>g</td>\n",
              "      <td>c</td>\n",
              "      <td>v</td>\n",
              "      <td>2.000</td>\n",
              "      <td>f</td>\n",
              "      <td>t</td>\n",
              "      <td>2</td>\n",
              "      <td>t</td>\n",
              "      <td>g</td>\n",
              "      <td>00200</td>\n",
              "      <td>394</td>\n",
              "      <td>-</td>\n",
              "    </tr>\n",
              "    <tr>\n",
              "      <th>687</th>\n",
              "      <td>a</td>\n",
              "      <td>25.25</td>\n",
              "      <td>13.500</td>\n",
              "      <td>y</td>\n",
              "      <td>p</td>\n",
              "      <td>ff</td>\n",
              "      <td>ff</td>\n",
              "      <td>2.000</td>\n",
              "      <td>f</td>\n",
              "      <td>t</td>\n",
              "      <td>1</td>\n",
              "      <td>t</td>\n",
              "      <td>g</td>\n",
              "      <td>00200</td>\n",
              "      <td>1</td>\n",
              "      <td>-</td>\n",
              "    </tr>\n",
              "    <tr>\n",
              "      <th>688</th>\n",
              "      <td>b</td>\n",
              "      <td>17.92</td>\n",
              "      <td>0.205</td>\n",
              "      <td>u</td>\n",
              "      <td>g</td>\n",
              "      <td>aa</td>\n",
              "      <td>v</td>\n",
              "      <td>0.040</td>\n",
              "      <td>f</td>\n",
              "      <td>f</td>\n",
              "      <td>0</td>\n",
              "      <td>f</td>\n",
              "      <td>g</td>\n",
              "      <td>00280</td>\n",
              "      <td>750</td>\n",
              "      <td>-</td>\n",
              "    </tr>\n",
              "    <tr>\n",
              "      <th>689</th>\n",
              "      <td>b</td>\n",
              "      <td>35.00</td>\n",
              "      <td>3.375</td>\n",
              "      <td>u</td>\n",
              "      <td>g</td>\n",
              "      <td>c</td>\n",
              "      <td>h</td>\n",
              "      <td>8.290</td>\n",
              "      <td>f</td>\n",
              "      <td>f</td>\n",
              "      <td>0</td>\n",
              "      <td>t</td>\n",
              "      <td>g</td>\n",
              "      <td>00000</td>\n",
              "      <td>0</td>\n",
              "      <td>-</td>\n",
              "    </tr>\n",
              "  </tbody>\n",
              "</table>\n",
              "</div>"
            ],
            "text/plain": [
              "    0      1       2  3  4   5   6      7  8  9   10 11 12     13   14 15\n",
              "670  b  47.17   5.835  u  g   w   v  5.500  f  f   0  f  g  00465  150  -\n",
              "671  b  25.83  12.835  u  g  cc   v  0.500  f  f   0  f  g  00000    2  -\n",
              "672  a  50.25   0.835  u  g  aa   v  0.500  f  f   0  t  g  00240  117  -\n",
              "673  ?  29.50   2.000  y  p   e   h  2.000  f  f   0  f  g  00256   17  -\n",
              "674  a  37.33   2.500  u  g   i   h  0.210  f  f   0  f  g  00260  246  -\n",
              "675  a  41.58   1.040  u  g  aa   v  0.665  f  f   0  f  g  00240  237  -\n",
              "676  a  30.58  10.665  u  g   q   h  0.085  f  t  12  t  g  00129    3  -\n",
              "677  b  19.42   7.250  u  g   m   v  0.040  f  t   1  f  g  00100    1  -\n",
              "678  a  17.92  10.210  u  g  ff  ff  0.000  f  f   0  f  g  00000   50  -\n",
              "679  a  20.08   1.250  u  g   c   v  0.000  f  f   0  f  g  00000    0  -\n",
              "680  b  19.50   0.290  u  g   k   v  0.290  f  f   0  f  g  00280  364  -\n",
              "681  b  27.83   1.000  y  p   d   h  3.000  f  f   0  f  g  00176  537  -\n",
              "682  b  17.08   3.290  u  g   i   v  0.335  f  f   0  t  g  00140    2  -\n",
              "683  b  36.42   0.750  y  p   d   v  0.585  f  f   0  f  g  00240    3  -\n",
              "684  b  40.58   3.290  u  g   m   v  3.500  f  f   0  t  s  00400    0  -\n",
              "685  b  21.08  10.085  y  p   e   h  1.250  f  f   0  f  g  00260    0  -\n",
              "686  a  22.67   0.750  u  g   c   v  2.000  f  t   2  t  g  00200  394  -\n",
              "687  a  25.25  13.500  y  p  ff  ff  2.000  f  t   1  t  g  00200    1  -\n",
              "688  b  17.92   0.205  u  g  aa   v  0.040  f  f   0  f  g  00280  750  -\n",
              "689  b  35.00   3.375  u  g   c   h  8.290  f  f   0  t  g  00000    0  -"
            ]
          },
          "metadata": {
            "tags": []
          },
          "execution_count": 6
        }
      ]
    },
    {
      "cell_type": "markdown",
      "metadata": {
        "id": "JsaTlxKHNcrt"
      },
      "source": [
        "Όπως παρατηρούμε εδώ τα missing values επισημαίνονται με ερωτηματικό,οπότε αρχικά εμείς θα το αντικαταστήσουμε με ΝaN(\"Not a Number\")"
      ]
    },
    {
      "cell_type": "code",
      "metadata": {
        "id": "0OF8LtaZOC7j",
        "colab": {
          "base_uri": "https://localhost:8080/",
          "height": 669
        },
        "outputId": "7b4b63fa-30d2-4503-b894-9dced8e9e450"
      },
      "source": [
        "import numpy as np\n",
        "\n",
        "df = df.replace(\"?\",np.NaN)\n",
        "df.tail(20)"
      ],
      "execution_count": null,
      "outputs": [
        {
          "output_type": "execute_result",
          "data": {
            "text/html": [
              "<div>\n",
              "<style scoped>\n",
              "    .dataframe tbody tr th:only-of-type {\n",
              "        vertical-align: middle;\n",
              "    }\n",
              "\n",
              "    .dataframe tbody tr th {\n",
              "        vertical-align: top;\n",
              "    }\n",
              "\n",
              "    .dataframe thead th {\n",
              "        text-align: right;\n",
              "    }\n",
              "</style>\n",
              "<table border=\"1\" class=\"dataframe\">\n",
              "  <thead>\n",
              "    <tr style=\"text-align: right;\">\n",
              "      <th></th>\n",
              "      <th>0</th>\n",
              "      <th>1</th>\n",
              "      <th>2</th>\n",
              "      <th>3</th>\n",
              "      <th>4</th>\n",
              "      <th>5</th>\n",
              "      <th>6</th>\n",
              "      <th>7</th>\n",
              "      <th>8</th>\n",
              "      <th>9</th>\n",
              "      <th>10</th>\n",
              "      <th>11</th>\n",
              "      <th>12</th>\n",
              "      <th>13</th>\n",
              "      <th>14</th>\n",
              "      <th>15</th>\n",
              "    </tr>\n",
              "  </thead>\n",
              "  <tbody>\n",
              "    <tr>\n",
              "      <th>670</th>\n",
              "      <td>b</td>\n",
              "      <td>47.17</td>\n",
              "      <td>5.835</td>\n",
              "      <td>u</td>\n",
              "      <td>g</td>\n",
              "      <td>w</td>\n",
              "      <td>v</td>\n",
              "      <td>5.500</td>\n",
              "      <td>f</td>\n",
              "      <td>f</td>\n",
              "      <td>0</td>\n",
              "      <td>f</td>\n",
              "      <td>g</td>\n",
              "      <td>00465</td>\n",
              "      <td>150</td>\n",
              "      <td>-</td>\n",
              "    </tr>\n",
              "    <tr>\n",
              "      <th>671</th>\n",
              "      <td>b</td>\n",
              "      <td>25.83</td>\n",
              "      <td>12.835</td>\n",
              "      <td>u</td>\n",
              "      <td>g</td>\n",
              "      <td>cc</td>\n",
              "      <td>v</td>\n",
              "      <td>0.500</td>\n",
              "      <td>f</td>\n",
              "      <td>f</td>\n",
              "      <td>0</td>\n",
              "      <td>f</td>\n",
              "      <td>g</td>\n",
              "      <td>00000</td>\n",
              "      <td>2</td>\n",
              "      <td>-</td>\n",
              "    </tr>\n",
              "    <tr>\n",
              "      <th>672</th>\n",
              "      <td>a</td>\n",
              "      <td>50.25</td>\n",
              "      <td>0.835</td>\n",
              "      <td>u</td>\n",
              "      <td>g</td>\n",
              "      <td>aa</td>\n",
              "      <td>v</td>\n",
              "      <td>0.500</td>\n",
              "      <td>f</td>\n",
              "      <td>f</td>\n",
              "      <td>0</td>\n",
              "      <td>t</td>\n",
              "      <td>g</td>\n",
              "      <td>00240</td>\n",
              "      <td>117</td>\n",
              "      <td>-</td>\n",
              "    </tr>\n",
              "    <tr>\n",
              "      <th>673</th>\n",
              "      <td>NaN</td>\n",
              "      <td>29.50</td>\n",
              "      <td>2.000</td>\n",
              "      <td>y</td>\n",
              "      <td>p</td>\n",
              "      <td>e</td>\n",
              "      <td>h</td>\n",
              "      <td>2.000</td>\n",
              "      <td>f</td>\n",
              "      <td>f</td>\n",
              "      <td>0</td>\n",
              "      <td>f</td>\n",
              "      <td>g</td>\n",
              "      <td>00256</td>\n",
              "      <td>17</td>\n",
              "      <td>-</td>\n",
              "    </tr>\n",
              "    <tr>\n",
              "      <th>674</th>\n",
              "      <td>a</td>\n",
              "      <td>37.33</td>\n",
              "      <td>2.500</td>\n",
              "      <td>u</td>\n",
              "      <td>g</td>\n",
              "      <td>i</td>\n",
              "      <td>h</td>\n",
              "      <td>0.210</td>\n",
              "      <td>f</td>\n",
              "      <td>f</td>\n",
              "      <td>0</td>\n",
              "      <td>f</td>\n",
              "      <td>g</td>\n",
              "      <td>00260</td>\n",
              "      <td>246</td>\n",
              "      <td>-</td>\n",
              "    </tr>\n",
              "    <tr>\n",
              "      <th>675</th>\n",
              "      <td>a</td>\n",
              "      <td>41.58</td>\n",
              "      <td>1.040</td>\n",
              "      <td>u</td>\n",
              "      <td>g</td>\n",
              "      <td>aa</td>\n",
              "      <td>v</td>\n",
              "      <td>0.665</td>\n",
              "      <td>f</td>\n",
              "      <td>f</td>\n",
              "      <td>0</td>\n",
              "      <td>f</td>\n",
              "      <td>g</td>\n",
              "      <td>00240</td>\n",
              "      <td>237</td>\n",
              "      <td>-</td>\n",
              "    </tr>\n",
              "    <tr>\n",
              "      <th>676</th>\n",
              "      <td>a</td>\n",
              "      <td>30.58</td>\n",
              "      <td>10.665</td>\n",
              "      <td>u</td>\n",
              "      <td>g</td>\n",
              "      <td>q</td>\n",
              "      <td>h</td>\n",
              "      <td>0.085</td>\n",
              "      <td>f</td>\n",
              "      <td>t</td>\n",
              "      <td>12</td>\n",
              "      <td>t</td>\n",
              "      <td>g</td>\n",
              "      <td>00129</td>\n",
              "      <td>3</td>\n",
              "      <td>-</td>\n",
              "    </tr>\n",
              "    <tr>\n",
              "      <th>677</th>\n",
              "      <td>b</td>\n",
              "      <td>19.42</td>\n",
              "      <td>7.250</td>\n",
              "      <td>u</td>\n",
              "      <td>g</td>\n",
              "      <td>m</td>\n",
              "      <td>v</td>\n",
              "      <td>0.040</td>\n",
              "      <td>f</td>\n",
              "      <td>t</td>\n",
              "      <td>1</td>\n",
              "      <td>f</td>\n",
              "      <td>g</td>\n",
              "      <td>00100</td>\n",
              "      <td>1</td>\n",
              "      <td>-</td>\n",
              "    </tr>\n",
              "    <tr>\n",
              "      <th>678</th>\n",
              "      <td>a</td>\n",
              "      <td>17.92</td>\n",
              "      <td>10.210</td>\n",
              "      <td>u</td>\n",
              "      <td>g</td>\n",
              "      <td>ff</td>\n",
              "      <td>ff</td>\n",
              "      <td>0.000</td>\n",
              "      <td>f</td>\n",
              "      <td>f</td>\n",
              "      <td>0</td>\n",
              "      <td>f</td>\n",
              "      <td>g</td>\n",
              "      <td>00000</td>\n",
              "      <td>50</td>\n",
              "      <td>-</td>\n",
              "    </tr>\n",
              "    <tr>\n",
              "      <th>679</th>\n",
              "      <td>a</td>\n",
              "      <td>20.08</td>\n",
              "      <td>1.250</td>\n",
              "      <td>u</td>\n",
              "      <td>g</td>\n",
              "      <td>c</td>\n",
              "      <td>v</td>\n",
              "      <td>0.000</td>\n",
              "      <td>f</td>\n",
              "      <td>f</td>\n",
              "      <td>0</td>\n",
              "      <td>f</td>\n",
              "      <td>g</td>\n",
              "      <td>00000</td>\n",
              "      <td>0</td>\n",
              "      <td>-</td>\n",
              "    </tr>\n",
              "    <tr>\n",
              "      <th>680</th>\n",
              "      <td>b</td>\n",
              "      <td>19.50</td>\n",
              "      <td>0.290</td>\n",
              "      <td>u</td>\n",
              "      <td>g</td>\n",
              "      <td>k</td>\n",
              "      <td>v</td>\n",
              "      <td>0.290</td>\n",
              "      <td>f</td>\n",
              "      <td>f</td>\n",
              "      <td>0</td>\n",
              "      <td>f</td>\n",
              "      <td>g</td>\n",
              "      <td>00280</td>\n",
              "      <td>364</td>\n",
              "      <td>-</td>\n",
              "    </tr>\n",
              "    <tr>\n",
              "      <th>681</th>\n",
              "      <td>b</td>\n",
              "      <td>27.83</td>\n",
              "      <td>1.000</td>\n",
              "      <td>y</td>\n",
              "      <td>p</td>\n",
              "      <td>d</td>\n",
              "      <td>h</td>\n",
              "      <td>3.000</td>\n",
              "      <td>f</td>\n",
              "      <td>f</td>\n",
              "      <td>0</td>\n",
              "      <td>f</td>\n",
              "      <td>g</td>\n",
              "      <td>00176</td>\n",
              "      <td>537</td>\n",
              "      <td>-</td>\n",
              "    </tr>\n",
              "    <tr>\n",
              "      <th>682</th>\n",
              "      <td>b</td>\n",
              "      <td>17.08</td>\n",
              "      <td>3.290</td>\n",
              "      <td>u</td>\n",
              "      <td>g</td>\n",
              "      <td>i</td>\n",
              "      <td>v</td>\n",
              "      <td>0.335</td>\n",
              "      <td>f</td>\n",
              "      <td>f</td>\n",
              "      <td>0</td>\n",
              "      <td>t</td>\n",
              "      <td>g</td>\n",
              "      <td>00140</td>\n",
              "      <td>2</td>\n",
              "      <td>-</td>\n",
              "    </tr>\n",
              "    <tr>\n",
              "      <th>683</th>\n",
              "      <td>b</td>\n",
              "      <td>36.42</td>\n",
              "      <td>0.750</td>\n",
              "      <td>y</td>\n",
              "      <td>p</td>\n",
              "      <td>d</td>\n",
              "      <td>v</td>\n",
              "      <td>0.585</td>\n",
              "      <td>f</td>\n",
              "      <td>f</td>\n",
              "      <td>0</td>\n",
              "      <td>f</td>\n",
              "      <td>g</td>\n",
              "      <td>00240</td>\n",
              "      <td>3</td>\n",
              "      <td>-</td>\n",
              "    </tr>\n",
              "    <tr>\n",
              "      <th>684</th>\n",
              "      <td>b</td>\n",
              "      <td>40.58</td>\n",
              "      <td>3.290</td>\n",
              "      <td>u</td>\n",
              "      <td>g</td>\n",
              "      <td>m</td>\n",
              "      <td>v</td>\n",
              "      <td>3.500</td>\n",
              "      <td>f</td>\n",
              "      <td>f</td>\n",
              "      <td>0</td>\n",
              "      <td>t</td>\n",
              "      <td>s</td>\n",
              "      <td>00400</td>\n",
              "      <td>0</td>\n",
              "      <td>-</td>\n",
              "    </tr>\n",
              "    <tr>\n",
              "      <th>685</th>\n",
              "      <td>b</td>\n",
              "      <td>21.08</td>\n",
              "      <td>10.085</td>\n",
              "      <td>y</td>\n",
              "      <td>p</td>\n",
              "      <td>e</td>\n",
              "      <td>h</td>\n",
              "      <td>1.250</td>\n",
              "      <td>f</td>\n",
              "      <td>f</td>\n",
              "      <td>0</td>\n",
              "      <td>f</td>\n",
              "      <td>g</td>\n",
              "      <td>00260</td>\n",
              "      <td>0</td>\n",
              "      <td>-</td>\n",
              "    </tr>\n",
              "    <tr>\n",
              "      <th>686</th>\n",
              "      <td>a</td>\n",
              "      <td>22.67</td>\n",
              "      <td>0.750</td>\n",
              "      <td>u</td>\n",
              "      <td>g</td>\n",
              "      <td>c</td>\n",
              "      <td>v</td>\n",
              "      <td>2.000</td>\n",
              "      <td>f</td>\n",
              "      <td>t</td>\n",
              "      <td>2</td>\n",
              "      <td>t</td>\n",
              "      <td>g</td>\n",
              "      <td>00200</td>\n",
              "      <td>394</td>\n",
              "      <td>-</td>\n",
              "    </tr>\n",
              "    <tr>\n",
              "      <th>687</th>\n",
              "      <td>a</td>\n",
              "      <td>25.25</td>\n",
              "      <td>13.500</td>\n",
              "      <td>y</td>\n",
              "      <td>p</td>\n",
              "      <td>ff</td>\n",
              "      <td>ff</td>\n",
              "      <td>2.000</td>\n",
              "      <td>f</td>\n",
              "      <td>t</td>\n",
              "      <td>1</td>\n",
              "      <td>t</td>\n",
              "      <td>g</td>\n",
              "      <td>00200</td>\n",
              "      <td>1</td>\n",
              "      <td>-</td>\n",
              "    </tr>\n",
              "    <tr>\n",
              "      <th>688</th>\n",
              "      <td>b</td>\n",
              "      <td>17.92</td>\n",
              "      <td>0.205</td>\n",
              "      <td>u</td>\n",
              "      <td>g</td>\n",
              "      <td>aa</td>\n",
              "      <td>v</td>\n",
              "      <td>0.040</td>\n",
              "      <td>f</td>\n",
              "      <td>f</td>\n",
              "      <td>0</td>\n",
              "      <td>f</td>\n",
              "      <td>g</td>\n",
              "      <td>00280</td>\n",
              "      <td>750</td>\n",
              "      <td>-</td>\n",
              "    </tr>\n",
              "    <tr>\n",
              "      <th>689</th>\n",
              "      <td>b</td>\n",
              "      <td>35.00</td>\n",
              "      <td>3.375</td>\n",
              "      <td>u</td>\n",
              "      <td>g</td>\n",
              "      <td>c</td>\n",
              "      <td>h</td>\n",
              "      <td>8.290</td>\n",
              "      <td>f</td>\n",
              "      <td>f</td>\n",
              "      <td>0</td>\n",
              "      <td>t</td>\n",
              "      <td>g</td>\n",
              "      <td>00000</td>\n",
              "      <td>0</td>\n",
              "      <td>-</td>\n",
              "    </tr>\n",
              "  </tbody>\n",
              "</table>\n",
              "</div>"
            ],
            "text/plain": [
              "      0      1       2  3  4   5   6      7  8  9   10 11 12     13   14 15\n",
              "670    b  47.17   5.835  u  g   w   v  5.500  f  f   0  f  g  00465  150  -\n",
              "671    b  25.83  12.835  u  g  cc   v  0.500  f  f   0  f  g  00000    2  -\n",
              "672    a  50.25   0.835  u  g  aa   v  0.500  f  f   0  t  g  00240  117  -\n",
              "673  NaN  29.50   2.000  y  p   e   h  2.000  f  f   0  f  g  00256   17  -\n",
              "674    a  37.33   2.500  u  g   i   h  0.210  f  f   0  f  g  00260  246  -\n",
              "675    a  41.58   1.040  u  g  aa   v  0.665  f  f   0  f  g  00240  237  -\n",
              "676    a  30.58  10.665  u  g   q   h  0.085  f  t  12  t  g  00129    3  -\n",
              "677    b  19.42   7.250  u  g   m   v  0.040  f  t   1  f  g  00100    1  -\n",
              "678    a  17.92  10.210  u  g  ff  ff  0.000  f  f   0  f  g  00000   50  -\n",
              "679    a  20.08   1.250  u  g   c   v  0.000  f  f   0  f  g  00000    0  -\n",
              "680    b  19.50   0.290  u  g   k   v  0.290  f  f   0  f  g  00280  364  -\n",
              "681    b  27.83   1.000  y  p   d   h  3.000  f  f   0  f  g  00176  537  -\n",
              "682    b  17.08   3.290  u  g   i   v  0.335  f  f   0  t  g  00140    2  -\n",
              "683    b  36.42   0.750  y  p   d   v  0.585  f  f   0  f  g  00240    3  -\n",
              "684    b  40.58   3.290  u  g   m   v  3.500  f  f   0  t  s  00400    0  -\n",
              "685    b  21.08  10.085  y  p   e   h  1.250  f  f   0  f  g  00260    0  -\n",
              "686    a  22.67   0.750  u  g   c   v  2.000  f  t   2  t  g  00200  394  -\n",
              "687    a  25.25  13.500  y  p  ff  ff  2.000  f  t   1  t  g  00200    1  -\n",
              "688    b  17.92   0.205  u  g  aa   v  0.040  f  f   0  f  g  00280  750  -\n",
              "689    b  35.00   3.375  u  g   c   h  8.290  f  f   0  t  g  00000    0  -"
            ]
          },
          "metadata": {
            "tags": []
          },
          "execution_count": 7
        }
      ]
    },
    {
      "cell_type": "markdown",
      "metadata": {
        "id": "RoC2s1t-Or2a"
      },
      "source": [
        "Μια στρατηγική για την διαχείριση αυτών των τιμών θα ήταν να αφαιρέσουμε τα δείγματα (γραμμές) που έχουν χαρακτηριστικά με απουσιάζουσες τιμές ή παρόμοια τα χαρακτηριστικά αν σε κάποια δείγματα απουσιάζουν τιμές.\n",
        "Ωστόσο ειδικά αν απουσιάζουν πολλές τιμές, συνήθως δεν θέλουμε να θυσιάσουμε δεδομένα (δείγματα ) ούτε να αφαιρέσουμε χαρακτηριστικά που μπορεί να περιλαμβάνουν σημαντική πληροφορία για το διαχωρισμό των κλάσεων καθώς θα επηρεάστεί σε μεγάλο βαθμό η απόδοση ενός μοντέλου μηχανικής εκμάθησης.\n",
        "\n",
        "Οπότε θα  αντικαταστήσουμε κάθε απουσιάζουσα τιμή χαρακτηριστικού με τη μέση τιμή (αριθμητικές μεταβλητές) ή την πιο συχνή τιμή (κατηγορικές μεταβλητές) του χαρακτηριστικού.\n",
        "\n",
        "Παρατηρούμε τώρα ότι αυτές οι απουσιάζουσες τιμές στο δικό μας dataset αφορούν μόνο κατηγορικές μεταβλητές,όπως φαίνεται απο τον πίνακα που παρουσιάστηκε παραπάνω , οπότε θα τις αντικαταστήσουμε με την πιο συχνή τιμή του χαρακτηριστικόυ (η προσέγγιση της μέσης τιμής δεν δουλεύει εδώ)\n"
      ]
    },
    {
      "cell_type": "code",
      "metadata": {
        "id": "A3-znx9zl6vT",
        "colab": {
          "base_uri": "https://localhost:8080/"
        },
        "outputId": "40ee1d60-3bae-4a8f-ed98-bee32e978792"
      },
      "source": [
        "#Συνολικά missing values (επιβεβαιώνουμε τα δεδομένα του πίνακα που παρουσιάστηκε παραπάνω)\n",
        "print(df.isnull().values.sum())"
      ],
      "execution_count": null,
      "outputs": [
        {
          "output_type": "stream",
          "text": [
            "67\n"
          ],
          "name": "stdout"
        }
      ]
    },
    {
      "cell_type": "code",
      "metadata": {
        "id": "b0ne4q2umqkt",
        "colab": {
          "base_uri": "https://localhost:8080/",
          "height": 686
        },
        "outputId": "1015c52e-a213-4256-cbee-666102911aed"
      },
      "source": [
        "# για κάθε στήλη που αντιστοιχεί σε κατηγορική μεταβλητή\n",
        "# αντικαθιστούμε με την πιο συχνή τιμή\n",
        "for col in df.columns:\n",
        "    if df[col].dtypes == 'object':\n",
        "        df[col] = df[col].fillna(df[col].value_counts().index[0])\n",
        "\n",
        "#ελέγχουμε αν αντικαταστάθηκαν επιτυχώς ολα τα NaN\n",
        "print(df.isnull().values.sum())\n",
        "df.tail(20)\n",
        "\n"
      ],
      "execution_count": null,
      "outputs": [
        {
          "output_type": "stream",
          "text": [
            "0\n"
          ],
          "name": "stdout"
        },
        {
          "output_type": "execute_result",
          "data": {
            "text/html": [
              "<div>\n",
              "<style scoped>\n",
              "    .dataframe tbody tr th:only-of-type {\n",
              "        vertical-align: middle;\n",
              "    }\n",
              "\n",
              "    .dataframe tbody tr th {\n",
              "        vertical-align: top;\n",
              "    }\n",
              "\n",
              "    .dataframe thead th {\n",
              "        text-align: right;\n",
              "    }\n",
              "</style>\n",
              "<table border=\"1\" class=\"dataframe\">\n",
              "  <thead>\n",
              "    <tr style=\"text-align: right;\">\n",
              "      <th></th>\n",
              "      <th>0</th>\n",
              "      <th>1</th>\n",
              "      <th>2</th>\n",
              "      <th>3</th>\n",
              "      <th>4</th>\n",
              "      <th>5</th>\n",
              "      <th>6</th>\n",
              "      <th>7</th>\n",
              "      <th>8</th>\n",
              "      <th>9</th>\n",
              "      <th>10</th>\n",
              "      <th>11</th>\n",
              "      <th>12</th>\n",
              "      <th>13</th>\n",
              "      <th>14</th>\n",
              "      <th>15</th>\n",
              "    </tr>\n",
              "  </thead>\n",
              "  <tbody>\n",
              "    <tr>\n",
              "      <th>670</th>\n",
              "      <td>b</td>\n",
              "      <td>47.17</td>\n",
              "      <td>5.835</td>\n",
              "      <td>u</td>\n",
              "      <td>g</td>\n",
              "      <td>w</td>\n",
              "      <td>v</td>\n",
              "      <td>5.500</td>\n",
              "      <td>f</td>\n",
              "      <td>f</td>\n",
              "      <td>0</td>\n",
              "      <td>f</td>\n",
              "      <td>g</td>\n",
              "      <td>00465</td>\n",
              "      <td>150</td>\n",
              "      <td>-</td>\n",
              "    </tr>\n",
              "    <tr>\n",
              "      <th>671</th>\n",
              "      <td>b</td>\n",
              "      <td>25.83</td>\n",
              "      <td>12.835</td>\n",
              "      <td>u</td>\n",
              "      <td>g</td>\n",
              "      <td>cc</td>\n",
              "      <td>v</td>\n",
              "      <td>0.500</td>\n",
              "      <td>f</td>\n",
              "      <td>f</td>\n",
              "      <td>0</td>\n",
              "      <td>f</td>\n",
              "      <td>g</td>\n",
              "      <td>00000</td>\n",
              "      <td>2</td>\n",
              "      <td>-</td>\n",
              "    </tr>\n",
              "    <tr>\n",
              "      <th>672</th>\n",
              "      <td>a</td>\n",
              "      <td>50.25</td>\n",
              "      <td>0.835</td>\n",
              "      <td>u</td>\n",
              "      <td>g</td>\n",
              "      <td>aa</td>\n",
              "      <td>v</td>\n",
              "      <td>0.500</td>\n",
              "      <td>f</td>\n",
              "      <td>f</td>\n",
              "      <td>0</td>\n",
              "      <td>t</td>\n",
              "      <td>g</td>\n",
              "      <td>00240</td>\n",
              "      <td>117</td>\n",
              "      <td>-</td>\n",
              "    </tr>\n",
              "    <tr>\n",
              "      <th>673</th>\n",
              "      <td>b</td>\n",
              "      <td>29.50</td>\n",
              "      <td>2.000</td>\n",
              "      <td>y</td>\n",
              "      <td>p</td>\n",
              "      <td>e</td>\n",
              "      <td>h</td>\n",
              "      <td>2.000</td>\n",
              "      <td>f</td>\n",
              "      <td>f</td>\n",
              "      <td>0</td>\n",
              "      <td>f</td>\n",
              "      <td>g</td>\n",
              "      <td>00256</td>\n",
              "      <td>17</td>\n",
              "      <td>-</td>\n",
              "    </tr>\n",
              "    <tr>\n",
              "      <th>674</th>\n",
              "      <td>a</td>\n",
              "      <td>37.33</td>\n",
              "      <td>2.500</td>\n",
              "      <td>u</td>\n",
              "      <td>g</td>\n",
              "      <td>i</td>\n",
              "      <td>h</td>\n",
              "      <td>0.210</td>\n",
              "      <td>f</td>\n",
              "      <td>f</td>\n",
              "      <td>0</td>\n",
              "      <td>f</td>\n",
              "      <td>g</td>\n",
              "      <td>00260</td>\n",
              "      <td>246</td>\n",
              "      <td>-</td>\n",
              "    </tr>\n",
              "    <tr>\n",
              "      <th>675</th>\n",
              "      <td>a</td>\n",
              "      <td>41.58</td>\n",
              "      <td>1.040</td>\n",
              "      <td>u</td>\n",
              "      <td>g</td>\n",
              "      <td>aa</td>\n",
              "      <td>v</td>\n",
              "      <td>0.665</td>\n",
              "      <td>f</td>\n",
              "      <td>f</td>\n",
              "      <td>0</td>\n",
              "      <td>f</td>\n",
              "      <td>g</td>\n",
              "      <td>00240</td>\n",
              "      <td>237</td>\n",
              "      <td>-</td>\n",
              "    </tr>\n",
              "    <tr>\n",
              "      <th>676</th>\n",
              "      <td>a</td>\n",
              "      <td>30.58</td>\n",
              "      <td>10.665</td>\n",
              "      <td>u</td>\n",
              "      <td>g</td>\n",
              "      <td>q</td>\n",
              "      <td>h</td>\n",
              "      <td>0.085</td>\n",
              "      <td>f</td>\n",
              "      <td>t</td>\n",
              "      <td>12</td>\n",
              "      <td>t</td>\n",
              "      <td>g</td>\n",
              "      <td>00129</td>\n",
              "      <td>3</td>\n",
              "      <td>-</td>\n",
              "    </tr>\n",
              "    <tr>\n",
              "      <th>677</th>\n",
              "      <td>b</td>\n",
              "      <td>19.42</td>\n",
              "      <td>7.250</td>\n",
              "      <td>u</td>\n",
              "      <td>g</td>\n",
              "      <td>m</td>\n",
              "      <td>v</td>\n",
              "      <td>0.040</td>\n",
              "      <td>f</td>\n",
              "      <td>t</td>\n",
              "      <td>1</td>\n",
              "      <td>f</td>\n",
              "      <td>g</td>\n",
              "      <td>00100</td>\n",
              "      <td>1</td>\n",
              "      <td>-</td>\n",
              "    </tr>\n",
              "    <tr>\n",
              "      <th>678</th>\n",
              "      <td>a</td>\n",
              "      <td>17.92</td>\n",
              "      <td>10.210</td>\n",
              "      <td>u</td>\n",
              "      <td>g</td>\n",
              "      <td>ff</td>\n",
              "      <td>ff</td>\n",
              "      <td>0.000</td>\n",
              "      <td>f</td>\n",
              "      <td>f</td>\n",
              "      <td>0</td>\n",
              "      <td>f</td>\n",
              "      <td>g</td>\n",
              "      <td>00000</td>\n",
              "      <td>50</td>\n",
              "      <td>-</td>\n",
              "    </tr>\n",
              "    <tr>\n",
              "      <th>679</th>\n",
              "      <td>a</td>\n",
              "      <td>20.08</td>\n",
              "      <td>1.250</td>\n",
              "      <td>u</td>\n",
              "      <td>g</td>\n",
              "      <td>c</td>\n",
              "      <td>v</td>\n",
              "      <td>0.000</td>\n",
              "      <td>f</td>\n",
              "      <td>f</td>\n",
              "      <td>0</td>\n",
              "      <td>f</td>\n",
              "      <td>g</td>\n",
              "      <td>00000</td>\n",
              "      <td>0</td>\n",
              "      <td>-</td>\n",
              "    </tr>\n",
              "    <tr>\n",
              "      <th>680</th>\n",
              "      <td>b</td>\n",
              "      <td>19.50</td>\n",
              "      <td>0.290</td>\n",
              "      <td>u</td>\n",
              "      <td>g</td>\n",
              "      <td>k</td>\n",
              "      <td>v</td>\n",
              "      <td>0.290</td>\n",
              "      <td>f</td>\n",
              "      <td>f</td>\n",
              "      <td>0</td>\n",
              "      <td>f</td>\n",
              "      <td>g</td>\n",
              "      <td>00280</td>\n",
              "      <td>364</td>\n",
              "      <td>-</td>\n",
              "    </tr>\n",
              "    <tr>\n",
              "      <th>681</th>\n",
              "      <td>b</td>\n",
              "      <td>27.83</td>\n",
              "      <td>1.000</td>\n",
              "      <td>y</td>\n",
              "      <td>p</td>\n",
              "      <td>d</td>\n",
              "      <td>h</td>\n",
              "      <td>3.000</td>\n",
              "      <td>f</td>\n",
              "      <td>f</td>\n",
              "      <td>0</td>\n",
              "      <td>f</td>\n",
              "      <td>g</td>\n",
              "      <td>00176</td>\n",
              "      <td>537</td>\n",
              "      <td>-</td>\n",
              "    </tr>\n",
              "    <tr>\n",
              "      <th>682</th>\n",
              "      <td>b</td>\n",
              "      <td>17.08</td>\n",
              "      <td>3.290</td>\n",
              "      <td>u</td>\n",
              "      <td>g</td>\n",
              "      <td>i</td>\n",
              "      <td>v</td>\n",
              "      <td>0.335</td>\n",
              "      <td>f</td>\n",
              "      <td>f</td>\n",
              "      <td>0</td>\n",
              "      <td>t</td>\n",
              "      <td>g</td>\n",
              "      <td>00140</td>\n",
              "      <td>2</td>\n",
              "      <td>-</td>\n",
              "    </tr>\n",
              "    <tr>\n",
              "      <th>683</th>\n",
              "      <td>b</td>\n",
              "      <td>36.42</td>\n",
              "      <td>0.750</td>\n",
              "      <td>y</td>\n",
              "      <td>p</td>\n",
              "      <td>d</td>\n",
              "      <td>v</td>\n",
              "      <td>0.585</td>\n",
              "      <td>f</td>\n",
              "      <td>f</td>\n",
              "      <td>0</td>\n",
              "      <td>f</td>\n",
              "      <td>g</td>\n",
              "      <td>00240</td>\n",
              "      <td>3</td>\n",
              "      <td>-</td>\n",
              "    </tr>\n",
              "    <tr>\n",
              "      <th>684</th>\n",
              "      <td>b</td>\n",
              "      <td>40.58</td>\n",
              "      <td>3.290</td>\n",
              "      <td>u</td>\n",
              "      <td>g</td>\n",
              "      <td>m</td>\n",
              "      <td>v</td>\n",
              "      <td>3.500</td>\n",
              "      <td>f</td>\n",
              "      <td>f</td>\n",
              "      <td>0</td>\n",
              "      <td>t</td>\n",
              "      <td>s</td>\n",
              "      <td>00400</td>\n",
              "      <td>0</td>\n",
              "      <td>-</td>\n",
              "    </tr>\n",
              "    <tr>\n",
              "      <th>685</th>\n",
              "      <td>b</td>\n",
              "      <td>21.08</td>\n",
              "      <td>10.085</td>\n",
              "      <td>y</td>\n",
              "      <td>p</td>\n",
              "      <td>e</td>\n",
              "      <td>h</td>\n",
              "      <td>1.250</td>\n",
              "      <td>f</td>\n",
              "      <td>f</td>\n",
              "      <td>0</td>\n",
              "      <td>f</td>\n",
              "      <td>g</td>\n",
              "      <td>00260</td>\n",
              "      <td>0</td>\n",
              "      <td>-</td>\n",
              "    </tr>\n",
              "    <tr>\n",
              "      <th>686</th>\n",
              "      <td>a</td>\n",
              "      <td>22.67</td>\n",
              "      <td>0.750</td>\n",
              "      <td>u</td>\n",
              "      <td>g</td>\n",
              "      <td>c</td>\n",
              "      <td>v</td>\n",
              "      <td>2.000</td>\n",
              "      <td>f</td>\n",
              "      <td>t</td>\n",
              "      <td>2</td>\n",
              "      <td>t</td>\n",
              "      <td>g</td>\n",
              "      <td>00200</td>\n",
              "      <td>394</td>\n",
              "      <td>-</td>\n",
              "    </tr>\n",
              "    <tr>\n",
              "      <th>687</th>\n",
              "      <td>a</td>\n",
              "      <td>25.25</td>\n",
              "      <td>13.500</td>\n",
              "      <td>y</td>\n",
              "      <td>p</td>\n",
              "      <td>ff</td>\n",
              "      <td>ff</td>\n",
              "      <td>2.000</td>\n",
              "      <td>f</td>\n",
              "      <td>t</td>\n",
              "      <td>1</td>\n",
              "      <td>t</td>\n",
              "      <td>g</td>\n",
              "      <td>00200</td>\n",
              "      <td>1</td>\n",
              "      <td>-</td>\n",
              "    </tr>\n",
              "    <tr>\n",
              "      <th>688</th>\n",
              "      <td>b</td>\n",
              "      <td>17.92</td>\n",
              "      <td>0.205</td>\n",
              "      <td>u</td>\n",
              "      <td>g</td>\n",
              "      <td>aa</td>\n",
              "      <td>v</td>\n",
              "      <td>0.040</td>\n",
              "      <td>f</td>\n",
              "      <td>f</td>\n",
              "      <td>0</td>\n",
              "      <td>f</td>\n",
              "      <td>g</td>\n",
              "      <td>00280</td>\n",
              "      <td>750</td>\n",
              "      <td>-</td>\n",
              "    </tr>\n",
              "    <tr>\n",
              "      <th>689</th>\n",
              "      <td>b</td>\n",
              "      <td>35.00</td>\n",
              "      <td>3.375</td>\n",
              "      <td>u</td>\n",
              "      <td>g</td>\n",
              "      <td>c</td>\n",
              "      <td>h</td>\n",
              "      <td>8.290</td>\n",
              "      <td>f</td>\n",
              "      <td>f</td>\n",
              "      <td>0</td>\n",
              "      <td>t</td>\n",
              "      <td>g</td>\n",
              "      <td>00000</td>\n",
              "      <td>0</td>\n",
              "      <td>-</td>\n",
              "    </tr>\n",
              "  </tbody>\n",
              "</table>\n",
              "</div>"
            ],
            "text/plain": [
              "    0      1       2  3  4   5   6      7  8  9   10 11 12     13   14 15\n",
              "670  b  47.17   5.835  u  g   w   v  5.500  f  f   0  f  g  00465  150  -\n",
              "671  b  25.83  12.835  u  g  cc   v  0.500  f  f   0  f  g  00000    2  -\n",
              "672  a  50.25   0.835  u  g  aa   v  0.500  f  f   0  t  g  00240  117  -\n",
              "673  b  29.50   2.000  y  p   e   h  2.000  f  f   0  f  g  00256   17  -\n",
              "674  a  37.33   2.500  u  g   i   h  0.210  f  f   0  f  g  00260  246  -\n",
              "675  a  41.58   1.040  u  g  aa   v  0.665  f  f   0  f  g  00240  237  -\n",
              "676  a  30.58  10.665  u  g   q   h  0.085  f  t  12  t  g  00129    3  -\n",
              "677  b  19.42   7.250  u  g   m   v  0.040  f  t   1  f  g  00100    1  -\n",
              "678  a  17.92  10.210  u  g  ff  ff  0.000  f  f   0  f  g  00000   50  -\n",
              "679  a  20.08   1.250  u  g   c   v  0.000  f  f   0  f  g  00000    0  -\n",
              "680  b  19.50   0.290  u  g   k   v  0.290  f  f   0  f  g  00280  364  -\n",
              "681  b  27.83   1.000  y  p   d   h  3.000  f  f   0  f  g  00176  537  -\n",
              "682  b  17.08   3.290  u  g   i   v  0.335  f  f   0  t  g  00140    2  -\n",
              "683  b  36.42   0.750  y  p   d   v  0.585  f  f   0  f  g  00240    3  -\n",
              "684  b  40.58   3.290  u  g   m   v  3.500  f  f   0  t  s  00400    0  -\n",
              "685  b  21.08  10.085  y  p   e   h  1.250  f  f   0  f  g  00260    0  -\n",
              "686  a  22.67   0.750  u  g   c   v  2.000  f  t   2  t  g  00200  394  -\n",
              "687  a  25.25  13.500  y  p  ff  ff  2.000  f  t   1  t  g  00200    1  -\n",
              "688  b  17.92   0.205  u  g  aa   v  0.040  f  f   0  f  g  00280  750  -\n",
              "689  b  35.00   3.375  u  g   c   h  8.290  f  f   0  t  g  00000    0  -"
            ]
          },
          "metadata": {
            "tags": []
          },
          "execution_count": 9
        }
      ]
    },
    {
      "cell_type": "markdown",
      "metadata": {
        "id": "1ubXj2tXoa6K"
      },
      "source": [
        "### **Διαχείριση κατηγορικών τιμών**"
      ]
    },
    {
      "cell_type": "markdown",
      "metadata": {
        "id": "WWH08iGYqzOR"
      },
      "source": [
        "Το επόμενο βήμα στην επεξεργασία των δεδομένων,είναι η μετατροπή των κατηρορικών τιμών σε αριθμητικές.Αυτό γίνεται καθώς αυξάνεται η ταχύτητα των υπολογισμών αλλά και επειδή πολλά μοντέλα μηχανικής μάθησης δεν υποστηρίζουν την ύπαρξη κατηγορικών δεδομένων.\n",
        "\n",
        "Όπως αναφέρθηκε και στις διαλέξεις του μαθήματος θα μπορούσε κανείς να σκεφτεί να αντικαταστήσει κάθε διαφορετική τιμή κάθε κατηγορικού χαρακτηριστικού με μια αριθμητική τιμή.  Αυτό όμως είναι λάθος γιατί θεωρεί ότι το σύνολο τιμών των δύο κατηγορικών μεταβλητών είναι διατεταγμένο (ordered) κάτι που προφανώς δεν ισχύει και θα οδηγήσει τον ταξινομητή σε λάθη(αφού πρακτικά η μια τιμή θα είνναι μεγαλύτερη απο την άλλη).\n",
        "\n",
        "Μια λύση είναι να μετατρέψουμε κάθε κατηγορικό χαρακτηριστικό με m τιμές σε m binary χαρακτηριστικά από τα οποία μόνο ένα είναι ενεργό κάθε φορά.Θα πρέπει εδώ να σημειώσουμε την ειδική περίπτωση όπου ένα αριθμητικό χαρακτηριστικό είναι και αυτό κατηγορικό. Αν κάποια χαρακτηριστικά είναι αριθμητικά και αναφέρονται ως κατηγορικά, σημαίνει ότι έχουν ένα ορισμένο και πεπερασμένο σύνολο τιμών. Διακρίνουμε δύο περιπτώσεις: αν το σύνολο τιμών είναι διατεταγμένο (πχ size: \"10\" \"20\" \"30\") δεν χρειάζεται μετατροπή σε δυαδικά χαρακτηριστικά. Αν όμως το σύνολο τιμών είναι αριθμητικό αλλά μη διατεταγμένο, τότε χρειάζεται. Παράδειγμα person: \"1\" \"2\" \"3\", όπου 1 σημαίνει \"γυναίκα\", 2 \"άνδρας\" και 3 \"παιδί\".\n",
        "\n",
        "Με βάση λοιπόν τα παραπάνω αλλά και τις πιθανές τιμές του κάθε γνωρίσματος,όπως αναφέρονται στο σχετικό info του dataset,θα μετατρέψουμε σε binary τα γνωρίσματα που αντιστοιχούν στις στήλες 0,3,4,5,6,8,9,11,12.Το γνωρισματα που αντιστοιχούν στις στήλες 1,13 μένουν ως εχει.\n",
        "\n",
        "Οι ετικέτες κλάσης δεν είναι διατεταγμένες και άρα δεν έχει σημασία ο ακέραιος αριθμός που εκχωρούμε σε μια συγκεκριμένη ετικέτα, αρκεί να είναι μοναδικός. Έτσι, μπορούμε απλά να απαριθμήσουμε το ετικέτες κλάσης, ξεκινώντας από το 0."
      ]
    },
    {
      "cell_type": "code",
      "metadata": {
        "id": "0CKF4bsQ3oU4",
        "colab": {
          "base_uri": "https://localhost:8080/"
        },
        "outputId": "d5ece659-ad3d-464b-c061-5aec78291fbf"
      },
      "source": [
        " # Με την \"get_dummies\" κάνουμε τη μετατροπή σε binary χαρακτηριστικά \n",
        " # για τις κολώνες 0,3,4,5,6,8,9,11,12\n",
        "df = pd.get_dummies(df,columns=[0,3,4,5,6,8,9,11,12])\n",
        "\n",
        "# βρίσκουμε τις μοναδικές ετικέτες (ξερουμε ήδη ότι είναι '+' ,'-')\n",
        "class_mapping = {label:idx for idx,label in enumerate(np.unique(df[15]))}\n",
        "class_mapping\n",
        "# και κάνουμε την μετατροπή\n",
        "df[15] = df[15].map(class_mapping)  \n",
        "df\n",
        "\n",
        "# τυπωνω για να επαληθεύσω τα παραπάνω\n",
        "print(df)"
      ],
      "execution_count": null,
      "outputs": [
        {
          "output_type": "stream",
          "text": [
            "         1       2     7  10     13   14  ...  9_t  11_f  11_t  12_g  12_p  12_s\n",
            "0    30.83   0.000  1.25   1  00202    0  ...    1     1     0     1     0     0\n",
            "1    58.67   4.460  3.04   6  00043  560  ...    1     1     0     1     0     0\n",
            "2    24.50   0.500  1.50   0  00280  824  ...    0     1     0     1     0     0\n",
            "3    27.83   1.540  3.75   5  00100    3  ...    1     0     1     1     0     0\n",
            "4    20.17   5.625  1.71   0  00120    0  ...    0     1     0     0     0     1\n",
            "..     ...     ...   ...  ..    ...  ...  ...  ...   ...   ...   ...   ...   ...\n",
            "685  21.08  10.085  1.25   0  00260    0  ...    0     1     0     1     0     0\n",
            "686  22.67   0.750  2.00   2  00200  394  ...    1     0     1     1     0     0\n",
            "687  25.25  13.500  2.00   1  00200    1  ...    1     0     1     1     0     0\n",
            "688  17.92   0.205  0.04   0  00280  750  ...    0     1     0     1     0     0\n",
            "689  35.00   3.375  8.29   0  00000    0  ...    0     0     1     1     0     0\n",
            "\n",
            "[690 rows x 47 columns]\n"
          ],
          "name": "stdout"
        }
      ]
    },
    {
      "cell_type": "markdown",
      "metadata": {
        "id": "Z3SWFqv8z06Z"
      },
      "source": [
        "Μια πιθανή αντιστοίχηση των στηλών του dataset με χαρακτηριστικά του πραγματικού κόσμου φαίνεται [εδώ](http://rstudio-pubs-static.s3.amazonaws.com/73039_9946de135c0a49daa7a0a9eda4a67a72.html).Αξίζει να επισημάνουμε ότι χαρακτηριστικά όπως το DriversLicense και το ZipCode δεν είναι τόσο σημαντικά όσο άλλα χαρακτηριστικά για την πρόβλεψη της παραχώρησης πίστωσης,οπότε μπορούμε να τα αφαιρέσουμε προκειμένου να δημιουργήσουμε ένα αποδοτικότερο μοντέλο μηχανικής μάθησης.\n"
      ]
    },
    {
      "cell_type": "code",
      "metadata": {
        "colab": {
          "base_uri": "https://localhost:8080/"
        },
        "id": "tev_B7AhFG7f",
        "outputId": "84c98a02-092b-4e4c-cf2f-c7560b0bf27d"
      },
      "source": [
        "from sklearn.model_selection import train_test_split\n",
        "\n",
        "# αφαιρούμε τις στήλες 11 και 13\n",
        "df = df.drop([df.columns[11],df.columns[13]], axis=1)\n",
        "\n",
        "# επαληθεύουμε οτι αφαιρέθηκαν\n",
        "df.shape"
      ],
      "execution_count": null,
      "outputs": [
        {
          "output_type": "execute_result",
          "data": {
            "text/plain": [
              "(690, 45)"
            ]
          },
          "metadata": {
            "tags": []
          },
          "execution_count": 11
        }
      ]
    },
    {
      "cell_type": "markdown",
      "metadata": {
        "id": "ORUm4dMColpC"
      },
      "source": [
        "### **Διαχωρίσμος σε train και test set**"
      ]
    },
    {
      "cell_type": "code",
      "metadata": {
        "id": "KGm0mov27psH",
        "colab": {
          "base_uri": "https://localhost:8080/"
        },
        "outputId": "59948bf9-5160-4195-9bf2-8ce8ae7cac00"
      },
      "source": [
        "# Μετατρέπουμε σε αριθμητικές τιμές \n",
        "# και σε numpy array (.values)\n",
        "df = df.apply(pd.to_numeric).values\n",
        "\n",
        "#τυπώνω το τελικό αποτέλεσμα\n",
        "print(df)\n",
        "\n",
        "# διαχωρίζουμε feautures και labels\n",
        "# ώστε το καθένα να αντιστοιχεί σε ξεχωριστή μεταβλητή\n",
        "feautures,labels = df[:,0:44] , df[:,44]\n",
        "\n",
        "# Split into train and test sets\n",
        "train, test, labels_train, labels_test = train_test_split(feautures,labels,test_size=0.2)\n",
        "                               "
      ],
      "execution_count": null,
      "outputs": [
        {
          "output_type": "stream",
          "text": [
            "[[3.083e+01 0.000e+00 1.250e+00 ... 1.000e+00 0.000e+00 0.000e+00]\n",
            " [5.867e+01 4.460e+00 3.040e+00 ... 1.000e+00 0.000e+00 0.000e+00]\n",
            " [2.450e+01 5.000e-01 1.500e+00 ... 1.000e+00 0.000e+00 0.000e+00]\n",
            " ...\n",
            " [2.525e+01 1.350e+01 2.000e+00 ... 1.000e+00 0.000e+00 0.000e+00]\n",
            " [1.792e+01 2.050e-01 4.000e-02 ... 1.000e+00 0.000e+00 0.000e+00]\n",
            " [3.500e+01 3.375e+00 8.290e+00 ... 1.000e+00 0.000e+00 0.000e+00]]\n"
          ],
          "name": "stdout"
        }
      ]
    },
    {
      "cell_type": "markdown",
      "metadata": {
        "id": "WYjeOVqWgB-Y"
      },
      "source": [
        "## **Dummy** **Classifiers**"
      ]
    },
    {
      "cell_type": "markdown",
      "metadata": {
        "id": "5og7AH7BgZWY"
      },
      "source": [
        "Η κλάση DummyClassifier δέχεται μια παράμετρο που καθορίζει την τακτική της ταξινόμησης ως εξής:\n",
        "* “uniform”: προβλέπει τυχαία και ομοιόμορφα.\n",
        "* “constant”: προβλέπει πάντα μία κατηγορία που τη διαλέγει ο χρήστης.\n",
        "* “most_frequent”: προβλέπει πάντα την πιο συχνή κατηγορία στο training set.\n",
        "* “stratified”: κάνει προβλέψεις διατηρώντας την κατανομή των κλάσεων στο training set.\n",
        "\n",
        "\n"
      ]
    },
    {
      "cell_type": "markdown",
      "metadata": {
        "id": "E9rV6hwnuQh1"
      },
      "source": [
        "### **Uniform**"
      ]
    },
    {
      "cell_type": "code",
      "metadata": {
        "id": "SQERhKOsguS1"
      },
      "source": [
        "from sklearn.dummy import DummyClassifier\n",
        "import numpy as np\n",
        "\n",
        "dc_uniform = DummyClassifier(strategy=\"uniform\")\n",
        "dc_constant_0 = DummyClassifier(strategy=\"constant\", constant=0)\n",
        "dc_constant_1 = DummyClassifier(strategy=\"constant\", constant=1)\n",
        "dc_most_frequent = DummyClassifier(strategy=\"most_frequent\")\n",
        "dc_stratified = DummyClassifier(strategy=\"stratified\")\n",
        "\n",
        "\n",
        "# με τη μέθοδο fit \"εκπαιδεύουμε\" τον ταξινομητή \n",
        "# στο σύνολο εκπαίδευσης (τα χαρακτηριστικά και τις ετικέτες τους)\n",
        "\n",
        "model = dc_uniform.fit(train, labels_train)\n",
        "\n",
        "# με τη μέθοδο predict παράγουμε προβλέψεις \n",
        "# για τα δεδομένα ελέγχου (είσοδος τα χαρακτηριστικά μόνο)\n",
        "\n",
        "preds = dc_uniform.predict(test)\n"
      ],
      "execution_count": null,
      "outputs": []
    },
    {
      "cell_type": "code",
      "metadata": {
        "colab": {
          "base_uri": "https://localhost:8080/"
        },
        "id": "2iIgcmCyiUgs",
        "outputId": "936efb36-4510-416d-cd42-0f59bc66c83f"
      },
      "source": [
        "from sklearn.metrics import confusion_matrix\n",
        "\n",
        "# υπολογίζουμε το confusion matrix\n",
        "cnf_matrix = confusion_matrix(labels_test, preds)\n",
        "\n",
        "# τυπώνουμε το confusion matrix\n",
        "print(cnf_matrix)"
      ],
      "execution_count": null,
      "outputs": [
        {
          "output_type": "stream",
          "text": [
            "[[68 61]\n",
            " [ 4  5]]\n"
          ],
          "name": "stdout"
        }
      ]
    },
    {
      "cell_type": "code",
      "metadata": {
        "colab": {
          "base_uri": "https://localhost:8080/"
        },
        "id": "qEIHKbxQoSiU",
        "outputId": "9c508956-97b5-4628-ca81-e3d71b0d08cd"
      },
      "source": [
        "from sklearn.metrics import precision_recall_fscore_support\n",
        "\n",
        "# δημιουργία dict για την αποθήκευση των τιμών\n",
        "# των μετρικών f1 micro και f1 macro\n",
        "i=-1\n",
        "j=-1\n",
        "micro={}\n",
        "macro= {}\n",
        "\n",
        "# τυπώνουμε το f1_micro_average\n",
        "i += 1\n",
        "micro[i]=precision_recall_fscore_support(labels_test, preds, average='micro')[2]\n",
        "print(micro[i], \"\\n\")\n"
      ],
      "execution_count": null,
      "outputs": [
        {
          "output_type": "stream",
          "text": [
            "0.5289855072463768 \n",
            "\n"
          ],
          "name": "stdout"
        }
      ]
    },
    {
      "cell_type": "code",
      "metadata": {
        "colab": {
          "base_uri": "https://localhost:8080/"
        },
        "id": "Mhq0116ro-da",
        "outputId": "b191c3ad-9148-4ec7-e816-4de74393e908"
      },
      "source": [
        "# τυπώνουμε το f1_macro_average\n",
        "j+= 1\n",
        "macro[j]=precision_recall_fscore_support(labels_test, preds, average='macro')[2]\n",
        "print(macro[j], \"\\n\")\n"
      ],
      "execution_count": null,
      "outputs": [
        {
          "output_type": "stream",
          "text": [
            "0.40497512437810945 \n",
            "\n"
          ],
          "name": "stdout"
        }
      ]
    },
    {
      "cell_type": "markdown",
      "metadata": {
        "id": "KmBx3867uXrL"
      },
      "source": [
        "###**Constant_0**"
      ]
    },
    {
      "cell_type": "code",
      "metadata": {
        "id": "mZMhhc1Jpiyl",
        "colab": {
          "base_uri": "https://localhost:8080/"
        },
        "outputId": "17002464-cc6f-4199-f7a1-90a573500c81"
      },
      "source": [
        "model=dc_constant_0.fit(train, labels_train)\n",
        "preds = dc_constant_0.predict(test)\n",
        "\n",
        "# υπολογίζουμε το confusion matrix\n",
        "cnf_matrix = confusion_matrix(labels_test, preds)\n",
        "\n",
        "# τυπώνουμε το confusion matrix\n",
        "print(cnf_matrix)"
      ],
      "execution_count": null,
      "outputs": [
        {
          "output_type": "stream",
          "text": [
            "[[129   0]\n",
            " [  9   0]]\n"
          ],
          "name": "stdout"
        }
      ]
    },
    {
      "cell_type": "code",
      "metadata": {
        "colab": {
          "base_uri": "https://localhost:8080/"
        },
        "id": "U94-nWWOreSy",
        "outputId": "91ec9b12-455d-4e51-d3ec-25a6ce795893"
      },
      "source": [
        "# τυπώνουμε το f1_micro_average\n",
        "i += 1\n",
        "micro[i]=precision_recall_fscore_support(labels_test, preds, average='micro')[2]\n",
        "print(micro[i], \"\\n\")\n"
      ],
      "execution_count": null,
      "outputs": [
        {
          "output_type": "stream",
          "text": [
            "0.9347826086956522 \n",
            "\n"
          ],
          "name": "stdout"
        }
      ]
    },
    {
      "cell_type": "code",
      "metadata": {
        "colab": {
          "base_uri": "https://localhost:8080/"
        },
        "id": "Hv8R1UpRrhPJ",
        "outputId": "7347f908-3818-49b7-fc57-1109422775a9"
      },
      "source": [
        "# τυπώνουμε το f1_macro_average\n",
        "j+= 1\n",
        "macro[j]=precision_recall_fscore_support(labels_test, preds, average='macro')[2]\n",
        "print(macro[j], \"\\n\")\n"
      ],
      "execution_count": null,
      "outputs": [
        {
          "output_type": "stream",
          "text": [
            "0.4831460674157303 \n",
            "\n"
          ],
          "name": "stdout"
        },
        {
          "output_type": "stream",
          "text": [
            "/usr/local/lib/python3.6/dist-packages/sklearn/metrics/_classification.py:1221: UndefinedMetricWarning: Precision and F-score are ill-defined and being set to 0.0 in labels with no predicted samples. Use `zero_division` parameter to control this behavior.\n",
            "  _warn_prf(average, modifier, msg_start, len(result))\n"
          ],
          "name": "stderr"
        }
      ]
    },
    {
      "cell_type": "markdown",
      "metadata": {
        "id": "995GR83Cuwcs"
      },
      "source": [
        "### **Contastant_1**"
      ]
    },
    {
      "cell_type": "code",
      "metadata": {
        "id": "kgr4XIOru8uO",
        "colab": {
          "base_uri": "https://localhost:8080/"
        },
        "outputId": "40910775-5849-4d31-f3c3-23b0e807ecc0"
      },
      "source": [
        "model=dc_constant_1.fit(train, labels_train)\n",
        "preds = dc_constant_1.predict(test)\n",
        "\n",
        "# υπολογίζουμε το confusion matrix\n",
        "cnf_matrix = confusion_matrix(labels_test, preds)\n",
        "\n",
        "# τυπώνουμε το confusion matrix\n",
        "print(cnf_matrix)"
      ],
      "execution_count": null,
      "outputs": [
        {
          "output_type": "stream",
          "text": [
            "[[  0 129]\n",
            " [  0   9]]\n"
          ],
          "name": "stdout"
        }
      ]
    },
    {
      "cell_type": "code",
      "metadata": {
        "colab": {
          "base_uri": "https://localhost:8080/"
        },
        "id": "47Fm8eG9vCw2",
        "outputId": "88c7b3f4-f4fe-4242-9ba7-cc936245ff2b"
      },
      "source": [
        "# τυπώνουμε το f1_micro_average\n",
        "i += 1\n",
        "micro[i]=precision_recall_fscore_support(labels_test, preds, average='micro')[2]\n",
        "print(micro[i], \"\\n\")\n"
      ],
      "execution_count": null,
      "outputs": [
        {
          "output_type": "stream",
          "text": [
            "0.06521739130434782 \n",
            "\n"
          ],
          "name": "stdout"
        }
      ]
    },
    {
      "cell_type": "code",
      "metadata": {
        "colab": {
          "base_uri": "https://localhost:8080/"
        },
        "id": "mYDUTzpHvGEj",
        "outputId": "33c86f6a-a060-4790-d170-a859c6c40952"
      },
      "source": [
        "# τυπώνουμε το f1_macro_average\n",
        "j+= 1\n",
        "macro[j]=precision_recall_fscore_support(labels_test, preds, average='macro')[2]\n",
        "print(macro[j], \"\\n\")\n"
      ],
      "execution_count": null,
      "outputs": [
        {
          "output_type": "stream",
          "text": [
            "0.06122448979591836 \n",
            "\n"
          ],
          "name": "stdout"
        },
        {
          "output_type": "stream",
          "text": [
            "/usr/local/lib/python3.6/dist-packages/sklearn/metrics/_classification.py:1221: UndefinedMetricWarning: Precision and F-score are ill-defined and being set to 0.0 in labels with no predicted samples. Use `zero_division` parameter to control this behavior.\n",
            "  _warn_prf(average, modifier, msg_start, len(result))\n"
          ],
          "name": "stderr"
        }
      ]
    },
    {
      "cell_type": "markdown",
      "metadata": {
        "id": "QsvxCP8FvYyn"
      },
      "source": [
        "### **Most frequent**"
      ]
    },
    {
      "cell_type": "code",
      "metadata": {
        "id": "qcwnIYqrvh05",
        "colab": {
          "base_uri": "https://localhost:8080/"
        },
        "outputId": "f98bcdc7-df75-4d19-8524-e5a301888185"
      },
      "source": [
        "model=dc_most_frequent.fit(train, labels_train)\n",
        "preds = dc_most_frequent.predict(test)\n",
        "\n",
        "# υπολογίζουμε το confusion matrix\n",
        "cnf_matrix = confusion_matrix(labels_test, preds)\n",
        "\n",
        "# τυπώνουμε το confusion matrix\n",
        "print(cnf_matrix)"
      ],
      "execution_count": null,
      "outputs": [
        {
          "output_type": "stream",
          "text": [
            "[[129   0]\n",
            " [  9   0]]\n"
          ],
          "name": "stdout"
        }
      ]
    },
    {
      "cell_type": "code",
      "metadata": {
        "colab": {
          "base_uri": "https://localhost:8080/"
        },
        "id": "QajlcZEJvr73",
        "outputId": "2542571a-7e59-4830-c574-248b54eca2a3"
      },
      "source": [
        "# τυπώνουμε το f1_micro_average\n",
        "i += 1\n",
        "micro[i]=precision_recall_fscore_support(labels_test, preds, average='micro')[2]\n",
        "print(micro[i], \"\\n\")"
      ],
      "execution_count": null,
      "outputs": [
        {
          "output_type": "stream",
          "text": [
            "0.9347826086956522 \n",
            "\n"
          ],
          "name": "stdout"
        }
      ]
    },
    {
      "cell_type": "code",
      "metadata": {
        "colab": {
          "base_uri": "https://localhost:8080/"
        },
        "id": "Zt9BUXLZvwjY",
        "outputId": "cb6beb26-532c-45f6-bd74-1231ca1f8243"
      },
      "source": [
        "# τυπώνουμε το f1_macro_average\n",
        "j+= 1\n",
        "macro[j]=precision_recall_fscore_support(labels_test, preds, average='macro')[2]\n",
        "print(macro[j], \"\\n\")\n"
      ],
      "execution_count": null,
      "outputs": [
        {
          "output_type": "stream",
          "text": [
            "0.4831460674157303 \n",
            "\n"
          ],
          "name": "stdout"
        },
        {
          "output_type": "stream",
          "text": [
            "/usr/local/lib/python3.6/dist-packages/sklearn/metrics/_classification.py:1221: UndefinedMetricWarning: Precision and F-score are ill-defined and being set to 0.0 in labels with no predicted samples. Use `zero_division` parameter to control this behavior.\n",
            "  _warn_prf(average, modifier, msg_start, len(result))\n"
          ],
          "name": "stderr"
        }
      ]
    },
    {
      "cell_type": "markdown",
      "metadata": {
        "id": "NuYlindnwNTa"
      },
      "source": [
        "###**Stratified**"
      ]
    },
    {
      "cell_type": "code",
      "metadata": {
        "id": "yoGvwXVhwXz8",
        "colab": {
          "base_uri": "https://localhost:8080/"
        },
        "outputId": "79d63571-05be-492c-9f64-aa22506c28cc"
      },
      "source": [
        "model=dc_stratified.fit(train, labels_train)\n",
        "preds = dc_stratified.predict(test)\n",
        "\n",
        "# υπολογίζουμε το confusion matrix\n",
        "cnf_matrix = confusion_matrix(labels_test, preds)\n",
        "\n",
        "# τυπώνουμε το confusion matrix\n",
        "print(cnf_matrix)"
      ],
      "execution_count": null,
      "outputs": [
        {
          "output_type": "stream",
          "text": [
            "[[120   9]\n",
            " [  9   0]]\n"
          ],
          "name": "stdout"
        }
      ]
    },
    {
      "cell_type": "code",
      "metadata": {
        "colab": {
          "base_uri": "https://localhost:8080/"
        },
        "id": "Lf2VDzm8whGA",
        "outputId": "bc77369e-0812-4d86-92b7-1d63f49467f5"
      },
      "source": [
        "#τυπώνουμε το f1_micro_average\n",
        "i += 1\n",
        "micro[i]=precision_recall_fscore_support(labels_test, preds, average='micro')[2]\n",
        "print(micro[i], \"\\n\")"
      ],
      "execution_count": null,
      "outputs": [
        {
          "output_type": "stream",
          "text": [
            "0.8695652173913043 \n",
            "\n"
          ],
          "name": "stdout"
        }
      ]
    },
    {
      "cell_type": "code",
      "metadata": {
        "colab": {
          "base_uri": "https://localhost:8080/"
        },
        "id": "QQqm613nwkzw",
        "outputId": "f1dbe7c8-0710-49f8-e543-cb9a67829b64"
      },
      "source": [
        "# τυπώνουμε το f1_macro_average\n",
        "j+= 1\n",
        "macro[j]=precision_recall_fscore_support(labels_test, preds, average='macro')[2]\n",
        "print(macro[j], \"\\n\")"
      ],
      "execution_count": null,
      "outputs": [
        {
          "output_type": "stream",
          "text": [
            "0.46511627906976744 \n",
            "\n"
          ],
          "name": "stdout"
        }
      ]
    },
    {
      "cell_type": "markdown",
      "metadata": {
        "id": "-sIGt2e3gpHr"
      },
      "source": [
        "## **Naive Bayes Classifier**\n"
      ]
    },
    {
      "cell_type": "code",
      "metadata": {
        "colab": {
          "base_uri": "https://localhost:8080/"
        },
        "id": "dlFvSYYpgyzN",
        "outputId": "221bc7ec-ff1a-4e2d-8c73-2d728a86b388"
      },
      "source": [
        "from sklearn.naive_bayes import GaussianNB\n",
        "\n",
        "gnb = GaussianNB()\n",
        "\n",
        "# κάνουμε εκπαίδευση (fit) δηλαδή ουσιαστικά υπολογίζουμε \n",
        "#μέση τιμή και διακύμανση για όλα τα χαρακτηριστικά και κλάσεις στο training set\n",
        "\n",
        "model = gnb.fit(train, labels_train)\n",
        "preds = gnb.predict(test)\n",
        "\n",
        "# υπολογίζουμε το confusion matrix\n",
        "cnf_matrix = confusion_matrix(labels_test, preds)\n",
        "\n",
        "# τυπώνουμε το confusion matrix\n",
        "print(cnf_matrix)\n"
      ],
      "execution_count": null,
      "outputs": [
        {
          "output_type": "stream",
          "text": [
            "[[128   1]\n",
            " [  0   9]]\n"
          ],
          "name": "stdout"
        }
      ]
    },
    {
      "cell_type": "code",
      "metadata": {
        "colab": {
          "base_uri": "https://localhost:8080/"
        },
        "id": "GQSYtBYwiLON",
        "outputId": "6b64da7e-1e1b-404a-a61e-8c0e4dd73158"
      },
      "source": [
        "#τυπώνουμε το f1_micro_average\n",
        "i += 1\n",
        "micro[i]=precision_recall_fscore_support(labels_test, preds, average='micro')[2]\n",
        "print(micro[i], \"\\n\")"
      ],
      "execution_count": null,
      "outputs": [
        {
          "output_type": "stream",
          "text": [
            "0.9927536231884058 \n",
            "\n"
          ],
          "name": "stdout"
        }
      ]
    },
    {
      "cell_type": "code",
      "metadata": {
        "colab": {
          "base_uri": "https://localhost:8080/"
        },
        "id": "HqfVBVWtiOT9",
        "outputId": "b9ebabb8-a539-4301-eba7-c2c255897be1"
      },
      "source": [
        "# τυπώνουμε το f1_macro_average\n",
        "j+= 1\n",
        "macro[j]=precision_recall_fscore_support(labels_test, preds, average='macro')[2]\n",
        "print(macro[j], \"\\n\")"
      ],
      "execution_count": null,
      "outputs": [
        {
          "output_type": "stream",
          "text": [
            "0.971738685234487 \n",
            "\n"
          ],
          "name": "stdout"
        }
      ]
    },
    {
      "cell_type": "markdown",
      "metadata": {
        "id": "duCZFFhBkNwc"
      },
      "source": [
        "## **k Nearest Neighbors Classifier (kNN)**"
      ]
    },
    {
      "cell_type": "code",
      "metadata": {
        "colab": {
          "base_uri": "https://localhost:8080/"
        },
        "id": "WMU0DL97kExg",
        "outputId": "f587bc61-5981-434a-abf0-28fad8410e17"
      },
      "source": [
        "from sklearn.neighbors import KNeighborsClassifier\n",
        "\n",
        "knn = KNeighborsClassifier()\n",
        "knn.fit(train, labels_train)\n",
        "preds = knn.predict(test)\n",
        "\n",
        "# υπολογίζουμε το confusion matrix\n",
        "cnf_matrix = confusion_matrix(labels_test, preds)\n",
        "\n",
        "# τυπώνουμε το confusion matrix\n",
        "print(cnf_matrix)\n"
      ],
      "execution_count": null,
      "outputs": [
        {
          "output_type": "stream",
          "text": [
            "[[128   1]\n",
            " [  9   0]]\n"
          ],
          "name": "stdout"
        }
      ]
    },
    {
      "cell_type": "code",
      "metadata": {
        "colab": {
          "base_uri": "https://localhost:8080/"
        },
        "id": "TbAZIX7aksq2",
        "outputId": "967fdfe9-504d-4549-c8e1-9bdcdbbacd2a"
      },
      "source": [
        "#τυπώνουμε το f1_micro_average\n",
        "i += 1\n",
        "micro[i]=precision_recall_fscore_support(labels_test, preds, average='micro')[2]\n",
        "print(micro[i], \"\\n\")"
      ],
      "execution_count": null,
      "outputs": [
        {
          "output_type": "stream",
          "text": [
            "0.927536231884058 \n",
            "\n"
          ],
          "name": "stdout"
        }
      ]
    },
    {
      "cell_type": "code",
      "metadata": {
        "colab": {
          "base_uri": "https://localhost:8080/"
        },
        "id": "Fb1XF5wckvVz",
        "outputId": "4b38d4cf-cb11-4a63-b5d4-b9bf5476abad"
      },
      "source": [
        "# τυπώνουμε το f1_macro_average\n",
        "j+= 1\n",
        "macro[j]=precision_recall_fscore_support(labels_test, preds, average='macro')[2]\n",
        "print(macro[j], \"\\n\")"
      ],
      "execution_count": null,
      "outputs": [
        {
          "output_type": "stream",
          "text": [
            "0.48120300751879697 \n",
            "\n"
          ],
          "name": "stdout"
        }
      ]
    },
    {
      "cell_type": "markdown",
      "metadata": {
        "id": "MOPWa5qolKOP"
      },
      "source": [
        "## **Σύγκριση Classifiers**"
      ]
    },
    {
      "cell_type": "code",
      "metadata": {
        "id": "MvmiA9MD5L32"
      },
      "source": [
        "import matplotlib.pyplot as plt\n",
        "def plot_scores(type,scores,classifiers):\n",
        "\n",
        "  plt.figure(figsize=(15,7))\n",
        "  plt.bar(classifiers,scores,width=0.4)\n",
        "  plt.xlabel('Classifier Used',color = 'b')\n",
        "  plt.ylabel(type+' average',color='b')\n",
        "\n",
        "  plt.show()\n"
      ],
      "execution_count": null,
      "outputs": []
    },
    {
      "cell_type": "markdown",
      "metadata": {
        "id": "q2i0HC0ZVrcM"
      },
      "source": [
        "### ***F1 micro***"
      ]
    },
    {
      "cell_type": "code",
      "metadata": {
        "colab": {
          "base_uri": "https://localhost:8080/",
          "height": 443
        },
        "id": "Rzz5MQ5OAeSd",
        "outputId": "7d03f3c1-ed14-43d7-873f-bab4efcb609f"
      },
      "source": [
        "plot_scores('f1_micro',micro.values(),['uniform','dc_constant_0','dc_constant_1','dc_most_frequent','dc_stratified','gnb','knn'])"
      ],
      "execution_count": null,
      "outputs": [
        {
          "output_type": "display_data",
          "data": {
            "image/png": "[encoded data removed]",
            "text/plain": [
              "<Figure size 1080x504 with 1 Axes>"
            ]
          },
          "metadata": {
            "tags": [],
            "needs_background": "light"
          }
        }
      ]
    },
    {
      "cell_type": "markdown",
      "metadata": {
        "id": "yJxEonW6V2X6"
      },
      "source": [
        "### ***F1 macro***"
      ]
    },
    {
      "cell_type": "code",
      "metadata": {
        "colab": {
          "base_uri": "https://localhost:8080/",
          "height": 443
        },
        "id": "PPo7MY5TJhMX",
        "outputId": "9cc5a2e5-fcfa-461a-f592-229c32bd63dd"
      },
      "source": [
        "plot_scores('f1_macro',macro.values(),['uniform','dc_constant_0','dc_constant_1','dc_most_frequent','dc_stratified','gnb','knn'])"
      ],
      "execution_count": null,
      "outputs": [
        {
          "output_type": "display_data",
          "data": {
            "image/png": "[encoded data removed]",
            "text/plain": [
              "<Figure size 1080x504 with 1 Axes>"
            ]
          },
          "metadata": {
            "tags": [],
            "needs_background": "light"
          }
        }
      ]
    },
    {
      "cell_type": "markdown",
      "metadata": {
        "id": "Xe23aRuzSPsB"
      },
      "source": [
        "**Παρατηρήσεις**\n",
        "Απο τα παραπάνω διαγράμματα παρατηρούμε ότι για την μετρική 'f1_micro' έχουμε ικανοποιητικά αποτελέσματα για όλους τους classifiers , εκτός του dummy dc_constant_1.Για την μετρική 'f1_macro' παρατηρούμε ότι έχουμε καλύτερα αποτελέσματα για τον gnb classifier,ενώ για τους υπόλοιπους έχουμε μέτριες εως χαμηλές τιμές(βλ dc_constant_1)"
      ]
    },
    {
      "cell_type": "markdown",
      "metadata": {
        "id": "p14npXsAKAqX"
      },
      "source": [
        "## **Βελτιστοποίηση ταξινομητών**"
      ]
    },
    {
      "cell_type": "markdown",
      "metadata": {
        "id": "JsbIO3dHUqmC"
      },
      "source": [
        "Προκειμένου να επιτύχουμε βελτιστοποίηση των ταξινομητών εφαρμόσαμε κανονικοποίηση στα δεδομένα του dataset και επιπλέον για τον knn εκτελέσαμε βελτιστοποίηση της υπερπαραμέτρου k μεσω της διαδικασίας cross validation."
      ]
    },
    {
      "cell_type": "markdown",
      "metadata": {
        "id": "Q7gNT0hWCkhM"
      },
      "source": [
        "### **Κανονικοποίηση δεδομένων Dataset** \n"
      ]
    },
    {
      "cell_type": "code",
      "metadata": {
        "id": "fKL-V6LEDJ6T"
      },
      "source": [
        "#κανονικοποίηση\n",
        "from sklearn.preprocessing import MinMaxScaler\n",
        "\n",
        "# rescale X_train and X_test\n",
        "scaler = MinMaxScaler(feature_range=(0, 1))\n",
        "train = scaler.fit_transform(train)\n",
        "test = scaler.fit_transform(test)"
      ],
      "execution_count": null,
      "outputs": []
    },
    {
      "cell_type": "markdown",
      "metadata": {
        "id": "ehEINnTLDxLt"
      },
      "source": [
        "### **Dummy Classifiers** "
      ]
    },
    {
      "cell_type": "markdown",
      "metadata": {
        "id": "MOQ8WzmWEjSW"
      },
      "source": [
        "#### **Uniform**"
      ]
    },
    {
      "cell_type": "code",
      "metadata": {
        "colab": {
          "base_uri": "https://localhost:8080/"
        },
        "id": "OFD_2DF_D-yN",
        "outputId": "b0007d7e-d294-4d53-9c97-2195a3683c2c"
      },
      "source": [
        "import time\n",
        "\n",
        "# δημιουργία dict για την αποθήκευση χρόνων fit & predict\n",
        "\n",
        "k=0\n",
        "times={}\n",
        "\n",
        "# με τη μέθοδο fit \"εκπαιδεύουμε\" τον ταξινομητή \n",
        "# στο σύνολο εκπαίδευσης (τα χαρακτηριστικά και τις ετικέτες τους)\n",
        "\n",
        "start_time = time.time()\n",
        "model = dc_uniform.fit(train, labels_train)\n",
        "\n",
        "# με τη μέθοδο predict παράγουμε προβλέψεις \n",
        "# για τα δεδομένα ελέγχου (είσοδος τα χαρακτηριστικά μόνο)\n",
        "\n",
        "preds = dc_uniform.predict(test)\n",
        "times[k]=time.time() - start_time\n",
        "\n",
        "# υπολογίζουμε το confusion matrix\n",
        "cnf_matrix = confusion_matrix(labels_test, preds)\n",
        "\n",
        "# τυπώνουμε το confusion matrix\n",
        "print(cnf_matrix)"
      ],
      "execution_count": null,
      "outputs": [
        {
          "output_type": "stream",
          "text": [
            "[[66 63]\n",
            " [ 4  5]]\n"
          ],
          "name": "stdout"
        }
      ]
    },
    {
      "cell_type": "code",
      "metadata": {
        "colab": {
          "base_uri": "https://localhost:8080/"
        },
        "id": "ghLhEhlyETYH",
        "outputId": "f1808824-8472-4be6-e2a0-97af876290a2"
      },
      "source": [
        "# δημιουργία dict για την αποθήκευση των τιμών\n",
        "# των μετρικών f1 micro και f1 macro\n",
        "i=-1\n",
        "j=-1\n",
        "micro_opt={}\n",
        "macro_opt= {}\n",
        "\n",
        "# τυπώνουμε το f1_micro_average\n",
        "i += 1\n",
        "micro_opt[i]=precision_recall_fscore_support(labels_test, preds, average='micro')[2]\n",
        "print(micro_opt[i], \"\\n\")"
      ],
      "execution_count": null,
      "outputs": [
        {
          "output_type": "stream",
          "text": [
            "0.5144927536231884 \n",
            "\n"
          ],
          "name": "stdout"
        }
      ]
    },
    {
      "cell_type": "code",
      "metadata": {
        "colab": {
          "base_uri": "https://localhost:8080/"
        },
        "id": "YTAJucBMEc-q",
        "outputId": "63ca4d2f-5060-4238-f55c-812eb423a130"
      },
      "source": [
        "# τυπώνουμε το f1_macro_average\n",
        "j+= 1\n",
        "macro_opt[j]=precision_recall_fscore_support(labels_test, preds, average='macro')[2]\n",
        "print(macro_opt[j], \"\\n\")\n"
      ],
      "execution_count": null,
      "outputs": [
        {
          "output_type": "stream",
          "text": [
            "0.3965933563923514 \n",
            "\n"
          ],
          "name": "stdout"
        }
      ]
    },
    {
      "cell_type": "markdown",
      "metadata": {
        "id": "Gxab8kwKGD7n"
      },
      "source": [
        "#### **Constant_0**"
      ]
    },
    {
      "cell_type": "code",
      "metadata": {
        "colab": {
          "base_uri": "https://localhost:8080/"
        },
        "id": "WC6gVmYHGjvG",
        "outputId": "8a5c533a-257f-438f-9119-2d14407843f3"
      },
      "source": [
        "k+=1\n",
        "\n",
        "start_time = time.time()\n",
        "\n",
        "model=dc_constant_0.fit(train, labels_train)\n",
        "preds = dc_constant_0.predict(test)\n",
        "\n",
        "times[k]=time.time()-start_time\n",
        "\n",
        "# υπολογίζουμε το confusion matrix\n",
        "cnf_matrix = confusion_matrix(labels_test, preds)\n",
        "\n",
        "# τυπώνουμε το confusion matrix\n",
        "print(cnf_matrix)\n"
      ],
      "execution_count": null,
      "outputs": [
        {
          "output_type": "stream",
          "text": [
            "[[129   0]\n",
            " [  9   0]]\n"
          ],
          "name": "stdout"
        }
      ]
    },
    {
      "cell_type": "code",
      "metadata": {
        "colab": {
          "base_uri": "https://localhost:8080/"
        },
        "id": "Pw0_mPV1GwpY",
        "outputId": "15c56884-a030-4c82-cf92-13fe9858ae96"
      },
      "source": [
        "# τυπώνουμε το f1_micro_average\n",
        "i += 1\n",
        "micro_opt[i]=precision_recall_fscore_support(labels_test, preds, average='micro')[2]\n",
        "print(micro_opt[i], \"\\n\")"
      ],
      "execution_count": null,
      "outputs": [
        {
          "output_type": "stream",
          "text": [
            "0.9347826086956522 \n",
            "\n"
          ],
          "name": "stdout"
        }
      ]
    },
    {
      "cell_type": "code",
      "metadata": {
        "colab": {
          "base_uri": "https://localhost:8080/"
        },
        "id": "YAJuk2-tG7Es",
        "outputId": "66a76207-a097-47ec-d4e7-718b529086ac"
      },
      "source": [
        "# τυπώνουμε το f1_macro_average\n",
        "j+= 1\n",
        "macro_opt[j]=precision_recall_fscore_support(labels_test, preds, average='macro')[2]\n",
        "print(macro_opt[j], \"\\n\")"
      ],
      "execution_count": null,
      "outputs": [
        {
          "output_type": "stream",
          "text": [
            "0.4831460674157303 \n",
            "\n"
          ],
          "name": "stdout"
        },
        {
          "output_type": "stream",
          "text": [
            "/usr/local/lib/python3.6/dist-packages/sklearn/metrics/_classification.py:1221: UndefinedMetricWarning: Precision and F-score are ill-defined and being set to 0.0 in labels with no predicted samples. Use `zero_division` parameter to control this behavior.\n",
            "  _warn_prf(average, modifier, msg_start, len(result))\n"
          ],
          "name": "stderr"
        }
      ]
    },
    {
      "cell_type": "markdown",
      "metadata": {
        "id": "rGDBbjQdG-gy"
      },
      "source": [
        "#### **Constant_1**"
      ]
    },
    {
      "cell_type": "code",
      "metadata": {
        "colab": {
          "base_uri": "https://localhost:8080/"
        },
        "id": "o3Aaw_6cHJqk",
        "outputId": "dac7b762-e082-4c13-fbeb-e07bc5a4db5a"
      },
      "source": [
        "k+=1\n",
        "\n",
        "start_time = time.time()\n",
        "\n",
        "model=dc_constant_1.fit(train, labels_train)\n",
        "preds = dc_constant_1.predict(test)\n",
        "\n",
        "times[k]=time.time()-start_time\n",
        "\n",
        "# υπολογίζουμε το confusion matrix\n",
        "cnf_matrix = confusion_matrix(labels_test, preds)\n",
        "\n",
        "# τυπώνουμε το confusion matrix\n",
        "print(cnf_matrix)\n"
      ],
      "execution_count": null,
      "outputs": [
        {
          "output_type": "stream",
          "text": [
            "[[  0 129]\n",
            " [  0   9]]\n"
          ],
          "name": "stdout"
        }
      ]
    },
    {
      "cell_type": "code",
      "metadata": {
        "colab": {
          "base_uri": "https://localhost:8080/"
        },
        "id": "8R0Fa5GOHZhm",
        "outputId": "f20ddd99-8cbc-44d5-d3a5-c85758ba00e2"
      },
      "source": [
        "# τυπώνουμε το f1_micro_average\n",
        "i += 1\n",
        "micro_opt[i]=precision_recall_fscore_support(labels_test, preds, average='micro')[2]\n",
        "print(micro_opt[i], \"\\n\")\n"
      ],
      "execution_count": null,
      "outputs": [
        {
          "output_type": "stream",
          "text": [
            "0.06521739130434782 \n",
            "\n"
          ],
          "name": "stdout"
        }
      ]
    },
    {
      "cell_type": "code",
      "metadata": {
        "colab": {
          "base_uri": "https://localhost:8080/"
        },
        "id": "Vuu3NERyHcm_",
        "outputId": "c80f8766-14d3-4748-d3c4-8306d474790a"
      },
      "source": [
        "# τυπώνουμε το f1_macro_average\n",
        "j+= 1\n",
        "macro_opt[j]=precision_recall_fscore_support(labels_test, preds, average='macro')[2]\n",
        "print(macro_opt[j], \"\\n\")\n"
      ],
      "execution_count": null,
      "outputs": [
        {
          "output_type": "stream",
          "text": [
            "0.06122448979591836 \n",
            "\n"
          ],
          "name": "stdout"
        },
        {
          "output_type": "stream",
          "text": [
            "/usr/local/lib/python3.6/dist-packages/sklearn/metrics/_classification.py:1221: UndefinedMetricWarning: Precision and F-score are ill-defined and being set to 0.0 in labels with no predicted samples. Use `zero_division` parameter to control this behavior.\n",
            "  _warn_prf(average, modifier, msg_start, len(result))\n"
          ],
          "name": "stderr"
        }
      ]
    },
    {
      "cell_type": "markdown",
      "metadata": {
        "id": "KgQ081mrIxoN"
      },
      "source": [
        "#### **Most frequent**"
      ]
    },
    {
      "cell_type": "code",
      "metadata": {
        "colab": {
          "base_uri": "https://localhost:8080/"
        },
        "id": "Kw3UJ7lwI847",
        "outputId": "86bdaa38-76a8-401e-de42-ef6cdd1af9c4"
      },
      "source": [
        "k+=1\n",
        "\n",
        "start_time = time.time()\n",
        "\n",
        "model=dc_most_frequent.fit(train, labels_train)\n",
        "preds = dc_most_frequent.predict(test)\n",
        "\n",
        "times[k]= time.time()-start_time \n",
        "\n",
        "# υπολογίζουμε το confusion matrix\n",
        "cnf_matrix = confusion_matrix(labels_test, preds)\n",
        "\n",
        "# τυπώνουμε το confusion matrix\n",
        "print(cnf_matrix)"
      ],
      "execution_count": null,
      "outputs": [
        {
          "output_type": "stream",
          "text": [
            "[[129   0]\n",
            " [  9   0]]\n"
          ],
          "name": "stdout"
        }
      ]
    },
    {
      "cell_type": "code",
      "metadata": {
        "colab": {
          "base_uri": "https://localhost:8080/"
        },
        "id": "rbZQ4-iiJF7L",
        "outputId": "474b6c14-6290-487b-e5d6-088c19cd918a"
      },
      "source": [
        "# τυπώνουμε το f1_micro_average\n",
        "i += 1\n",
        "micro_opt[i]=precision_recall_fscore_support(labels_test, preds, average='micro')[2]\n",
        "print(micro_opt[i], \"\\n\")"
      ],
      "execution_count": null,
      "outputs": [
        {
          "output_type": "stream",
          "text": [
            "0.9347826086956522 \n",
            "\n"
          ],
          "name": "stdout"
        }
      ]
    },
    {
      "cell_type": "code",
      "metadata": {
        "colab": {
          "base_uri": "https://localhost:8080/"
        },
        "id": "bNEtEHiNJKqr",
        "outputId": "0adf16e2-737d-4991-a834-7f0e4cd1d95a"
      },
      "source": [
        "# τυπώνουμε το f1_macro_average\n",
        "j+= 1\n",
        "macro_opt[j]=precision_recall_fscore_support(labels_test, preds, average='macro')[2]\n",
        "print(macro_opt[j], \"\\n\")"
      ],
      "execution_count": null,
      "outputs": [
        {
          "output_type": "stream",
          "text": [
            "0.4831460674157303 \n",
            "\n"
          ],
          "name": "stdout"
        },
        {
          "output_type": "stream",
          "text": [
            "/usr/local/lib/python3.6/dist-packages/sklearn/metrics/_classification.py:1221: UndefinedMetricWarning: Precision and F-score are ill-defined and being set to 0.0 in labels with no predicted samples. Use `zero_division` parameter to control this behavior.\n",
            "  _warn_prf(average, modifier, msg_start, len(result))\n"
          ],
          "name": "stderr"
        }
      ]
    },
    {
      "cell_type": "markdown",
      "metadata": {
        "id": "fgEDgBjlTtXH"
      },
      "source": [
        "#### **Stratified**"
      ]
    },
    {
      "cell_type": "code",
      "metadata": {
        "colab": {
          "base_uri": "https://localhost:8080/"
        },
        "id": "45aFQiGUTZWS",
        "outputId": "0867c67f-1ef6-4055-f2e4-7e6ddd1613fc"
      },
      "source": [
        "k+=1\n",
        "\n",
        "start_time = time.time()\n",
        "\n",
        "model=dc_stratified.fit(train, labels_train)\n",
        "preds = dc_stratified.predict(test)\n",
        "\n",
        "times[k]=time.time()-start_time\n",
        "\n",
        "# υπολογίζουμε το confusion matrix\n",
        "cnf_matrix = confusion_matrix(labels_test, preds)\n",
        "\n",
        "# τυπώνουμε το confusion matrix\n",
        "print(cnf_matrix)"
      ],
      "execution_count": null,
      "outputs": [
        {
          "output_type": "stream",
          "text": [
            "[[111  18]\n",
            " [  9   0]]\n"
          ],
          "name": "stdout"
        }
      ]
    },
    {
      "cell_type": "code",
      "metadata": {
        "colab": {
          "base_uri": "https://localhost:8080/"
        },
        "id": "A73gK8jdTgTQ",
        "outputId": "f0f5986c-51ac-44c1-c80a-eb74ab93d1e5"
      },
      "source": [
        "#τυπώνουμε το f1_micro_average\n",
        "i += 1\n",
        "micro_opt[i]=precision_recall_fscore_support(labels_test, preds, average='micro')[2]\n",
        "print(micro[i], \"\\n\")"
      ],
      "execution_count": null,
      "outputs": [
        {
          "output_type": "stream",
          "text": [
            "0.8695652173913043 \n",
            "\n"
          ],
          "name": "stdout"
        }
      ]
    },
    {
      "cell_type": "code",
      "metadata": {
        "colab": {
          "base_uri": "https://localhost:8080/"
        },
        "id": "6aQc_tH9TjvD",
        "outputId": "43a34c3c-18ce-4280-bfcf-7f1d634b6d19"
      },
      "source": [
        "# τυπώνουμε το f1_macro_average\n",
        "j+= 1\n",
        "macro_opt[j]=precision_recall_fscore_support(labels_test, preds, average='macro')[2]\n",
        "print(macro[j], \"\\n\")"
      ],
      "execution_count": null,
      "outputs": [
        {
          "output_type": "stream",
          "text": [
            "0.46511627906976744 \n",
            "\n"
          ],
          "name": "stdout"
        }
      ]
    },
    {
      "cell_type": "markdown",
      "metadata": {
        "id": "BwaNSE24JbbK"
      },
      "source": [
        "### **Naive Bayes Classifier**"
      ]
    },
    {
      "cell_type": "code",
      "metadata": {
        "colab": {
          "base_uri": "https://localhost:8080/"
        },
        "id": "C71VQ47SJagu",
        "outputId": "14416e7f-8409-43b3-8a3e-33bc7b2da5b0"
      },
      "source": [
        "gnb = GaussianNB()\n",
        "\n",
        "k+=1\n",
        "\n",
        "# κάνουμε εκπαίδευση (fit) δηλαδή ουσιαστικά υπολογίζουμε \n",
        "#μέση τιμή και διακύμανση για όλα τα χαρακτηριστικά και κλάσεις στο training set\n",
        "\n",
        "start_time=time.time()\n",
        "\n",
        "model = gnb.fit(train, labels_train)\n",
        "preds = gnb.predict(test)\n",
        "\n",
        "times[k]=time.time()-start_time\n",
        "\n",
        "# υπολογίζουμε το confusion matrix\n",
        "cnf_matrix = confusion_matrix(labels_test, preds)\n",
        "\n",
        "# τυπώνουμε το confusion matrix\n",
        "print(cnf_matrix)"
      ],
      "execution_count": null,
      "outputs": [
        {
          "output_type": "stream",
          "text": [
            "[[129   0]\n",
            " [  0   9]]\n"
          ],
          "name": "stdout"
        }
      ]
    },
    {
      "cell_type": "code",
      "metadata": {
        "colab": {
          "base_uri": "https://localhost:8080/"
        },
        "id": "vgKWvZzPJqD0",
        "outputId": "73496ff2-0e19-435a-e55f-3300ff7c5c32"
      },
      "source": [
        "#τυπώνουμε το f1_micro_average\n",
        "i += 1\n",
        "micro_opt[i]=precision_recall_fscore_support(labels_test, preds, average='micro')[2]\n",
        "print(micro_opt[i], \"\\n\")"
      ],
      "execution_count": null,
      "outputs": [
        {
          "output_type": "stream",
          "text": [
            "1.0 \n",
            "\n"
          ],
          "name": "stdout"
        }
      ]
    },
    {
      "cell_type": "code",
      "metadata": {
        "colab": {
          "base_uri": "https://localhost:8080/"
        },
        "id": "MmmuYxO3KNAv",
        "outputId": "6d7fce4f-f486-4c29-8035-02778bfde0a2"
      },
      "source": [
        "# τυπώνουμε το f1_macro_average\n",
        "j+= 1\n",
        "macro_opt[j]=precision_recall_fscore_support(labels_test, preds, average='macro')[2]\n",
        "print(macro_opt[j], \"\\n\")"
      ],
      "execution_count": null,
      "outputs": [
        {
          "output_type": "stream",
          "text": [
            "1.0 \n",
            "\n"
          ],
          "name": "stdout"
        }
      ]
    },
    {
      "cell_type": "markdown",
      "metadata": {
        "id": "nl-Brdj-KVww"
      },
      "source": [
        "### **kNN & βελτιστοποίηση υπερμαραμετρου k**  "
      ]
    },
    {
      "cell_type": "code",
      "metadata": {
        "id": "XQVbtAWzKIb6"
      },
      "source": [
        "from sklearn.model_selection import cross_val_score\n",
        "from sklearn.metrics import accuracy_score"
      ],
      "execution_count": null,
      "outputs": []
    },
    {
      "cell_type": "code",
      "metadata": {
        "id": "C8C3F36BgZxW"
      },
      "source": [
        "def knn_optimization(metric):\n",
        "\n",
        " # φτιάχνουμε μια λίστα από το 1 έως το 50\n",
        " myList = list(range(1,50))\n",
        "\n",
        " # Κρατάμε μόνο τα περιττά k\n",
        " neighbors = list(filter(lambda x: x % 2 != 0, myList))\n",
        "\n",
        " # empty list that will hold cv scores\n",
        " cv_scores = []\n",
        "\n",
        " max = -1\n",
        " max_k = -1\n",
        "\n",
        " for k in neighbors:\n",
        "      knn = KNeighborsClassifier(n_neighbors=k)\n",
        "      scores_knn= cross_val_score(knn, train, labels_train, cv=10, scoring=metric)\n",
        "      max, max_k = (scores_knn.mean(), k) if scores_knn.mean() > max  else (max, max_k)\n",
        " return max_k,max\n"
      ],
      "execution_count": null,
      "outputs": []
    },
    {
      "cell_type": "code",
      "metadata": {
        "colab": {
          "base_uri": "https://localhost:8080/"
        },
        "id": "Y-z1qjlcjhJ8",
        "outputId": "1a8115bf-c078-4183-867c-05b81be27551"
      },
      "source": [
        "k_micro,micro_score=knn_optimization('f1_micro')\n",
        "print(k_micro,micro_score)"
      ],
      "execution_count": null,
      "outputs": [
        {
          "output_type": "stream",
          "text": [
            "3 0.945616883116883\n"
          ],
          "name": "stdout"
        }
      ]
    },
    {
      "cell_type": "code",
      "metadata": {
        "colab": {
          "base_uri": "https://localhost:8080/"
        },
        "id": "BER8nOo0jqab",
        "outputId": "bfa88c19-169d-4faa-8e51-10bdef181c8b"
      },
      "source": [
        "k_macro,macro_score=knn_optimization('f1_macro')\n",
        "print(k_macro,macro_score)"
      ],
      "execution_count": null,
      "outputs": [
        {
          "output_type": "stream",
          "text": [
            "1 0.7754284476928623\n"
          ],
          "name": "stdout"
        }
      ]
    },
    {
      "cell_type": "code",
      "metadata": {
        "colab": {
          "base_uri": "https://localhost:8080/"
        },
        "id": "IweL8YfppV_v",
        "outputId": "96b8de3e-35e8-4704-a170-e85f603fed8b"
      },
      "source": [
        "k+=1\n",
        "knn = KNeighborsClassifier(k_micro)\n",
        "\n",
        "start_time=time.time()\n",
        "\n",
        "knn.fit(train, labels_train)\n",
        "preds = knn.predict(test)\n",
        "\n",
        "times[k]=time.time()-start_time\n",
        "\n",
        "# υπολογίζουμε το confusion matrix\n",
        "cnf_matrix = confusion_matrix(labels_test, preds)\n",
        "\n",
        "# τυπώνουμε το confusion matrix\n",
        "print(cnf_matrix)"
      ],
      "execution_count": null,
      "outputs": [
        {
          "output_type": "stream",
          "text": [
            "[[129   0]\n",
            " [  4   5]]\n"
          ],
          "name": "stdout"
        }
      ]
    },
    {
      "cell_type": "code",
      "metadata": {
        "colab": {
          "base_uri": "https://localhost:8080/"
        },
        "id": "tW8Z005apkop",
        "outputId": "5a067c01-ac1d-4e9f-8426-b89752509d04"
      },
      "source": [
        "#τυπώνουμε το f1_micro_average\n",
        "i += 1\n",
        "micro_opt[i]=precision_recall_fscore_support(labels_test, preds, average='micro')[2]\n",
        "print(micro_opt[i], \"\\n\")"
      ],
      "execution_count": null,
      "outputs": [
        {
          "output_type": "stream",
          "text": [
            "0.9710144927536232 \n",
            "\n"
          ],
          "name": "stdout"
        }
      ]
    },
    {
      "cell_type": "code",
      "metadata": {
        "colab": {
          "base_uri": "https://localhost:8080/"
        },
        "id": "YDA86lw7poKy",
        "outputId": "7f615524-5614-49e1-b592-d2bcb5b0f448"
      },
      "source": [
        "# τυπώνουμε το f1_macro_average\n",
        "j+= 1\n",
        "macro_opt[j]=precision_recall_fscore_support(labels_test, preds, average='macro')[2]\n",
        "print(macro_opt[j], \"\\n\")"
      ],
      "execution_count": null,
      "outputs": [
        {
          "output_type": "stream",
          "text": [
            "0.8495092693565975 \n",
            "\n"
          ],
          "name": "stdout"
        }
      ]
    },
    {
      "cell_type": "markdown",
      "metadata": {
        "id": "IDaS5PjzazmJ"
      },
      "source": [
        "## **Χρόνοι για fit & predict**"
      ]
    },
    {
      "cell_type": "code",
      "metadata": {
        "colab": {
          "base_uri": "https://localhost:8080/"
        },
        "id": "Sblqq1-la9I8",
        "outputId": "c6496a27-db77-453c-94cd-b34b2c846e86"
      },
      "source": [
        "names=['uniform','constant_0','constant_1','most_frequent','stratified','gnb','knn']\n",
        "\n",
        "for item in range(0,6):\n",
        "  print(\"Συνολικός χρόνος fit & predict για τον classifier: \" ,names[item], times[item])"
      ],
      "execution_count": null,
      "outputs": [
        {
          "output_type": "stream",
          "text": [
            "Συνολικός χρόνος fit & predict για τον classifier:  uniform 0.001428365707397461\n",
            "Συνολικός χρόνος fit & predict για τον classifier:  constant_0 0.0008203983306884766\n",
            "Συνολικός χρόνος fit & predict για τον classifier:  constant_1 0.0011756420135498047\n",
            "Συνολικός χρόνος fit & predict για τον classifier:  most_frequent 0.00044655799865722656\n",
            "Συνολικός χρόνος fit & predict για τον classifier:  stratified 0.0009465217590332031\n",
            "Συνολικός χρόνος fit & predict για τον classifier:  gnb 0.0034546852111816406\n"
          ],
          "name": "stdout"
        }
      ]
    },
    {
      "cell_type": "markdown",
      "metadata": {
        "id": "he_dXmFQU56r"
      },
      "source": [
        "## **Σύγκριση classifiers πριν και μετά την βελτιστοποίηση**"
      ]
    },
    {
      "cell_type": "markdown",
      "metadata": {
        "id": "LTZuDLotVM1E"
      },
      "source": [
        "### ***F1 micro***"
      ]
    },
    {
      "cell_type": "code",
      "metadata": {
        "colab": {
          "base_uri": "https://localhost:8080/",
          "height": 498
        },
        "id": "a5_FDazyuPmz",
        "outputId": "a752bb59-fcf1-4afb-bd95-c9ad4c9053da"
      },
      "source": [
        "# set width of bar \n",
        "barWidth = 0.25\n",
        "fig = plt.subplots(figsize =(12, 8)) \n",
        "\n",
        "   \n",
        "br1 = np.arange(len(micro.values())) \n",
        "br2 = [x + barWidth for x in br1] \n",
        "br3 = [x + barWidth for x in br2] \n",
        "   \n",
        "# Make the plot \n",
        "plt.bar(br1,micro.values() , color ='b', width = barWidth)\n",
        "plt.bar(br2, micro_opt.values(), color ='grey', width = barWidth) \n",
        "\n",
        "   \n",
        "# Adding Xticks  \n",
        "plt.xlabel('classifiers_metrics', fontweight ='bold') \n",
        "plt.ylabel('f1_score', fontweight ='bold') \n",
        "plt.xticks([r + barWidth for r in range(len(micro.values()))], \n",
        "           ['uniform','constant_0','constant_1','most_frequent','stratified','gnb','knn']) \n",
        "   \n",
        "plt.show()"
      ],
      "execution_count": null,
      "outputs": [
        {
          "output_type": "display_data",
          "data": {
            "image/png": "[encoded data removed]",
            "text/plain": [
              "<Figure size 864x576 with 1 Axes>"
            ]
          },
          "metadata": {
            "tags": [],
            "needs_background": "light"
          }
        }
      ]
    },
    {
      "cell_type": "markdown",
      "metadata": {
        "id": "IRZgPT6AVUYU"
      },
      "source": [
        "### ***F1 macro***"
      ]
    },
    {
      "cell_type": "code",
      "metadata": {
        "colab": {
          "base_uri": "https://localhost:8080/",
          "height": 498
        },
        "id": "nyEmBH3VWQ6h",
        "outputId": "0628125a-1057-4b68-91e0-cc682dae8668"
      },
      "source": [
        "# set width of bar \n",
        "barWidth = 0.25\n",
        "fig = plt.subplots(figsize =(12, 8)) \n",
        "   \n",
        "   \n",
        "br1 = np.arange(len(macro.values())) \n",
        "br2 = [x + barWidth for x in br1] \n",
        "br3 = [x + barWidth for x in br2] \n",
        "   \n",
        "# Make the plot \n",
        "plt.bar(br1, macro.values(), color ='b', width = barWidth)\n",
        "plt.bar(br2, macro_opt.values(), color ='grey', width = barWidth) \n",
        "\n",
        "   \n",
        "# Adding Xticks  \n",
        "plt.xlabel('classifiers_metrics', fontweight ='bold') \n",
        "plt.ylabel('f1_score', fontweight ='bold') \n",
        "plt.xticks([r + barWidth for r in range(len(macro.values()))], \n",
        "           ['uniform','constant_0','constant_1','most_frequent','stratified','gnb','knn']) \n",
        "   \n",
        "plt.show()"
      ],
      "execution_count": null,
      "outputs": [
        {
          "output_type": "display_data",
          "data": {
            "image/png": "[encoded data removed]",
            "text/plain": [
              "<Figure size 864x576 with 1 Axes>"
            ]
          },
          "metadata": {
            "tags": [],
            "needs_background": "light"
          }
        }
      ]
    },
    {
      "cell_type": "markdown",
      "metadata": {
        "id": "pEVZ2h26caK_"
      },
      "source": [
        "Παρατηρούμε ότι σημαντικότερη βελτίωση έχουμε για τον knn classifier. Για τους υπόλοιπους ταξινομητές ,άλλοτε παρατηρούμε καλύτερες και άλλοτε χειρότερες επιδόσεις.(γενικά τα αποτέλεσματα μεταβάλονταν κάθε φορά που τρέχαμε το Notebook γεγονός που οφείλεται σε διαφορετικους τυχαίους διαχωρισμούς σε train και test set)"
      ]
    }
  ]
}