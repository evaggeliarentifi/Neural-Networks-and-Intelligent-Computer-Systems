{
  "nbformat": 4,
  "nbformat_minor": 0,
  "metadata": {
    "colab": {
      "name": "Αντίγραφο Β08.ipynb",
      "provenance": [],
      "collapsed_sections": [],
      "toc_visible": true
    },
    "kernelspec": {
      "name": "python3",
      "display_name": "Python 3"
    }
  },
  "cells": [
    {
      "cell_type": "markdown",
      "metadata": {
        "id": "4ZoaYOAO3LFX"
      },
      "source": [
        "# **Μεγάλο dataset (Β)**"
      ]
    },
    {
      "cell_type": "code",
      "metadata": {
        "id": "_qri9WZ2MKoV",
        "colab": {
          "base_uri": "https://localhost:8080/"
        },
        "outputId": "babe9338-bda9-43c9-acc8-90cf2bcf1fb2"
      },
      "source": [
        "# κάνουμε upgrade στις βιβλοθήκες που θα χρειαστούμε,\n",
        "\n",
        "!pip install --upgrade pip #upgrade pip package installer\n",
        "!pip install scikit-learn --upgrade #upgrade scikit-learn package\n",
        "!pip install numpy --upgrade #upgrade numpy package\n",
        "!pip install pandas --upgrade #--upgrade #upgrade pandas package"
      ],
      "execution_count": null,
      "outputs": [
        {
          "output_type": "stream",
          "text": [
            "Requirement already satisfied: pip in /usr/local/lib/python3.6/dist-packages (20.3.1)\n",
            "Requirement already satisfied: scikit-learn in /usr/local/lib/python3.6/dist-packages (0.23.2)\n",
            "Requirement already satisfied: numpy>=1.13.3 in /usr/local/lib/python3.6/dist-packages (from scikit-learn) (1.19.4)\n",
            "Requirement already satisfied: joblib>=0.11 in /usr/local/lib/python3.6/dist-packages (from scikit-learn) (0.17.0)\n",
            "Requirement already satisfied: threadpoolctl>=2.0.0 in /usr/local/lib/python3.6/dist-packages (from scikit-learn) (2.1.0)\n",
            "Requirement already satisfied: scipy>=0.19.1 in /usr/local/lib/python3.6/dist-packages (from scikit-learn) (1.4.1)\n",
            "Requirement already satisfied: numpy>=1.13.3 in /usr/local/lib/python3.6/dist-packages (from scikit-learn) (1.19.4)\n",
            "Requirement already satisfied: numpy in /usr/local/lib/python3.6/dist-packages (1.19.4)\n",
            "Requirement already satisfied: pandas in /usr/local/lib/python3.6/dist-packages (1.1.5)\n",
            "Requirement already satisfied: numpy>=1.15.4 in /usr/local/lib/python3.6/dist-packages (from pandas) (1.19.4)\n",
            "Requirement already satisfied: pytz>=2017.2 in /usr/local/lib/python3.6/dist-packages (from pandas) (2018.9)\n",
            "Requirement already satisfied: python-dateutil>=2.7.3 in /usr/local/lib/python3.6/dist-packages (from pandas) (2.8.1)\n",
            "Requirement already satisfied: six>=1.5 in /usr/local/lib/python3.6/dist-packages (from python-dateutil>=2.7.3->pandas) (1.15.0)\n"
          ],
          "name": "stdout"
        }
      ]
    },
    {
      "cell_type": "markdown",
      "metadata": {
        "id": "UctXfqCy3kgZ"
      },
      "source": [
        "**Βασικές πληροφορίες**\n",
        "\n",
        "1. Το σύνολο δεδομένων αυτό περιέχει έγγραφα επιχειρηματικών περιγραφών ελεύθερου κειμένου βραζιλιάνικων εταιρειών που κατατάσσονται σε έναν πίνακα που ονομάζεται Εθνική Ταξινόμηση των Οικονομικών Δραστηριοτήτων (CNAE). Τα αρχικά κείμενα υποβλήθηκαν σε προεπεξεργασία για τη λήψη του τρέχοντος συνόλου δεδομένων: αρχικά, διατηρήθηκαν μόνο γράμματα και στη συνέχεια αφαιρέθηκαν προθέσεις των κειμένων. Στη συνέχεια, οι λέξεις μετατράπηκαν στην κανονική τους μορφή. Τέλος, κάθε έγγραφο παρουσιάστηκε ως διάνυσμα, όπου το βάρος κάθε λέξης είναι η συχνότητά του στο έγγραφο. Αξίζει να σημειωθεί οτί το συγκεκριμένο σύνολο δεδομένων είναι αρκετά αραιό, αφού το 99,22% του πίνακα αποτελείται από μηδενικά."
      ]
    },
    {
      "cell_type": "code",
      "metadata": {
        "id": "9Bn4sYgK6WKT",
        "colab": {
          "base_uri": "https://localhost:8080/",
          "height": 439
        },
        "outputId": "c129703a-63a7-4dfb-c40d-22c8ec1d2ef3"
      },
      "source": [
        "#Εισάγουμε και διαβάζουμε το csv \"CNAE-9.data\" με την read_csv και option \"header=None\" γιατί \n",
        "#η πρώτη γραμμή περιέχει δεδομένα και όχι ονόματα κολόνων και τυπώνουμε τις πρώτες πέντε γραμμές:\n",
        "\n",
        "import pandas as pd\n",
        "\n",
        "df = pd.read_csv(\"CNAE-9.data\", header=None)\n",
        "df"
      ],
      "execution_count": null,
      "outputs": [
        {
          "output_type": "execute_result",
          "data": {
            "text/html": [
              "<div>\n",
              "<style scoped>\n",
              "    .dataframe tbody tr th:only-of-type {\n",
              "        vertical-align: middle;\n",
              "    }\n",
              "\n",
              "    .dataframe tbody tr th {\n",
              "        vertical-align: top;\n",
              "    }\n",
              "\n",
              "    .dataframe thead th {\n",
              "        text-align: right;\n",
              "    }\n",
              "</style>\n",
              "<table border=\"1\" class=\"dataframe\">\n",
              "  <thead>\n",
              "    <tr style=\"text-align: right;\">\n",
              "      <th></th>\n",
              "      <th>0</th>\n",
              "      <th>1</th>\n",
              "      <th>2</th>\n",
              "      <th>3</th>\n",
              "      <th>4</th>\n",
              "      <th>5</th>\n",
              "      <th>6</th>\n",
              "      <th>7</th>\n",
              "      <th>8</th>\n",
              "      <th>9</th>\n",
              "      <th>10</th>\n",
              "      <th>11</th>\n",
              "      <th>12</th>\n",
              "      <th>13</th>\n",
              "      <th>14</th>\n",
              "      <th>15</th>\n",
              "      <th>16</th>\n",
              "      <th>17</th>\n",
              "      <th>18</th>\n",
              "      <th>19</th>\n",
              "      <th>20</th>\n",
              "      <th>21</th>\n",
              "      <th>22</th>\n",
              "      <th>23</th>\n",
              "      <th>24</th>\n",
              "      <th>25</th>\n",
              "      <th>26</th>\n",
              "      <th>27</th>\n",
              "      <th>28</th>\n",
              "      <th>29</th>\n",
              "      <th>30</th>\n",
              "      <th>31</th>\n",
              "      <th>32</th>\n",
              "      <th>33</th>\n",
              "      <th>34</th>\n",
              "      <th>35</th>\n",
              "      <th>36</th>\n",
              "      <th>37</th>\n",
              "      <th>38</th>\n",
              "      <th>39</th>\n",
              "      <th>...</th>\n",
              "      <th>817</th>\n",
              "      <th>818</th>\n",
              "      <th>819</th>\n",
              "      <th>820</th>\n",
              "      <th>821</th>\n",
              "      <th>822</th>\n",
              "      <th>823</th>\n",
              "      <th>824</th>\n",
              "      <th>825</th>\n",
              "      <th>826</th>\n",
              "      <th>827</th>\n",
              "      <th>828</th>\n",
              "      <th>829</th>\n",
              "      <th>830</th>\n",
              "      <th>831</th>\n",
              "      <th>832</th>\n",
              "      <th>833</th>\n",
              "      <th>834</th>\n",
              "      <th>835</th>\n",
              "      <th>836</th>\n",
              "      <th>837</th>\n",
              "      <th>838</th>\n",
              "      <th>839</th>\n",
              "      <th>840</th>\n",
              "      <th>841</th>\n",
              "      <th>842</th>\n",
              "      <th>843</th>\n",
              "      <th>844</th>\n",
              "      <th>845</th>\n",
              "      <th>846</th>\n",
              "      <th>847</th>\n",
              "      <th>848</th>\n",
              "      <th>849</th>\n",
              "      <th>850</th>\n",
              "      <th>851</th>\n",
              "      <th>852</th>\n",
              "      <th>853</th>\n",
              "      <th>854</th>\n",
              "      <th>855</th>\n",
              "      <th>856</th>\n",
              "    </tr>\n",
              "  </thead>\n",
              "  <tbody>\n",
              "    <tr>\n",
              "      <th>0</th>\n",
              "      <td>1</td>\n",
              "      <td>0</td>\n",
              "      <td>0</td>\n",
              "      <td>0</td>\n",
              "      <td>0</td>\n",
              "      <td>0</td>\n",
              "      <td>0</td>\n",
              "      <td>0</td>\n",
              "      <td>0</td>\n",
              "      <td>0</td>\n",
              "      <td>0</td>\n",
              "      <td>0</td>\n",
              "      <td>0</td>\n",
              "      <td>0</td>\n",
              "      <td>0</td>\n",
              "      <td>0</td>\n",
              "      <td>0</td>\n",
              "      <td>0</td>\n",
              "      <td>0</td>\n",
              "      <td>0</td>\n",
              "      <td>0</td>\n",
              "      <td>0</td>\n",
              "      <td>0</td>\n",
              "      <td>0</td>\n",
              "      <td>0</td>\n",
              "      <td>0</td>\n",
              "      <td>0</td>\n",
              "      <td>0</td>\n",
              "      <td>0</td>\n",
              "      <td>0</td>\n",
              "      <td>0</td>\n",
              "      <td>0</td>\n",
              "      <td>0</td>\n",
              "      <td>0</td>\n",
              "      <td>0</td>\n",
              "      <td>0</td>\n",
              "      <td>0</td>\n",
              "      <td>0</td>\n",
              "      <td>0</td>\n",
              "      <td>0</td>\n",
              "      <td>...</td>\n",
              "      <td>0</td>\n",
              "      <td>0</td>\n",
              "      <td>0</td>\n",
              "      <td>0</td>\n",
              "      <td>0</td>\n",
              "      <td>0</td>\n",
              "      <td>0</td>\n",
              "      <td>0</td>\n",
              "      <td>0</td>\n",
              "      <td>0</td>\n",
              "      <td>0</td>\n",
              "      <td>0</td>\n",
              "      <td>0</td>\n",
              "      <td>1</td>\n",
              "      <td>0</td>\n",
              "      <td>0</td>\n",
              "      <td>0</td>\n",
              "      <td>0</td>\n",
              "      <td>0</td>\n",
              "      <td>0</td>\n",
              "      <td>0</td>\n",
              "      <td>0</td>\n",
              "      <td>0</td>\n",
              "      <td>0</td>\n",
              "      <td>0</td>\n",
              "      <td>0</td>\n",
              "      <td>0</td>\n",
              "      <td>0</td>\n",
              "      <td>0</td>\n",
              "      <td>0</td>\n",
              "      <td>0</td>\n",
              "      <td>0</td>\n",
              "      <td>0</td>\n",
              "      <td>0</td>\n",
              "      <td>0</td>\n",
              "      <td>0</td>\n",
              "      <td>0</td>\n",
              "      <td>0</td>\n",
              "      <td>0</td>\n",
              "      <td>0</td>\n",
              "    </tr>\n",
              "    <tr>\n",
              "      <th>1</th>\n",
              "      <td>2</td>\n",
              "      <td>0</td>\n",
              "      <td>0</td>\n",
              "      <td>0</td>\n",
              "      <td>0</td>\n",
              "      <td>0</td>\n",
              "      <td>0</td>\n",
              "      <td>0</td>\n",
              "      <td>0</td>\n",
              "      <td>0</td>\n",
              "      <td>0</td>\n",
              "      <td>0</td>\n",
              "      <td>0</td>\n",
              "      <td>0</td>\n",
              "      <td>0</td>\n",
              "      <td>0</td>\n",
              "      <td>0</td>\n",
              "      <td>0</td>\n",
              "      <td>0</td>\n",
              "      <td>0</td>\n",
              "      <td>0</td>\n",
              "      <td>0</td>\n",
              "      <td>0</td>\n",
              "      <td>0</td>\n",
              "      <td>0</td>\n",
              "      <td>0</td>\n",
              "      <td>0</td>\n",
              "      <td>0</td>\n",
              "      <td>0</td>\n",
              "      <td>0</td>\n",
              "      <td>0</td>\n",
              "      <td>0</td>\n",
              "      <td>0</td>\n",
              "      <td>0</td>\n",
              "      <td>0</td>\n",
              "      <td>0</td>\n",
              "      <td>0</td>\n",
              "      <td>0</td>\n",
              "      <td>0</td>\n",
              "      <td>0</td>\n",
              "      <td>...</td>\n",
              "      <td>0</td>\n",
              "      <td>0</td>\n",
              "      <td>0</td>\n",
              "      <td>0</td>\n",
              "      <td>0</td>\n",
              "      <td>0</td>\n",
              "      <td>0</td>\n",
              "      <td>0</td>\n",
              "      <td>0</td>\n",
              "      <td>0</td>\n",
              "      <td>0</td>\n",
              "      <td>0</td>\n",
              "      <td>0</td>\n",
              "      <td>0</td>\n",
              "      <td>0</td>\n",
              "      <td>0</td>\n",
              "      <td>0</td>\n",
              "      <td>0</td>\n",
              "      <td>0</td>\n",
              "      <td>0</td>\n",
              "      <td>0</td>\n",
              "      <td>0</td>\n",
              "      <td>0</td>\n",
              "      <td>0</td>\n",
              "      <td>0</td>\n",
              "      <td>0</td>\n",
              "      <td>0</td>\n",
              "      <td>0</td>\n",
              "      <td>0</td>\n",
              "      <td>0</td>\n",
              "      <td>0</td>\n",
              "      <td>0</td>\n",
              "      <td>0</td>\n",
              "      <td>0</td>\n",
              "      <td>0</td>\n",
              "      <td>0</td>\n",
              "      <td>0</td>\n",
              "      <td>0</td>\n",
              "      <td>0</td>\n",
              "      <td>0</td>\n",
              "    </tr>\n",
              "    <tr>\n",
              "      <th>2</th>\n",
              "      <td>3</td>\n",
              "      <td>0</td>\n",
              "      <td>0</td>\n",
              "      <td>0</td>\n",
              "      <td>0</td>\n",
              "      <td>0</td>\n",
              "      <td>0</td>\n",
              "      <td>0</td>\n",
              "      <td>0</td>\n",
              "      <td>0</td>\n",
              "      <td>0</td>\n",
              "      <td>0</td>\n",
              "      <td>0</td>\n",
              "      <td>0</td>\n",
              "      <td>0</td>\n",
              "      <td>0</td>\n",
              "      <td>0</td>\n",
              "      <td>0</td>\n",
              "      <td>0</td>\n",
              "      <td>0</td>\n",
              "      <td>0</td>\n",
              "      <td>0</td>\n",
              "      <td>0</td>\n",
              "      <td>0</td>\n",
              "      <td>0</td>\n",
              "      <td>0</td>\n",
              "      <td>0</td>\n",
              "      <td>0</td>\n",
              "      <td>0</td>\n",
              "      <td>0</td>\n",
              "      <td>0</td>\n",
              "      <td>0</td>\n",
              "      <td>0</td>\n",
              "      <td>0</td>\n",
              "      <td>0</td>\n",
              "      <td>0</td>\n",
              "      <td>0</td>\n",
              "      <td>0</td>\n",
              "      <td>0</td>\n",
              "      <td>0</td>\n",
              "      <td>...</td>\n",
              "      <td>0</td>\n",
              "      <td>0</td>\n",
              "      <td>0</td>\n",
              "      <td>0</td>\n",
              "      <td>0</td>\n",
              "      <td>0</td>\n",
              "      <td>0</td>\n",
              "      <td>0</td>\n",
              "      <td>0</td>\n",
              "      <td>0</td>\n",
              "      <td>0</td>\n",
              "      <td>0</td>\n",
              "      <td>0</td>\n",
              "      <td>0</td>\n",
              "      <td>0</td>\n",
              "      <td>0</td>\n",
              "      <td>0</td>\n",
              "      <td>0</td>\n",
              "      <td>0</td>\n",
              "      <td>0</td>\n",
              "      <td>0</td>\n",
              "      <td>0</td>\n",
              "      <td>0</td>\n",
              "      <td>0</td>\n",
              "      <td>0</td>\n",
              "      <td>0</td>\n",
              "      <td>0</td>\n",
              "      <td>0</td>\n",
              "      <td>0</td>\n",
              "      <td>0</td>\n",
              "      <td>0</td>\n",
              "      <td>0</td>\n",
              "      <td>0</td>\n",
              "      <td>0</td>\n",
              "      <td>0</td>\n",
              "      <td>0</td>\n",
              "      <td>0</td>\n",
              "      <td>0</td>\n",
              "      <td>0</td>\n",
              "      <td>0</td>\n",
              "    </tr>\n",
              "    <tr>\n",
              "      <th>3</th>\n",
              "      <td>4</td>\n",
              "      <td>0</td>\n",
              "      <td>0</td>\n",
              "      <td>0</td>\n",
              "      <td>0</td>\n",
              "      <td>0</td>\n",
              "      <td>0</td>\n",
              "      <td>0</td>\n",
              "      <td>0</td>\n",
              "      <td>0</td>\n",
              "      <td>0</td>\n",
              "      <td>0</td>\n",
              "      <td>0</td>\n",
              "      <td>0</td>\n",
              "      <td>0</td>\n",
              "      <td>0</td>\n",
              "      <td>0</td>\n",
              "      <td>0</td>\n",
              "      <td>0</td>\n",
              "      <td>0</td>\n",
              "      <td>0</td>\n",
              "      <td>0</td>\n",
              "      <td>0</td>\n",
              "      <td>0</td>\n",
              "      <td>0</td>\n",
              "      <td>0</td>\n",
              "      <td>0</td>\n",
              "      <td>0</td>\n",
              "      <td>0</td>\n",
              "      <td>0</td>\n",
              "      <td>0</td>\n",
              "      <td>0</td>\n",
              "      <td>0</td>\n",
              "      <td>0</td>\n",
              "      <td>0</td>\n",
              "      <td>0</td>\n",
              "      <td>0</td>\n",
              "      <td>0</td>\n",
              "      <td>0</td>\n",
              "      <td>0</td>\n",
              "      <td>...</td>\n",
              "      <td>0</td>\n",
              "      <td>0</td>\n",
              "      <td>0</td>\n",
              "      <td>0</td>\n",
              "      <td>0</td>\n",
              "      <td>0</td>\n",
              "      <td>1</td>\n",
              "      <td>0</td>\n",
              "      <td>0</td>\n",
              "      <td>0</td>\n",
              "      <td>0</td>\n",
              "      <td>0</td>\n",
              "      <td>0</td>\n",
              "      <td>0</td>\n",
              "      <td>0</td>\n",
              "      <td>0</td>\n",
              "      <td>0</td>\n",
              "      <td>0</td>\n",
              "      <td>0</td>\n",
              "      <td>0</td>\n",
              "      <td>0</td>\n",
              "      <td>0</td>\n",
              "      <td>0</td>\n",
              "      <td>0</td>\n",
              "      <td>0</td>\n",
              "      <td>0</td>\n",
              "      <td>0</td>\n",
              "      <td>0</td>\n",
              "      <td>0</td>\n",
              "      <td>0</td>\n",
              "      <td>0</td>\n",
              "      <td>0</td>\n",
              "      <td>0</td>\n",
              "      <td>0</td>\n",
              "      <td>0</td>\n",
              "      <td>0</td>\n",
              "      <td>0</td>\n",
              "      <td>0</td>\n",
              "      <td>0</td>\n",
              "      <td>0</td>\n",
              "    </tr>\n",
              "    <tr>\n",
              "      <th>4</th>\n",
              "      <td>5</td>\n",
              "      <td>0</td>\n",
              "      <td>0</td>\n",
              "      <td>0</td>\n",
              "      <td>0</td>\n",
              "      <td>0</td>\n",
              "      <td>0</td>\n",
              "      <td>0</td>\n",
              "      <td>0</td>\n",
              "      <td>0</td>\n",
              "      <td>0</td>\n",
              "      <td>0</td>\n",
              "      <td>0</td>\n",
              "      <td>0</td>\n",
              "      <td>0</td>\n",
              "      <td>0</td>\n",
              "      <td>0</td>\n",
              "      <td>0</td>\n",
              "      <td>0</td>\n",
              "      <td>0</td>\n",
              "      <td>0</td>\n",
              "      <td>0</td>\n",
              "      <td>0</td>\n",
              "      <td>0</td>\n",
              "      <td>0</td>\n",
              "      <td>0</td>\n",
              "      <td>0</td>\n",
              "      <td>0</td>\n",
              "      <td>0</td>\n",
              "      <td>0</td>\n",
              "      <td>0</td>\n",
              "      <td>0</td>\n",
              "      <td>0</td>\n",
              "      <td>0</td>\n",
              "      <td>0</td>\n",
              "      <td>0</td>\n",
              "      <td>0</td>\n",
              "      <td>0</td>\n",
              "      <td>0</td>\n",
              "      <td>0</td>\n",
              "      <td>...</td>\n",
              "      <td>0</td>\n",
              "      <td>0</td>\n",
              "      <td>0</td>\n",
              "      <td>0</td>\n",
              "      <td>0</td>\n",
              "      <td>0</td>\n",
              "      <td>0</td>\n",
              "      <td>0</td>\n",
              "      <td>0</td>\n",
              "      <td>0</td>\n",
              "      <td>0</td>\n",
              "      <td>0</td>\n",
              "      <td>0</td>\n",
              "      <td>0</td>\n",
              "      <td>0</td>\n",
              "      <td>0</td>\n",
              "      <td>0</td>\n",
              "      <td>0</td>\n",
              "      <td>0</td>\n",
              "      <td>0</td>\n",
              "      <td>0</td>\n",
              "      <td>0</td>\n",
              "      <td>0</td>\n",
              "      <td>0</td>\n",
              "      <td>0</td>\n",
              "      <td>0</td>\n",
              "      <td>0</td>\n",
              "      <td>0</td>\n",
              "      <td>0</td>\n",
              "      <td>0</td>\n",
              "      <td>0</td>\n",
              "      <td>0</td>\n",
              "      <td>0</td>\n",
              "      <td>0</td>\n",
              "      <td>0</td>\n",
              "      <td>0</td>\n",
              "      <td>0</td>\n",
              "      <td>0</td>\n",
              "      <td>0</td>\n",
              "      <td>0</td>\n",
              "    </tr>\n",
              "    <tr>\n",
              "      <th>...</th>\n",
              "      <td>...</td>\n",
              "      <td>...</td>\n",
              "      <td>...</td>\n",
              "      <td>...</td>\n",
              "      <td>...</td>\n",
              "      <td>...</td>\n",
              "      <td>...</td>\n",
              "      <td>...</td>\n",
              "      <td>...</td>\n",
              "      <td>...</td>\n",
              "      <td>...</td>\n",
              "      <td>...</td>\n",
              "      <td>...</td>\n",
              "      <td>...</td>\n",
              "      <td>...</td>\n",
              "      <td>...</td>\n",
              "      <td>...</td>\n",
              "      <td>...</td>\n",
              "      <td>...</td>\n",
              "      <td>...</td>\n",
              "      <td>...</td>\n",
              "      <td>...</td>\n",
              "      <td>...</td>\n",
              "      <td>...</td>\n",
              "      <td>...</td>\n",
              "      <td>...</td>\n",
              "      <td>...</td>\n",
              "      <td>...</td>\n",
              "      <td>...</td>\n",
              "      <td>...</td>\n",
              "      <td>...</td>\n",
              "      <td>...</td>\n",
              "      <td>...</td>\n",
              "      <td>...</td>\n",
              "      <td>...</td>\n",
              "      <td>...</td>\n",
              "      <td>...</td>\n",
              "      <td>...</td>\n",
              "      <td>...</td>\n",
              "      <td>...</td>\n",
              "      <td>...</td>\n",
              "      <td>...</td>\n",
              "      <td>...</td>\n",
              "      <td>...</td>\n",
              "      <td>...</td>\n",
              "      <td>...</td>\n",
              "      <td>...</td>\n",
              "      <td>...</td>\n",
              "      <td>...</td>\n",
              "      <td>...</td>\n",
              "      <td>...</td>\n",
              "      <td>...</td>\n",
              "      <td>...</td>\n",
              "      <td>...</td>\n",
              "      <td>...</td>\n",
              "      <td>...</td>\n",
              "      <td>...</td>\n",
              "      <td>...</td>\n",
              "      <td>...</td>\n",
              "      <td>...</td>\n",
              "      <td>...</td>\n",
              "      <td>...</td>\n",
              "      <td>...</td>\n",
              "      <td>...</td>\n",
              "      <td>...</td>\n",
              "      <td>...</td>\n",
              "      <td>...</td>\n",
              "      <td>...</td>\n",
              "      <td>...</td>\n",
              "      <td>...</td>\n",
              "      <td>...</td>\n",
              "      <td>...</td>\n",
              "      <td>...</td>\n",
              "      <td>...</td>\n",
              "      <td>...</td>\n",
              "      <td>...</td>\n",
              "      <td>...</td>\n",
              "      <td>...</td>\n",
              "      <td>...</td>\n",
              "      <td>...</td>\n",
              "      <td>...</td>\n",
              "    </tr>\n",
              "    <tr>\n",
              "      <th>1075</th>\n",
              "      <td>5</td>\n",
              "      <td>0</td>\n",
              "      <td>0</td>\n",
              "      <td>0</td>\n",
              "      <td>0</td>\n",
              "      <td>0</td>\n",
              "      <td>0</td>\n",
              "      <td>0</td>\n",
              "      <td>0</td>\n",
              "      <td>0</td>\n",
              "      <td>0</td>\n",
              "      <td>0</td>\n",
              "      <td>0</td>\n",
              "      <td>0</td>\n",
              "      <td>0</td>\n",
              "      <td>0</td>\n",
              "      <td>0</td>\n",
              "      <td>0</td>\n",
              "      <td>0</td>\n",
              "      <td>0</td>\n",
              "      <td>0</td>\n",
              "      <td>0</td>\n",
              "      <td>0</td>\n",
              "      <td>0</td>\n",
              "      <td>0</td>\n",
              "      <td>0</td>\n",
              "      <td>0</td>\n",
              "      <td>0</td>\n",
              "      <td>0</td>\n",
              "      <td>0</td>\n",
              "      <td>0</td>\n",
              "      <td>0</td>\n",
              "      <td>0</td>\n",
              "      <td>0</td>\n",
              "      <td>0</td>\n",
              "      <td>0</td>\n",
              "      <td>0</td>\n",
              "      <td>0</td>\n",
              "      <td>0</td>\n",
              "      <td>0</td>\n",
              "      <td>...</td>\n",
              "      <td>0</td>\n",
              "      <td>0</td>\n",
              "      <td>0</td>\n",
              "      <td>0</td>\n",
              "      <td>0</td>\n",
              "      <td>0</td>\n",
              "      <td>0</td>\n",
              "      <td>0</td>\n",
              "      <td>0</td>\n",
              "      <td>0</td>\n",
              "      <td>0</td>\n",
              "      <td>0</td>\n",
              "      <td>0</td>\n",
              "      <td>0</td>\n",
              "      <td>0</td>\n",
              "      <td>0</td>\n",
              "      <td>0</td>\n",
              "      <td>0</td>\n",
              "      <td>0</td>\n",
              "      <td>0</td>\n",
              "      <td>0</td>\n",
              "      <td>0</td>\n",
              "      <td>0</td>\n",
              "      <td>0</td>\n",
              "      <td>0</td>\n",
              "      <td>0</td>\n",
              "      <td>0</td>\n",
              "      <td>0</td>\n",
              "      <td>0</td>\n",
              "      <td>0</td>\n",
              "      <td>0</td>\n",
              "      <td>0</td>\n",
              "      <td>0</td>\n",
              "      <td>0</td>\n",
              "      <td>1</td>\n",
              "      <td>0</td>\n",
              "      <td>0</td>\n",
              "      <td>0</td>\n",
              "      <td>0</td>\n",
              "      <td>0</td>\n",
              "    </tr>\n",
              "    <tr>\n",
              "      <th>1076</th>\n",
              "      <td>6</td>\n",
              "      <td>0</td>\n",
              "      <td>0</td>\n",
              "      <td>0</td>\n",
              "      <td>0</td>\n",
              "      <td>0</td>\n",
              "      <td>0</td>\n",
              "      <td>0</td>\n",
              "      <td>0</td>\n",
              "      <td>0</td>\n",
              "      <td>0</td>\n",
              "      <td>0</td>\n",
              "      <td>0</td>\n",
              "      <td>0</td>\n",
              "      <td>0</td>\n",
              "      <td>0</td>\n",
              "      <td>0</td>\n",
              "      <td>0</td>\n",
              "      <td>0</td>\n",
              "      <td>0</td>\n",
              "      <td>0</td>\n",
              "      <td>0</td>\n",
              "      <td>0</td>\n",
              "      <td>0</td>\n",
              "      <td>0</td>\n",
              "      <td>0</td>\n",
              "      <td>0</td>\n",
              "      <td>0</td>\n",
              "      <td>0</td>\n",
              "      <td>0</td>\n",
              "      <td>0</td>\n",
              "      <td>0</td>\n",
              "      <td>0</td>\n",
              "      <td>0</td>\n",
              "      <td>0</td>\n",
              "      <td>0</td>\n",
              "      <td>0</td>\n",
              "      <td>0</td>\n",
              "      <td>0</td>\n",
              "      <td>0</td>\n",
              "      <td>...</td>\n",
              "      <td>0</td>\n",
              "      <td>0</td>\n",
              "      <td>0</td>\n",
              "      <td>0</td>\n",
              "      <td>0</td>\n",
              "      <td>0</td>\n",
              "      <td>0</td>\n",
              "      <td>0</td>\n",
              "      <td>0</td>\n",
              "      <td>0</td>\n",
              "      <td>0</td>\n",
              "      <td>0</td>\n",
              "      <td>0</td>\n",
              "      <td>0</td>\n",
              "      <td>0</td>\n",
              "      <td>0</td>\n",
              "      <td>0</td>\n",
              "      <td>0</td>\n",
              "      <td>0</td>\n",
              "      <td>0</td>\n",
              "      <td>0</td>\n",
              "      <td>0</td>\n",
              "      <td>0</td>\n",
              "      <td>0</td>\n",
              "      <td>0</td>\n",
              "      <td>0</td>\n",
              "      <td>0</td>\n",
              "      <td>0</td>\n",
              "      <td>0</td>\n",
              "      <td>0</td>\n",
              "      <td>0</td>\n",
              "      <td>0</td>\n",
              "      <td>0</td>\n",
              "      <td>0</td>\n",
              "      <td>0</td>\n",
              "      <td>0</td>\n",
              "      <td>0</td>\n",
              "      <td>0</td>\n",
              "      <td>0</td>\n",
              "      <td>0</td>\n",
              "    </tr>\n",
              "    <tr>\n",
              "      <th>1077</th>\n",
              "      <td>7</td>\n",
              "      <td>0</td>\n",
              "      <td>0</td>\n",
              "      <td>0</td>\n",
              "      <td>0</td>\n",
              "      <td>0</td>\n",
              "      <td>0</td>\n",
              "      <td>0</td>\n",
              "      <td>0</td>\n",
              "      <td>0</td>\n",
              "      <td>0</td>\n",
              "      <td>0</td>\n",
              "      <td>0</td>\n",
              "      <td>0</td>\n",
              "      <td>0</td>\n",
              "      <td>0</td>\n",
              "      <td>0</td>\n",
              "      <td>0</td>\n",
              "      <td>0</td>\n",
              "      <td>0</td>\n",
              "      <td>0</td>\n",
              "      <td>0</td>\n",
              "      <td>0</td>\n",
              "      <td>0</td>\n",
              "      <td>0</td>\n",
              "      <td>0</td>\n",
              "      <td>0</td>\n",
              "      <td>0</td>\n",
              "      <td>0</td>\n",
              "      <td>0</td>\n",
              "      <td>0</td>\n",
              "      <td>0</td>\n",
              "      <td>0</td>\n",
              "      <td>0</td>\n",
              "      <td>0</td>\n",
              "      <td>0</td>\n",
              "      <td>0</td>\n",
              "      <td>0</td>\n",
              "      <td>0</td>\n",
              "      <td>0</td>\n",
              "      <td>...</td>\n",
              "      <td>0</td>\n",
              "      <td>0</td>\n",
              "      <td>0</td>\n",
              "      <td>0</td>\n",
              "      <td>0</td>\n",
              "      <td>0</td>\n",
              "      <td>0</td>\n",
              "      <td>0</td>\n",
              "      <td>0</td>\n",
              "      <td>0</td>\n",
              "      <td>0</td>\n",
              "      <td>0</td>\n",
              "      <td>0</td>\n",
              "      <td>0</td>\n",
              "      <td>0</td>\n",
              "      <td>0</td>\n",
              "      <td>0</td>\n",
              "      <td>0</td>\n",
              "      <td>0</td>\n",
              "      <td>0</td>\n",
              "      <td>0</td>\n",
              "      <td>0</td>\n",
              "      <td>0</td>\n",
              "      <td>0</td>\n",
              "      <td>0</td>\n",
              "      <td>0</td>\n",
              "      <td>0</td>\n",
              "      <td>0</td>\n",
              "      <td>0</td>\n",
              "      <td>0</td>\n",
              "      <td>0</td>\n",
              "      <td>0</td>\n",
              "      <td>0</td>\n",
              "      <td>0</td>\n",
              "      <td>0</td>\n",
              "      <td>0</td>\n",
              "      <td>0</td>\n",
              "      <td>0</td>\n",
              "      <td>0</td>\n",
              "      <td>0</td>\n",
              "    </tr>\n",
              "    <tr>\n",
              "      <th>1078</th>\n",
              "      <td>8</td>\n",
              "      <td>0</td>\n",
              "      <td>0</td>\n",
              "      <td>0</td>\n",
              "      <td>0</td>\n",
              "      <td>0</td>\n",
              "      <td>0</td>\n",
              "      <td>0</td>\n",
              "      <td>0</td>\n",
              "      <td>0</td>\n",
              "      <td>0</td>\n",
              "      <td>0</td>\n",
              "      <td>0</td>\n",
              "      <td>0</td>\n",
              "      <td>0</td>\n",
              "      <td>0</td>\n",
              "      <td>0</td>\n",
              "      <td>0</td>\n",
              "      <td>0</td>\n",
              "      <td>0</td>\n",
              "      <td>0</td>\n",
              "      <td>0</td>\n",
              "      <td>0</td>\n",
              "      <td>0</td>\n",
              "      <td>0</td>\n",
              "      <td>0</td>\n",
              "      <td>0</td>\n",
              "      <td>0</td>\n",
              "      <td>0</td>\n",
              "      <td>0</td>\n",
              "      <td>0</td>\n",
              "      <td>0</td>\n",
              "      <td>0</td>\n",
              "      <td>0</td>\n",
              "      <td>0</td>\n",
              "      <td>0</td>\n",
              "      <td>0</td>\n",
              "      <td>0</td>\n",
              "      <td>0</td>\n",
              "      <td>0</td>\n",
              "      <td>...</td>\n",
              "      <td>0</td>\n",
              "      <td>0</td>\n",
              "      <td>0</td>\n",
              "      <td>0</td>\n",
              "      <td>0</td>\n",
              "      <td>0</td>\n",
              "      <td>0</td>\n",
              "      <td>0</td>\n",
              "      <td>0</td>\n",
              "      <td>0</td>\n",
              "      <td>0</td>\n",
              "      <td>0</td>\n",
              "      <td>0</td>\n",
              "      <td>0</td>\n",
              "      <td>0</td>\n",
              "      <td>0</td>\n",
              "      <td>0</td>\n",
              "      <td>0</td>\n",
              "      <td>0</td>\n",
              "      <td>0</td>\n",
              "      <td>0</td>\n",
              "      <td>0</td>\n",
              "      <td>0</td>\n",
              "      <td>0</td>\n",
              "      <td>0</td>\n",
              "      <td>0</td>\n",
              "      <td>0</td>\n",
              "      <td>0</td>\n",
              "      <td>0</td>\n",
              "      <td>0</td>\n",
              "      <td>0</td>\n",
              "      <td>0</td>\n",
              "      <td>0</td>\n",
              "      <td>0</td>\n",
              "      <td>0</td>\n",
              "      <td>0</td>\n",
              "      <td>0</td>\n",
              "      <td>0</td>\n",
              "      <td>0</td>\n",
              "      <td>0</td>\n",
              "    </tr>\n",
              "    <tr>\n",
              "      <th>1079</th>\n",
              "      <td>9</td>\n",
              "      <td>0</td>\n",
              "      <td>0</td>\n",
              "      <td>0</td>\n",
              "      <td>0</td>\n",
              "      <td>0</td>\n",
              "      <td>0</td>\n",
              "      <td>0</td>\n",
              "      <td>0</td>\n",
              "      <td>0</td>\n",
              "      <td>0</td>\n",
              "      <td>0</td>\n",
              "      <td>0</td>\n",
              "      <td>0</td>\n",
              "      <td>0</td>\n",
              "      <td>0</td>\n",
              "      <td>0</td>\n",
              "      <td>0</td>\n",
              "      <td>0</td>\n",
              "      <td>0</td>\n",
              "      <td>0</td>\n",
              "      <td>0</td>\n",
              "      <td>0</td>\n",
              "      <td>0</td>\n",
              "      <td>0</td>\n",
              "      <td>0</td>\n",
              "      <td>0</td>\n",
              "      <td>0</td>\n",
              "      <td>0</td>\n",
              "      <td>0</td>\n",
              "      <td>0</td>\n",
              "      <td>0</td>\n",
              "      <td>0</td>\n",
              "      <td>0</td>\n",
              "      <td>0</td>\n",
              "      <td>0</td>\n",
              "      <td>0</td>\n",
              "      <td>0</td>\n",
              "      <td>0</td>\n",
              "      <td>0</td>\n",
              "      <td>...</td>\n",
              "      <td>0</td>\n",
              "      <td>0</td>\n",
              "      <td>0</td>\n",
              "      <td>0</td>\n",
              "      <td>0</td>\n",
              "      <td>0</td>\n",
              "      <td>1</td>\n",
              "      <td>0</td>\n",
              "      <td>0</td>\n",
              "      <td>0</td>\n",
              "      <td>0</td>\n",
              "      <td>0</td>\n",
              "      <td>0</td>\n",
              "      <td>0</td>\n",
              "      <td>0</td>\n",
              "      <td>0</td>\n",
              "      <td>0</td>\n",
              "      <td>0</td>\n",
              "      <td>0</td>\n",
              "      <td>0</td>\n",
              "      <td>0</td>\n",
              "      <td>0</td>\n",
              "      <td>0</td>\n",
              "      <td>0</td>\n",
              "      <td>0</td>\n",
              "      <td>0</td>\n",
              "      <td>0</td>\n",
              "      <td>0</td>\n",
              "      <td>0</td>\n",
              "      <td>0</td>\n",
              "      <td>0</td>\n",
              "      <td>0</td>\n",
              "      <td>0</td>\n",
              "      <td>0</td>\n",
              "      <td>0</td>\n",
              "      <td>0</td>\n",
              "      <td>0</td>\n",
              "      <td>0</td>\n",
              "      <td>0</td>\n",
              "      <td>0</td>\n",
              "    </tr>\n",
              "  </tbody>\n",
              "</table>\n",
              "<p>1080 rows × 857 columns</p>\n",
              "</div>"
            ],
            "text/plain": [
              "      0    1    2    3    4    5    6    ...  850  851  852  853  854  855  856\n",
              "0       1    0    0    0    0    0    0  ...    0    0    0    0    0    0    0\n",
              "1       2    0    0    0    0    0    0  ...    0    0    0    0    0    0    0\n",
              "2       3    0    0    0    0    0    0  ...    0    0    0    0    0    0    0\n",
              "3       4    0    0    0    0    0    0  ...    0    0    0    0    0    0    0\n",
              "4       5    0    0    0    0    0    0  ...    0    0    0    0    0    0    0\n",
              "...   ...  ...  ...  ...  ...  ...  ...  ...  ...  ...  ...  ...  ...  ...  ...\n",
              "1075    5    0    0    0    0    0    0  ...    0    1    0    0    0    0    0\n",
              "1076    6    0    0    0    0    0    0  ...    0    0    0    0    0    0    0\n",
              "1077    7    0    0    0    0    0    0  ...    0    0    0    0    0    0    0\n",
              "1078    8    0    0    0    0    0    0  ...    0    0    0    0    0    0    0\n",
              "1079    9    0    0    0    0    0    0  ...    0    0    0    0    0    0    0\n",
              "\n",
              "[1080 rows x 857 columns]"
            ]
          },
          "metadata": {
            "tags": []
          },
          "execution_count": 4
        }
      ]
    },
    {
      "cell_type": "markdown",
      "metadata": {
        "id": "uHV-Ooux63kT"
      },
      "source": [
        "2. Όπως φαίνεται και από παραπάνω έχουμε 1080 αρχεία (γραμμές του πίνακα) και καθένα από αυτά διαθέτει 856 χαρακτηριστικά (στήλες του πίνακα- η πρώτη στήλη αποτελεί τις ετικέτες και όχι χαρακτηριστικό). Το είδος των χαρακτηριστικών είναι ακέραιες αριθμητικές τιμές. Δεν υπάρχουν μη διατεταγμένα χαρακτηριστικά."
      ]
    },
    {
      "cell_type": "code",
      "metadata": {
        "colab": {
          "base_uri": "https://localhost:8080/"
        },
        "id": "T85PeNDj8dgu",
        "outputId": "63b6e1a6-f23e-45a1-8773-427d74648cc8"
      },
      "source": [
        "print (df.shape)"
      ],
      "execution_count": null,
      "outputs": [
        {
          "output_type": "stream",
          "text": [
            "(1080, 857)\n"
          ],
          "name": "stdout"
        }
      ]
    },
    {
      "cell_type": "code",
      "metadata": {
        "colab": {
          "base_uri": "https://localhost:8080/"
        },
        "id": "cfZ3gPv-81RB",
        "outputId": "b8c647d3-8627-4572-eace-c1d9aa416374"
      },
      "source": [
        "df_info = df.info()\n",
        "print(df_info)"
      ],
      "execution_count": null,
      "outputs": [
        {
          "output_type": "stream",
          "text": [
            "<class 'pandas.core.frame.DataFrame'>\n",
            "RangeIndex: 1080 entries, 0 to 1079\n",
            "Columns: 857 entries, 0 to 856\n",
            "dtypes: int64(857)\n",
            "memory usage: 7.1 MB\n",
            "None\n"
          ],
          "name": "stdout"
        }
      ]
    },
    {
      "cell_type": "markdown",
      "metadata": {
        "id": "nRCvmK71CFkJ"
      },
      "source": [
        "3. Παρατηρούμε ότι δεν υπάρχουν ούτε επικεφαλίδες ούτε αρίθμηση γραμμών, επομένως δεν χρειάζεται να υπάρξει ειδική μέριμνα για indexes που δεν αποτελούν δείγματα του συνόλου.\n",
        "4. Οι ετικέτες των κλάσεων είναι ακέραιοι αριθμοί, με εύρος τιμών από 1-9 και βρίσκονται στην 1η στήλη του πίνακα, όπως φαίνεται και παραπάνω.\n",
        "5. Δεν χρειάστηκε κάποια ειδική μετατροπή των αρχείων text.\n",
        "6. Όπως βλέπουμε και από το αρχείο CNAE-9.names, δεν υπάρχουν απουσιάζουσες τιμές. Παρακάτω παρατίθεται και το αντίστοιχο screenshot: ![attr.PNG](data:image/png;base64,iVBORw0KGgoAAAANSUhEUgAAASwAAAAgCAYAAACoyEW6AAAAAXNSR0IArs4c6QAAAARnQU1BAACxjwv8YQUAAAAJcEhZcwAADsMAAA7DAcdvqGQAAASASURBVHhe7ZoLcqwgEEVnXS6I9bgaN+NifH35SIMIOBorvNxTZSUjCv296CSfjRBCBoGCRQgZBgoWIWQYKFiEkGGgYBFChoGCRQgZBgoWIWQYKFiEkGGgYBFChoGCRQgZBgoWIWQYKFiEkGGgYBFChsEL1rotZto+n489JrO407dZt3nCnNM2r/4UWIxba5r9CcdiZO3kwmf56fnLLJvxcS35/CYl/3HukJ/fwjpv0x47I5EEOp6ddod6k+P9/N/D5Sfavc6xTz+P9ek4WMFCEIxKpP38mGa5otMiCHGcplCAfwTEQcQKvpd6Zm7EozV+h3m6L1g/Z58IlMQtNQ8bocnOtUFdjyZY4NAvvpb+IlGwVLU9mlgE18yxoO3nJS3w5g4oBZo8ASKBOmGN8cr88NXdY+Jufmg+NI0am918V2K0x1hsSe7zgm7nVseej9a4oHdh2GavvxBfK1jLnProLwvxCevlO36Pfduq4icH6qE/clgz20DzGGrb5anLzPriSKmum/6Bpv2t+gSrfzLMa6uN3eSQ12AkYl6rfxkLa3TV9838vIl/JYTBCDKcNZt50mAvUKHIQvGVduRSQQF3ftltWtGAKmGt8UBtft2kdkdT17mG9p9X7O4Sp8I85+Ce8EQghSu25XeX4qFpjSO+aFbEWkyUZfxPxZn/9rUdNoUhW8BxPdwXesWSC4ZQs2+WZkmuxvxSY92EGvLYBk4nTHyF6CT2emr5r/nXst/N26q/m4Ilk+9+Z4J1eEK2+Ys1Bvuq9X03Py/iBEsCoBO2iponAbjDXmxoVKf+4IpgSYjtvfsOoILvaI07virYrDgshYatguvVAiiYZD3hCcFq2XTmf+mVUMekGh/PqX2In89LejT8ydhtLOUD9Zvk/0HB6rK/r/6+JReqVccAvxec3e8R7vv3e7CCpZ2zdBR/NycBvSZYCtlKIainX15Xxr8u2Hyui/EJrxnJkcXkvxUsOYvd/jZ+zYMtmB9fviuFOF7jOPO/7t9F+1v1+QUH8ZkfFKyn8vMS6jusmEgXlPjZ8eUj7QOChYZK7EPA1Zyt8cDZ/PWEZg0tBXntldAVRHq1e0XUS+o1UPCTxFnf0xrPbS5xHl/JK2wM8y9oiGifvs+OSR3k89TsQ/PglekeeEKXecSuZGW7oci5sLb/PquQ/lP/W/617O+rv/uvhA7Uk8tXIKlPUHglrNX3M/l5B/8dVvalXSnbCNTVgKOY/Jz7n6CTc5grzJsfcR00t1H26fdxUB+vz49khnPWbUlm+ByT6osE5zE3GjKpkBNK/if2qCZHEYXzmX/gfLzsX0xh3X/39Cd2+Ea1Y/n6tgHUGJ4g5Hcdg7r96b/NfCA8YmDmYpOa4IS58YXxYj+X4q0P57+l6V/d/lZ9OoIdat0O9NP5bg9qNHkqyvpXxsIaffX9TH7ewAsWuQIaotQ4hJCfhYLVifsHWL8zPflXVEJINxQsQsgwULAIIcNAwSKEDAMFixAyDBQsQsgwULAIIcNAwSKEDAMFixAyDBQsQsggbNs/LhIO3tcOdl0AAAAASUVORK5CYII=)\n",
        "\n"
      ]
    },
    {
      "cell_type": "code",
      "metadata": {
        "colab": {
          "base_uri": "https://localhost:8080/"
        },
        "id": "L9i7vBMFF3m9",
        "outputId": "f9f73ec0-0ff7-4fd4-a57d-c238e5d31477"
      },
      "source": [
        "#Θα μετρήσουμε πόσα δείγματα έχουμε από κάθε κλάση στο data set μας\n",
        "print(\"we have\",(df[0]==1).sum(),\"1\")\n",
        "print(\"we have\",(df[0]==2).sum(),\"2\")\n",
        "print(\"we have\",(df[0]==3).sum(),\"3\")\n",
        "print(\"we have\",(df[0]==4).sum(),\"4\")\n",
        "print(\"we have\",(df[0]==5).sum(),\"5\")\n",
        "print(\"we have\",(df[0]==6).sum(),\"6\")\n",
        "print(\"we have\",(df[0]==7).sum(),\"7\")\n",
        "print(\"we have\",(df[0]==8).sum(),\"8\")\n",
        "print(\"we have\",(df[0]==9).sum(),\"9\")"
      ],
      "execution_count": null,
      "outputs": [
        {
          "output_type": "stream",
          "text": [
            "we have 120 1\n",
            "we have 120 2\n",
            "we have 120 3\n",
            "we have 120 4\n",
            "we have 120 5\n",
            "we have 120 6\n",
            "we have 120 7\n",
            "we have 120 8\n",
            "we have 120 9\n"
          ],
          "name": "stdout"
        }
      ]
    },
    {
      "cell_type": "markdown",
      "metadata": {
        "id": "Tk50gPrCG6EQ"
      },
      "source": [
        "7. Ο αριθμός των κλάσεων που έχουμε στο συγκεκριμένο data set είναι 9 (ακέραιοι αριθμοί από 1-9).Όπως φαίνεται και παραπάνω, έχουμε ίδιο αριθμό δειγμάτων για καθεμία από τις κλάσεις (ποσοστο 11.11% η καθεμία), επομένως το data set μας είναι ισορροπημένο."
      ]
    },
    {
      "cell_type": "markdown",
      "metadata": {
        "id": "bSNRzSztzvMq"
      },
      "source": [
        "8. Όπως αναφέρθηκε και παραπάνω, δεν υπάρχουν απουσιάζουσες τιμές και το data set είναι διατεταγμένο οπότε δεν χρειάζεται μετατροπή σε δυαδικά χαρακτηριστικά. Οι ετικέτες κλάσης είναι διατεταγμένες, αφού κάθε ετικέτα έχει μοναδικό ακέραιο αριθμό. \n",
        "\n",
        " Ωστόσο, το σύνολο δεδομένων μας είναι πολύ αραιό, καθώς υπάρχει μεγάλη διαστατικότητα: έχουμε n= 856 χαρακτηριστικά και 9 ετικέτες, άρα θα έπρεπε να έχουμε 856^9 δείγματα για να καλυφθούν όλες οι κατηγορίες και έχουμε μόλις 1080. Επομένως θα πρέπει να γίνει μείωση των διαστάσεων εισόδου, ώστε να μην έχουμε μειωμένη απόδοση στους ταξινομητές που θα χρησιμοποιήσουμε."
      ]
    },
    {
      "cell_type": "code",
      "metadata": {
        "id": "BYn9AFjrbnNr"
      },
      "source": [
        "# Μετατρέπουμε σε numpy array (.values)\n",
        "df=df.values"
      ],
      "execution_count": null,
      "outputs": []
    },
    {
      "cell_type": "code",
      "metadata": {
        "colab": {
          "base_uri": "https://localhost:8080/"
        },
        "id": "nIN1e6Plbt0p",
        "outputId": "4f7a3a56-4b78-4779-f1e6-25257c05d67a"
      },
      "source": [
        "# Μειώνουμε τις τιμές των ετικετών κατά 1 για δική μας διευκόλυνση \n",
        "df[:,0]=df[:,0]-1\n",
        "print(df)"
      ],
      "execution_count": null,
      "outputs": [
        {
          "output_type": "stream",
          "text": [
            "[[0 0 0 ... 0 0 0]\n",
            " [1 0 0 ... 0 0 0]\n",
            " [2 0 0 ... 0 0 0]\n",
            " ...\n",
            " [6 0 0 ... 0 0 0]\n",
            " [7 0 0 ... 0 0 0]\n",
            " [8 0 0 ... 0 0 0]]\n"
          ],
          "name": "stdout"
        }
      ]
    },
    {
      "cell_type": "code",
      "metadata": {
        "colab": {
          "base_uri": "https://localhost:8080/"
        },
        "id": "gIKNdAP38kN1",
        "outputId": "d1688cbd-cbb4-4500-f168-331d08bc7f66"
      },
      "source": [
        "# διαχωρίζουμε feautures και labels\n",
        "# ώστε το καθένα να αντιστοιχεί σε ξεχωριστή μεταβλητή\n",
        "features_df = df[:, 1:]\n",
        "features = features_df\n",
        "print (features.shape)"
      ],
      "execution_count": null,
      "outputs": [
        {
          "output_type": "stream",
          "text": [
            "(1080, 856)\n"
          ],
          "name": "stdout"
        }
      ]
    },
    {
      "cell_type": "code",
      "metadata": {
        "colab": {
          "base_uri": "https://localhost:8080/"
        },
        "id": "I42h6NiS9fWo",
        "outputId": "9265c1a7-80d4-45e0-cae3-3aebf361fddd"
      },
      "source": [
        "labels_df = df[:, 0]\n",
        "labels = labels_df\n",
        "print (labels.shape)"
      ],
      "execution_count": null,
      "outputs": [
        {
          "output_type": "stream",
          "text": [
            "(1080,)\n"
          ],
          "name": "stdout"
        }
      ]
    },
    {
      "cell_type": "code",
      "metadata": {
        "id": "ObHXKlzG8Hrz"
      },
      "source": [
        "from sklearn.model_selection import train_test_split\n",
        "# Split into train and test sets\n",
        "train, test, labels_train, labels_test = train_test_split(features,labels,test_size=0.3)"
      ],
      "execution_count": null,
      "outputs": []
    },
    {
      "cell_type": "markdown",
      "metadata": {
        "id": "1J699orsCYWm"
      },
      "source": [
        "Αφού χωρίσαμε σε train και test set, εφαρμόζουμε τη μέθοδο μείωσης διαστατικότητας της ανάλυσης σε κύριες συνιστώσες (PCA). Παρατηρήσαμε (όπως φαίνεται και στο παρακάτω διάγραμμα), ότι όταν έχουμε 370 από τα 856 χαρακτηριστικά έχουμε πολύ υψηλή ακρίβεια (99%), ενώ περαιτέρω αύξηση δεν βελτιώνει την απόδοση (η καμπύλη τείνει να γίνει ευθεία)."
      ]
    },
    {
      "cell_type": "code",
      "metadata": {
        "colab": {
          "base_uri": "https://localhost:8080/"
        },
        "id": "5CLe1mG_6ktL",
        "outputId": "73af9c68-cc33-4942-af80-d1ca970ae2c5"
      },
      "source": [
        "from sklearn.decomposition import PCA\n",
        "\n",
        "# Ορίζουμε την PCA και τον τελικό αριθμό features - αριθμό κύριων συνιστωσών\n",
        "n = 370\n",
        "pca = PCA(n_components=n)\n",
        "\n",
        "# Οι κύριες συνιστώσες υπολογίζονται στο train set\n",
        "# Στα train κάνουμε fit_transform στο test μόνο transform:\n",
        "train = pca.fit_transform(train)\n",
        "test = pca.transform(test)\n",
        "\n",
        "#είχαμε αυτά εδώ οι μλκες (νομίζω ήταν λάθος):\n",
        "#trainPCA = pca.fit_transform(train)\n",
        "#testPCA = pca.transform(test)\n",
        "\n",
        "print(train.shape)\n",
        "#print(trainPCA.shape)\n",
        "print(\"\")\n",
        "print(test.shape)\n",
        "#print(testPCA.shape)\n",
        "\n",
        "# πλέον οι διαστάση των χαρακτηριστικών είναι 370"
      ],
      "execution_count": null,
      "outputs": [
        {
          "output_type": "stream",
          "text": [
            "(756, 370)\n",
            "\n",
            "(324, 370)\n"
          ],
          "name": "stdout"
        }
      ]
    },
    {
      "cell_type": "code",
      "metadata": {
        "colab": {
          "base_uri": "https://localhost:8080/",
          "height": 1000
        },
        "id": "1R3p0TquAgkZ",
        "outputId": "9ae28213-3819-4297-9fa8-8a956f2fb89b"
      },
      "source": [
        "import numpy as np\n",
        "import matplotlib.pyplot as plt\n",
        "\n",
        "# Θα τυπωσουμε το συσσωρευτικό ποσοστό διασποράς που εξηγείται από τις κύριες συνιστώσες\n",
        "evar = pca.explained_variance_ratio_\n",
        "cum_evar = np.cumsum(evar)\n",
        "print(cum_evar)\n",
        "plt.figure(1, figsize=(5, 5))\n",
        "plt.xlabel(\"Principal Component number\")\n",
        "plt.ylabel('Cumulative Variance')\n",
        "plt.plot(cum_evar, linewidth=2)\n",
        "plt.show()"
      ],
      "execution_count": null,
      "outputs": [
        {
          "output_type": "stream",
          "text": [
            "[0.07313629 0.13462807 0.18161908 0.21656307 0.24825398 0.27744185\n",
            " 0.3024344  0.32581915 0.34473344 0.36232193 0.37939181 0.39441407\n",
            " 0.40848564 0.42136997 0.43387683 0.4461155  0.4578923  0.46868413\n",
            " 0.47877153 0.48860042 0.49774791 0.5065497  0.51496609 0.52303757\n",
            " 0.53094988 0.53867843 0.5460217  0.55322621 0.56021606 0.56684542\n",
            " 0.57333408 0.57972416 0.58597752 0.59197654 0.59781979 0.60357279\n",
            " 0.60926463 0.61463015 0.61998345 0.62520611 0.63029004 0.63532255\n",
            " 0.64015827 0.64483325 0.64949789 0.65406815 0.65843112 0.66270613\n",
            " 0.66689008 0.67102148 0.67506164 0.67898381 0.68288779 0.68673713\n",
            " 0.69055006 0.69432051 0.69791256 0.70148732 0.70497036 0.7083808\n",
            " 0.71174862 0.71504194 0.71829522 0.72143881 0.72455132 0.72759482\n",
            " 0.73059518 0.73355025 0.73645173 0.73932567 0.7421769  0.74498273\n",
            " 0.74775577 0.75052082 0.75322787 0.75587848 0.75850543 0.76109392\n",
            " 0.76363155 0.76614056 0.76860214 0.77101309 0.77341053 0.77578169\n",
            " 0.77811939 0.78041514 0.7826964  0.78493294 0.78714505 0.78930752\n",
            " 0.79145639 0.79355116 0.7956121  0.7976539  0.79968737 0.80171399\n",
            " 0.8037055  0.8056852  0.80761176 0.80952331 0.8114054  0.81326885\n",
            " 0.81511844 0.81695757 0.81878015 0.82057524 0.82235779 0.82413505\n",
            " 0.82589171 0.82763474 0.82934331 0.83103751 0.83271715 0.83437162\n",
            " 0.83600648 0.83763105 0.83924254 0.84082106 0.84239103 0.84395488\n",
            " 0.8454996  0.84702937 0.84853614 0.85002731 0.85150581 0.85297094\n",
            " 0.85442002 0.85585238 0.85727735 0.8586969  0.8600939  0.86146766\n",
            " 0.86283762 0.86419296 0.86553744 0.86686553 0.86818701 0.86947432\n",
            " 0.87075842 0.8720362  0.87329089 0.8745385  0.87577373 0.87699734\n",
            " 0.87821323 0.87940907 0.88058629 0.88175858 0.88291851 0.88406902\n",
            " 0.88521122 0.88634095 0.88745535 0.88855748 0.88964314 0.89071217\n",
            " 0.89177363 0.89281008 0.89384286 0.89487047 0.89587938 0.89688043\n",
            " 0.89786603 0.89884132 0.8998063  0.90076594 0.90171831 0.90266369\n",
            " 0.90360426 0.90453381 0.90545053 0.90636395 0.90727007 0.9081733\n",
            " 0.90906927 0.90993844 0.91080176 0.91165849 0.91251118 0.9133491\n",
            " 0.91418228 0.91501256 0.91582788 0.91663756 0.91743785 0.91823343\n",
            " 0.91902779 0.91981266 0.92058745 0.92135699 0.92212375 0.92288191\n",
            " 0.92362921 0.92437347 0.92511465 0.92584529 0.92656218 0.92727337\n",
            " 0.92798178 0.92868403 0.92937675 0.93006407 0.93074664 0.9314265\n",
            " 0.93210306 0.93277169 0.93343932 0.93409509 0.93474577 0.93539115\n",
            " 0.93603126 0.93666412 0.93729459 0.93791996 0.93853979 0.93915423\n",
            " 0.93976083 0.94036527 0.94095746 0.94153664 0.94211493 0.94268979\n",
            " 0.94326082 0.94382606 0.94438847 0.94494528 0.94549536 0.94604094\n",
            " 0.94658015 0.94711591 0.94764793 0.94817845 0.94870095 0.94922011\n",
            " 0.9497341  0.95024306 0.95074792 0.95124961 0.95174311 0.95222726\n",
            " 0.95271106 0.95319218 0.95367253 0.95414736 0.95461862 0.95508611\n",
            " 0.95554766 0.9560077  0.95646234 0.95691196 0.95735511 0.9577969\n",
            " 0.95823744 0.95867065 0.95909914 0.95952524 0.95995033 0.96037198\n",
            " 0.9607879  0.9611988  0.96160777 0.96201195 0.96241399 0.96281486\n",
            " 0.963211   0.96360277 0.96399445 0.9643848  0.96476904 0.96514926\n",
            " 0.96552745 0.96590165 0.96626931 0.96663612 0.96700072 0.96736181\n",
            " 0.96772094 0.96807772 0.9684307  0.96878238 0.9691314  0.96947505\n",
            " 0.96981758 0.97015709 0.97049322 0.97082835 0.97116029 0.97148774\n",
            " 0.97181305 0.97213538 0.97245489 0.9727725  0.97308766 0.97340196\n",
            " 0.97371218 0.97402101 0.97432522 0.97462844 0.97492783 0.97522323\n",
            " 0.97551761 0.97580774 0.97609544 0.97638272 0.97666779 0.97695112\n",
            " 0.97723114 0.97750853 0.97778124 0.97805236 0.97831881 0.97858322\n",
            " 0.9788447  0.97910584 0.97936507 0.97962189 0.97987507 0.98012393\n",
            " 0.98036747 0.98060929 0.98085055 0.98108908 0.98132686 0.9815603\n",
            " 0.98179148 0.98202018 0.98224748 0.98247153 0.98269118 0.9829101\n",
            " 0.98312823 0.98334332 0.98355575 0.98376582 0.98397414 0.98417937\n",
            " 0.98438246 0.98458207 0.98477941 0.98497569 0.98517025 0.98536115\n",
            " 0.98555164 0.98574128 0.98592918 0.98611404 0.98629836 0.986481\n",
            " 0.98666325 0.98684424 0.98702432 0.98720191 0.98737886 0.98755412\n",
            " 0.98772727 0.98790014 0.98807264 0.9882432  0.98841144 0.98857786\n",
            " 0.98874362 0.98890902 0.9890719  0.98923406 0.98939314 0.98955024\n",
            " 0.98970688 0.98986171 0.99001538 0.9901629 ]\n"
          ],
          "name": "stdout"
        },
        {
          "output_type": "display_data",
          "data": {
            "image/png": "[encoded data removed]",
            "text/plain": [
              "<Figure size 360x360 with 1 Axes>"
            ]
          },
          "metadata": {
            "tags": [],
            "needs_background": "light"
          }
        }
      ]
    },
    {
      "cell_type": "markdown",
      "metadata": {
        "id": "B3gH6xOsE2PU"
      },
      "source": [
        "# **Ταξινομητές**"
      ]
    },
    {
      "cell_type": "markdown",
      "metadata": {
        "id": "n9oo8DiHE7Wo"
      },
      "source": [
        "# **Dummy Classifiers**"
      ]
    },
    {
      "cell_type": "markdown",
      "metadata": {
        "id": "yVANR2XdFGjg"
      },
      "source": [
        "##**Uniform**"
      ]
    },
    {
      "cell_type": "code",
      "metadata": {
        "id": "tjpgLJKkFJQJ"
      },
      "source": [
        "from sklearn.dummy import DummyClassifier\n",
        "import numpy as np\n",
        "\n",
        "dc_uniform = DummyClassifier(strategy=\"uniform\")\n",
        "dc_constant_0 = DummyClassifier(strategy=\"constant\", constant=0)\n",
        "dc_constant_1 = DummyClassifier(strategy=\"constant\", constant=1)\n",
        "dc_constant_2 = DummyClassifier(strategy=\"constant\", constant=2)\n",
        "dc_constant_3 = DummyClassifier(strategy=\"constant\", constant=3)\n",
        "dc_constant_4 = DummyClassifier(strategy=\"constant\", constant=4)\n",
        "dc_constant_5 = DummyClassifier(strategy=\"constant\", constant=5)\n",
        "dc_constant_6 = DummyClassifier(strategy=\"constant\", constant=6)\n",
        "dc_constant_7 = DummyClassifier(strategy=\"constant\", constant=7)\n",
        "dc_constant_8 = DummyClassifier(strategy=\"constant\", constant=8)\n",
        "dc_most_frequent = DummyClassifier(strategy=\"most_frequent\")\n",
        "dc_stratified = DummyClassifier(strategy=\"stratified\")\n",
        "\n",
        "\n",
        "# με τη μέθοδο fit \"εκπαιδεύουμε\" τον ταξινομητή \n",
        "# στο σύνολο εκπαίδευσης (τα χαρακτηριστικά και τις ετικέτες τους)\n",
        "\n",
        "model = dc_uniform.fit(train, labels_train)\n",
        "\n",
        "# με τη μέθοδο predict παράγουμε προβλέψεις \n",
        "# για τα δεδομένα ελέγχου (είσοδος τα χαρακτηριστικά μόνο)\n",
        "\n",
        "preds = dc_uniform.predict(test)\n"
      ],
      "execution_count": null,
      "outputs": []
    },
    {
      "cell_type": "code",
      "metadata": {
        "colab": {
          "base_uri": "https://localhost:8080/"
        },
        "id": "NCeV_fC4FiOG",
        "outputId": "396d72af-fbb1-442e-ed4e-18f878ff6ee0"
      },
      "source": [
        "from sklearn.metrics import confusion_matrix\n",
        "\n",
        "# υπολογίζουμε το confusion matrix\n",
        "cnf_matrix = confusion_matrix(labels_test, preds)\n",
        "\n",
        "# τυπώνουμε το confusion matrix\n",
        "print(cnf_matrix)"
      ],
      "execution_count": null,
      "outputs": [
        {
          "output_type": "stream",
          "text": [
            "[[6 3 5 1 9 4 0 1 3]\n",
            " [7 2 4 2 5 5 4 5 3]\n",
            " [3 2 4 2 5 5 7 4 9]\n",
            " [3 5 4 2 3 7 5 3 4]\n",
            " [3 3 3 3 3 3 3 4 4]\n",
            " [5 0 4 6 5 3 7 4 3]\n",
            " [2 6 4 4 6 3 4 1 4]\n",
            " [7 4 4 3 5 2 4 4 7]\n",
            " [2 3 5 4 5 6 7 1 5]]\n"
          ],
          "name": "stdout"
        }
      ]
    },
    {
      "cell_type": "code",
      "metadata": {
        "colab": {
          "base_uri": "https://localhost:8080/"
        },
        "id": "v9VjWkcsFpVW",
        "outputId": "e48a87c8-1301-4a9f-a42c-2b41a738cdd2"
      },
      "source": [
        "from sklearn.metrics import precision_recall_fscore_support\n",
        "\n",
        "# δημιουργία dict για την αποθήκευση των τιμών\n",
        "# των μετρικών f1 micro και f1 macro\n",
        "i=-1\n",
        "j=-1\n",
        "micro={}\n",
        "macro= {}\n",
        "\n",
        "# τυπώνουμε το f1_micro_average\n",
        "i += 1\n",
        "micro[i]=precision_recall_fscore_support(labels_test, preds, average='micro')[2]\n",
        "print(micro[i], \"\\n\")"
      ],
      "execution_count": null,
      "outputs": [
        {
          "output_type": "stream",
          "text": [
            "0.10185185185185185 \n",
            "\n"
          ],
          "name": "stdout"
        }
      ]
    },
    {
      "cell_type": "code",
      "metadata": {
        "id": "oMhokZ8IFvcP",
        "colab": {
          "base_uri": "https://localhost:8080/"
        },
        "outputId": "c053c2e9-9103-456f-c38f-2ff2f5fe84c3"
      },
      "source": [
        "# τυπώνουμε το f1_macro_average\n",
        "j+= 1\n",
        "macro[j]=precision_recall_fscore_support(labels_test, preds, average='macro')[2]\n",
        "print(macro[j], \"\\n\")"
      ],
      "execution_count": null,
      "outputs": [
        {
          "output_type": "stream",
          "text": [
            "0.10112142786272141 \n",
            "\n"
          ],
          "name": "stdout"
        }
      ]
    },
    {
      "cell_type": "markdown",
      "metadata": {
        "id": "6dg7rIb-g6Cq"
      },
      "source": [
        "##**Constant**"
      ]
    },
    {
      "cell_type": "markdown",
      "metadata": {
        "id": "_c5LStTLOzbn"
      },
      "source": [
        "**Constant_0**"
      ]
    },
    {
      "cell_type": "code",
      "metadata": {
        "colab": {
          "base_uri": "https://localhost:8080/"
        },
        "id": "BkCBxv9CO64S",
        "outputId": "ecb8364f-67ab-460f-a154-822ae6b1308c"
      },
      "source": [
        "model=dc_constant_0.fit(train, labels_train)\n",
        "preds = dc_constant_0.predict(test)\n",
        "\n",
        "# υπολογίζουμε το confusion matrix\n",
        "cnf_matrix = confusion_matrix(labels_test, preds)\n",
        "\n",
        "# τυπώνουμε το confusion matrix\n",
        "print(cnf_matrix)"
      ],
      "execution_count": null,
      "outputs": [
        {
          "output_type": "stream",
          "text": [
            "[[32  0  0  0  0  0  0  0  0]\n",
            " [37  0  0  0  0  0  0  0  0]\n",
            " [41  0  0  0  0  0  0  0  0]\n",
            " [36  0  0  0  0  0  0  0  0]\n",
            " [29  0  0  0  0  0  0  0  0]\n",
            " [37  0  0  0  0  0  0  0  0]\n",
            " [34  0  0  0  0  0  0  0  0]\n",
            " [40  0  0  0  0  0  0  0  0]\n",
            " [38  0  0  0  0  0  0  0  0]]\n"
          ],
          "name": "stdout"
        }
      ]
    },
    {
      "cell_type": "code",
      "metadata": {
        "colab": {
          "base_uri": "https://localhost:8080/"
        },
        "id": "wPs9aIqldfNG",
        "outputId": "3630206e-cb3b-4bb0-c727-1272a04409fc"
      },
      "source": [
        "# τυπώνουμε το f1_micro_average\n",
        "i += 1\n",
        "micro[i]=precision_recall_fscore_support(labels_test, preds, average='micro')[2]\n",
        "print(micro[i], \"\\n\")"
      ],
      "execution_count": null,
      "outputs": [
        {
          "output_type": "stream",
          "text": [
            "0.09876543209876543 \n",
            "\n"
          ],
          "name": "stdout"
        }
      ]
    },
    {
      "cell_type": "code",
      "metadata": {
        "colab": {
          "base_uri": "https://localhost:8080/"
        },
        "id": "MHMMrQhZeeDl",
        "outputId": "d2dc771f-72cd-4ab7-f18f-570962223a49"
      },
      "source": [
        "# τυπώνουμε το f1_macro_average\n",
        "j+= 1\n",
        "macro[j]=precision_recall_fscore_support(labels_test, preds, average='macro')[2]\n",
        "print(macro[j], \"\\n\")"
      ],
      "execution_count": null,
      "outputs": [
        {
          "output_type": "stream",
          "text": [
            "0.019975031210986267 \n",
            "\n"
          ],
          "name": "stdout"
        },
        {
          "output_type": "stream",
          "text": [
            "/usr/local/lib/python3.6/dist-packages/sklearn/metrics/_classification.py:1221: UndefinedMetricWarning: Precision and F-score are ill-defined and being set to 0.0 in labels with no predicted samples. Use `zero_division` parameter to control this behavior.\n",
            "  _warn_prf(average, modifier, msg_start, len(result))\n"
          ],
          "name": "stderr"
        }
      ]
    },
    {
      "cell_type": "markdown",
      "metadata": {
        "id": "ANnwIJ22es8j"
      },
      "source": [
        "**Constant_1**"
      ]
    },
    {
      "cell_type": "code",
      "metadata": {
        "colab": {
          "base_uri": "https://localhost:8080/"
        },
        "id": "LcWMOw1QehdV",
        "outputId": "ca00ee85-08a2-4281-b5eb-1262b588c46c"
      },
      "source": [
        "model=dc_constant_1.fit(train, labels_train)\n",
        "preds = dc_constant_1.predict(test)\n",
        "\n",
        "# υπολογίζουμε το confusion matrix\n",
        "cnf_matrix = confusion_matrix(labels_test, preds)\n",
        "\n",
        "# τυπώνουμε το confusion matrix\n",
        "print(cnf_matrix)"
      ],
      "execution_count": null,
      "outputs": [
        {
          "output_type": "stream",
          "text": [
            "[[ 0 32  0  0  0  0  0  0  0]\n",
            " [ 0 37  0  0  0  0  0  0  0]\n",
            " [ 0 41  0  0  0  0  0  0  0]\n",
            " [ 0 36  0  0  0  0  0  0  0]\n",
            " [ 0 29  0  0  0  0  0  0  0]\n",
            " [ 0 37  0  0  0  0  0  0  0]\n",
            " [ 0 34  0  0  0  0  0  0  0]\n",
            " [ 0 40  0  0  0  0  0  0  0]\n",
            " [ 0 38  0  0  0  0  0  0  0]]\n"
          ],
          "name": "stdout"
        }
      ]
    },
    {
      "cell_type": "code",
      "metadata": {
        "colab": {
          "base_uri": "https://localhost:8080/"
        },
        "id": "wy0Z3BPne6xD",
        "outputId": "79168289-01c0-4a3c-e629-7dc6cdb47194"
      },
      "source": [
        "# τυπώνουμε το f1_micro_average\n",
        "i += 1\n",
        "micro[i]=precision_recall_fscore_support(labels_test, preds, average='micro')[2]\n",
        "print(micro[i], \"\\n\")"
      ],
      "execution_count": null,
      "outputs": [
        {
          "output_type": "stream",
          "text": [
            "0.11419753086419752 \n",
            "\n"
          ],
          "name": "stdout"
        }
      ]
    },
    {
      "cell_type": "code",
      "metadata": {
        "colab": {
          "base_uri": "https://localhost:8080/"
        },
        "id": "2JQ8BurRfAJR",
        "outputId": "68fad3c3-c83b-42de-f76e-57555794f945"
      },
      "source": [
        "# τυπώνουμε το f1_macro_average\n",
        "j+= 1\n",
        "macro[j]=precision_recall_fscore_support(labels_test, preds, average='macro')[2]\n",
        "print(macro[j], \"\\n\")"
      ],
      "execution_count": null,
      "outputs": [
        {
          "output_type": "stream",
          "text": [
            "0.022776238842720835 \n",
            "\n"
          ],
          "name": "stdout"
        },
        {
          "output_type": "stream",
          "text": [
            "/usr/local/lib/python3.6/dist-packages/sklearn/metrics/_classification.py:1221: UndefinedMetricWarning: Precision and F-score are ill-defined and being set to 0.0 in labels with no predicted samples. Use `zero_division` parameter to control this behavior.\n",
            "  _warn_prf(average, modifier, msg_start, len(result))\n"
          ],
          "name": "stderr"
        }
      ]
    },
    {
      "cell_type": "markdown",
      "metadata": {
        "id": "CQ4IdiPEuQH2"
      },
      "source": [
        "**Constant_2**"
      ]
    },
    {
      "cell_type": "code",
      "metadata": {
        "colab": {
          "base_uri": "https://localhost:8080/"
        },
        "id": "z4TzUOYfuSsI",
        "outputId": "9f2a977f-53c0-490d-96a1-8f5612fee91a"
      },
      "source": [
        "model=dc_constant_2.fit(train, labels_train)\n",
        "preds = dc_constant_2.predict(test)\n",
        "\n",
        "# υπολογίζουμε το confusion matrix\n",
        "cnf_matrix = confusion_matrix(labels_test, preds)\n",
        "\n",
        "# τυπώνουμε το confusion matrix\n",
        "print(cnf_matrix)"
      ],
      "execution_count": null,
      "outputs": [
        {
          "output_type": "stream",
          "text": [
            "[[ 0  0 32  0  0  0  0  0  0]\n",
            " [ 0  0 37  0  0  0  0  0  0]\n",
            " [ 0  0 41  0  0  0  0  0  0]\n",
            " [ 0  0 36  0  0  0  0  0  0]\n",
            " [ 0  0 29  0  0  0  0  0  0]\n",
            " [ 0  0 37  0  0  0  0  0  0]\n",
            " [ 0  0 34  0  0  0  0  0  0]\n",
            " [ 0  0 40  0  0  0  0  0  0]\n",
            " [ 0  0 38  0  0  0  0  0  0]]\n"
          ],
          "name": "stdout"
        }
      ]
    },
    {
      "cell_type": "code",
      "metadata": {
        "colab": {
          "base_uri": "https://localhost:8080/"
        },
        "id": "tL9rZ5Jouv8z",
        "outputId": "8354611d-eb4d-47ce-c39a-ac5e9f8eb80c"
      },
      "source": [
        "# τυπώνουμε το f1_micro_average\n",
        "i += 1\n",
        "micro[i]=precision_recall_fscore_support(labels_test, preds, average='micro')[2]\n",
        "print(micro[i], \"\\n\")"
      ],
      "execution_count": null,
      "outputs": [
        {
          "output_type": "stream",
          "text": [
            "0.12654320987654322 \n",
            "\n"
          ],
          "name": "stdout"
        }
      ]
    },
    {
      "cell_type": "code",
      "metadata": {
        "colab": {
          "base_uri": "https://localhost:8080/"
        },
        "id": "g36T_Y-Jfq7Y",
        "outputId": "7cd3fc88-d5fa-4b76-e15a-08d5d8bb902f"
      },
      "source": [
        "# τυπώνουμε το f1_macro_average\n",
        "j+= 1\n",
        "macro[j]=precision_recall_fscore_support(labels_test, preds, average='macro')[2]\n",
        "print(macro[j], \"\\n\")"
      ],
      "execution_count": null,
      "outputs": [
        {
          "output_type": "stream",
          "text": [
            "0.024961948249619486 \n",
            "\n"
          ],
          "name": "stdout"
        },
        {
          "output_type": "stream",
          "text": [
            "/usr/local/lib/python3.6/dist-packages/sklearn/metrics/_classification.py:1221: UndefinedMetricWarning: Precision and F-score are ill-defined and being set to 0.0 in labels with no predicted samples. Use `zero_division` parameter to control this behavior.\n",
            "  _warn_prf(average, modifier, msg_start, len(result))\n"
          ],
          "name": "stderr"
        }
      ]
    },
    {
      "cell_type": "markdown",
      "metadata": {
        "id": "Ajlcbo-nfviJ"
      },
      "source": [
        "**Constant_3**"
      ]
    },
    {
      "cell_type": "code",
      "metadata": {
        "colab": {
          "base_uri": "https://localhost:8080/"
        },
        "id": "PIMZIN05fxFA",
        "outputId": "7bf1a1cd-88a9-4614-a654-bd4cd3b0531c"
      },
      "source": [
        "model=dc_constant_3.fit(train, labels_train)\n",
        "preds = dc_constant_3.predict(test)\n",
        "\n",
        "# υπολογίζουμε το confusion matrix\n",
        "cnf_matrix = confusion_matrix(labels_test, preds)\n",
        "\n",
        "# τυπώνουμε το confusion matrix\n",
        "print(cnf_matrix)"
      ],
      "execution_count": null,
      "outputs": [
        {
          "output_type": "stream",
          "text": [
            "[[ 0  0  0 32  0  0  0  0  0]\n",
            " [ 0  0  0 37  0  0  0  0  0]\n",
            " [ 0  0  0 41  0  0  0  0  0]\n",
            " [ 0  0  0 36  0  0  0  0  0]\n",
            " [ 0  0  0 29  0  0  0  0  0]\n",
            " [ 0  0  0 37  0  0  0  0  0]\n",
            " [ 0  0  0 34  0  0  0  0  0]\n",
            " [ 0  0  0 40  0  0  0  0  0]\n",
            " [ 0  0  0 38  0  0  0  0  0]]\n"
          ],
          "name": "stdout"
        }
      ]
    },
    {
      "cell_type": "code",
      "metadata": {
        "colab": {
          "base_uri": "https://localhost:8080/"
        },
        "id": "d4np6OKof2Jc",
        "outputId": "c6aa91f0-0f55-46cf-e4b1-48de8a805527"
      },
      "source": [
        "# τυπώνουμε το f1_micro_average\n",
        "i += 1\n",
        "micro[i]=precision_recall_fscore_support(labels_test, preds, average='micro')[2]\n",
        "print(micro[i], \"\\n\")"
      ],
      "execution_count": null,
      "outputs": [
        {
          "output_type": "stream",
          "text": [
            "0.1111111111111111 \n",
            "\n"
          ],
          "name": "stdout"
        }
      ]
    },
    {
      "cell_type": "code",
      "metadata": {
        "colab": {
          "base_uri": "https://localhost:8080/"
        },
        "id": "16VSJGXnf5AC",
        "outputId": "b5ef8576-9b1b-4e9f-c27b-e1c6fd606d17"
      },
      "source": [
        "# τυπώνουμε το f1_macro_average\n",
        "j+= 1\n",
        "macro[j]=precision_recall_fscore_support(labels_test, preds, average='macro')[2]\n",
        "print(macro[j], \"\\n\")"
      ],
      "execution_count": null,
      "outputs": [
        {
          "output_type": "stream",
          "text": [
            "0.02222222222222222 \n",
            "\n"
          ],
          "name": "stdout"
        },
        {
          "output_type": "stream",
          "text": [
            "/usr/local/lib/python3.6/dist-packages/sklearn/metrics/_classification.py:1221: UndefinedMetricWarning: Precision and F-score are ill-defined and being set to 0.0 in labels with no predicted samples. Use `zero_division` parameter to control this behavior.\n",
            "  _warn_prf(average, modifier, msg_start, len(result))\n"
          ],
          "name": "stderr"
        }
      ]
    },
    {
      "cell_type": "markdown",
      "metadata": {
        "id": "9DfxPEBUf8F6"
      },
      "source": [
        "**Constant_4**"
      ]
    },
    {
      "cell_type": "code",
      "metadata": {
        "colab": {
          "base_uri": "https://localhost:8080/"
        },
        "id": "qYjctB2Af-_s",
        "outputId": "39e860dd-8236-40cd-b1c9-643febd285a9"
      },
      "source": [
        "model=dc_constant_4.fit(train, labels_train)\n",
        "preds = dc_constant_4.predict(test)\n",
        "\n",
        "# υπολογίζουμε το confusion matrix\n",
        "cnf_matrix = confusion_matrix(labels_test, preds)\n",
        "\n",
        "# τυπώνουμε το confusion matrix\n",
        "print(cnf_matrix)"
      ],
      "execution_count": null,
      "outputs": [
        {
          "output_type": "stream",
          "text": [
            "[[ 0  0  0  0 32  0  0  0  0]\n",
            " [ 0  0  0  0 37  0  0  0  0]\n",
            " [ 0  0  0  0 41  0  0  0  0]\n",
            " [ 0  0  0  0 36  0  0  0  0]\n",
            " [ 0  0  0  0 29  0  0  0  0]\n",
            " [ 0  0  0  0 37  0  0  0  0]\n",
            " [ 0  0  0  0 34  0  0  0  0]\n",
            " [ 0  0  0  0 40  0  0  0  0]\n",
            " [ 0  0  0  0 38  0  0  0  0]]\n"
          ],
          "name": "stdout"
        }
      ]
    },
    {
      "cell_type": "code",
      "metadata": {
        "colab": {
          "base_uri": "https://localhost:8080/"
        },
        "id": "uOrqmdL0gCVK",
        "outputId": "deed8a09-95cf-4224-f938-e1e9ae0bfea0"
      },
      "source": [
        "# τυπώνουμε το f1_micro_average\n",
        "i += 1\n",
        "micro[i]=precision_recall_fscore_support(labels_test, preds, average='micro')[2]\n",
        "print(micro[i], \"\\n\")"
      ],
      "execution_count": null,
      "outputs": [
        {
          "output_type": "stream",
          "text": [
            "0.08950617283950617 \n",
            "\n"
          ],
          "name": "stdout"
        }
      ]
    },
    {
      "cell_type": "code",
      "metadata": {
        "colab": {
          "base_uri": "https://localhost:8080/"
        },
        "id": "j5U_AUJ2gFpC",
        "outputId": "ede02ab2-536c-475d-959f-94276ed345bc"
      },
      "source": [
        "# τυπώνουμε το f1_macro_average\n",
        "j+= 1\n",
        "macro[j]=precision_recall_fscore_support(labels_test, preds, average='macro')[2]\n",
        "print(macro[j], \"\\n\")"
      ],
      "execution_count": null,
      "outputs": [
        {
          "output_type": "stream",
          "text": [
            "0.01825621655649984 \n",
            "\n"
          ],
          "name": "stdout"
        },
        {
          "output_type": "stream",
          "text": [
            "/usr/local/lib/python3.6/dist-packages/sklearn/metrics/_classification.py:1221: UndefinedMetricWarning: Precision and F-score are ill-defined and being set to 0.0 in labels with no predicted samples. Use `zero_division` parameter to control this behavior.\n",
            "  _warn_prf(average, modifier, msg_start, len(result))\n"
          ],
          "name": "stderr"
        }
      ]
    },
    {
      "cell_type": "markdown",
      "metadata": {
        "id": "w7HlPuk_QfzA"
      },
      "source": [
        "**Constant_5**"
      ]
    },
    {
      "cell_type": "code",
      "metadata": {
        "colab": {
          "base_uri": "https://localhost:8080/"
        },
        "id": "h702XTmXQn6B",
        "outputId": "a4760122-fa95-4137-b9c5-303ffdf9dee8"
      },
      "source": [
        "model=dc_constant_5.fit(train, labels_train)\n",
        "preds = dc_constant_5.predict(test)\n",
        "\n",
        "# υπολογίζουμε το confusion matrix\n",
        "cnf_matrix = confusion_matrix(labels_test, preds)\n",
        "\n",
        "# τυπώνουμε το confusion matrix\n",
        "print(cnf_matrix)"
      ],
      "execution_count": null,
      "outputs": [
        {
          "output_type": "stream",
          "text": [
            "[[ 0  0  0  0  0 32  0  0  0]\n",
            " [ 0  0  0  0  0 37  0  0  0]\n",
            " [ 0  0  0  0  0 41  0  0  0]\n",
            " [ 0  0  0  0  0 36  0  0  0]\n",
            " [ 0  0  0  0  0 29  0  0  0]\n",
            " [ 0  0  0  0  0 37  0  0  0]\n",
            " [ 0  0  0  0  0 34  0  0  0]\n",
            " [ 0  0  0  0  0 40  0  0  0]\n",
            " [ 0  0  0  0  0 38  0  0  0]]\n"
          ],
          "name": "stdout"
        }
      ]
    },
    {
      "cell_type": "code",
      "metadata": {
        "colab": {
          "base_uri": "https://localhost:8080/"
        },
        "id": "tVXflMeKQomS",
        "outputId": "6fdff3c8-066c-4855-f659-bc3e9b9bfb3c"
      },
      "source": [
        "# τυπώνουμε το f1_micro_average\n",
        "i += 1\n",
        "micro[i]=precision_recall_fscore_support(labels_test, preds, average='micro')[2]\n",
        "print(micro[i], \"\\n\")"
      ],
      "execution_count": null,
      "outputs": [
        {
          "output_type": "stream",
          "text": [
            "0.11419753086419752 \n",
            "\n"
          ],
          "name": "stdout"
        }
      ]
    },
    {
      "cell_type": "code",
      "metadata": {
        "colab": {
          "base_uri": "https://localhost:8080/"
        },
        "id": "Uo5x8hIdQo6L",
        "outputId": "1e570deb-d743-4877-dd9b-2a59be58eede"
      },
      "source": [
        "# τυπώνουμε το f1_macro_average\n",
        "j+= 1\n",
        "macro[j]=precision_recall_fscore_support(labels_test, preds, average='macro')[2]\n",
        "print(macro[j], \"\\n\")"
      ],
      "execution_count": null,
      "outputs": [
        {
          "output_type": "stream",
          "text": [
            "0.022776238842720835 \n",
            "\n"
          ],
          "name": "stdout"
        },
        {
          "output_type": "stream",
          "text": [
            "/usr/local/lib/python3.6/dist-packages/sklearn/metrics/_classification.py:1221: UndefinedMetricWarning: Precision and F-score are ill-defined and being set to 0.0 in labels with no predicted samples. Use `zero_division` parameter to control this behavior.\n",
            "  _warn_prf(average, modifier, msg_start, len(result))\n"
          ],
          "name": "stderr"
        }
      ]
    },
    {
      "cell_type": "markdown",
      "metadata": {
        "id": "K3mT5YwyQhJo"
      },
      "source": [
        "**Constant_6**"
      ]
    },
    {
      "cell_type": "code",
      "metadata": {
        "colab": {
          "base_uri": "https://localhost:8080/"
        },
        "id": "KVSGxczfQpm4",
        "outputId": "52bf5d60-e73a-4519-e58c-2b83ed940746"
      },
      "source": [
        "model=dc_constant_6.fit(train, labels_train)\n",
        "preds = dc_constant_6.predict(test)\n",
        "\n",
        "# υπολογίζουμε το confusion matrix\n",
        "cnf_matrix = confusion_matrix(labels_test, preds)\n",
        "\n",
        "# τυπώνουμε το confusion matrix\n",
        "print(cnf_matrix)"
      ],
      "execution_count": null,
      "outputs": [
        {
          "output_type": "stream",
          "text": [
            "[[ 0  0  0  0  0  0 32  0  0]\n",
            " [ 0  0  0  0  0  0 37  0  0]\n",
            " [ 0  0  0  0  0  0 41  0  0]\n",
            " [ 0  0  0  0  0  0 36  0  0]\n",
            " [ 0  0  0  0  0  0 29  0  0]\n",
            " [ 0  0  0  0  0  0 37  0  0]\n",
            " [ 0  0  0  0  0  0 34  0  0]\n",
            " [ 0  0  0  0  0  0 40  0  0]\n",
            " [ 0  0  0  0  0  0 38  0  0]]\n"
          ],
          "name": "stdout"
        }
      ]
    },
    {
      "cell_type": "code",
      "metadata": {
        "colab": {
          "base_uri": "https://localhost:8080/"
        },
        "id": "VltY4ht3Qp8A",
        "outputId": "ccc8b228-2659-4d23-ceeb-c81ef5ae8af2"
      },
      "source": [
        "# τυπώνουμε το f1_micro_average\n",
        "i += 1\n",
        "micro[i]=precision_recall_fscore_support(labels_test, preds, average='micro')[2]\n",
        "print(micro[i], \"\\n\")"
      ],
      "execution_count": null,
      "outputs": [
        {
          "output_type": "stream",
          "text": [
            "0.10493827160493827 \n",
            "\n"
          ],
          "name": "stdout"
        }
      ]
    },
    {
      "cell_type": "code",
      "metadata": {
        "colab": {
          "base_uri": "https://localhost:8080/"
        },
        "id": "p3ALqCFmQqQj",
        "outputId": "e7f79882-5e1a-4ff3-b245-dcdee3da9b80"
      },
      "source": [
        "# τυπώνουμε το f1_macro_average\n",
        "j+= 1\n",
        "macro[j]=precision_recall_fscore_support(labels_test, preds, average='macro')[2]\n",
        "print(macro[j], \"\\n\")"
      ],
      "execution_count": null,
      "outputs": [
        {
          "output_type": "stream",
          "text": [
            "0.02110490378646803 \n",
            "\n"
          ],
          "name": "stdout"
        },
        {
          "output_type": "stream",
          "text": [
            "/usr/local/lib/python3.6/dist-packages/sklearn/metrics/_classification.py:1221: UndefinedMetricWarning: Precision and F-score are ill-defined and being set to 0.0 in labels with no predicted samples. Use `zero_division` parameter to control this behavior.\n",
            "  _warn_prf(average, modifier, msg_start, len(result))\n"
          ],
          "name": "stderr"
        }
      ]
    },
    {
      "cell_type": "markdown",
      "metadata": {
        "id": "zqJjEbqoQio5"
      },
      "source": [
        "**Constant_7**"
      ]
    },
    {
      "cell_type": "code",
      "metadata": {
        "colab": {
          "base_uri": "https://localhost:8080/"
        },
        "id": "DY0uwqJKQq4o",
        "outputId": "cdb39951-f909-4a47-a584-6bd508718f56"
      },
      "source": [
        "model=dc_constant_7.fit(train, labels_train)\n",
        "preds = dc_constant_7.predict(test)\n",
        "\n",
        "# υπολογίζουμε το confusion matrix\n",
        "cnf_matrix = confusion_matrix(labels_test, preds)\n",
        "\n",
        "# τυπώνουμε το confusion matrix\n",
        "print(cnf_matrix)"
      ],
      "execution_count": null,
      "outputs": [
        {
          "output_type": "stream",
          "text": [
            "[[ 0  0  0  0  0  0  0 32  0]\n",
            " [ 0  0  0  0  0  0  0 37  0]\n",
            " [ 0  0  0  0  0  0  0 41  0]\n",
            " [ 0  0  0  0  0  0  0 36  0]\n",
            " [ 0  0  0  0  0  0  0 29  0]\n",
            " [ 0  0  0  0  0  0  0 37  0]\n",
            " [ 0  0  0  0  0  0  0 34  0]\n",
            " [ 0  0  0  0  0  0  0 40  0]\n",
            " [ 0  0  0  0  0  0  0 38  0]]\n"
          ],
          "name": "stdout"
        }
      ]
    },
    {
      "cell_type": "code",
      "metadata": {
        "colab": {
          "base_uri": "https://localhost:8080/"
        },
        "id": "oCUuPwguQrPZ",
        "outputId": "0a3441c5-ae63-444c-a6fb-4d6d470c9add"
      },
      "source": [
        "# τυπώνουμε το f1_micro_average\n",
        "i += 1\n",
        "micro[i]=precision_recall_fscore_support(labels_test, preds, average='micro')[2]\n",
        "print(micro[i], \"\\n\")"
      ],
      "execution_count": null,
      "outputs": [
        {
          "output_type": "stream",
          "text": [
            "0.12345679012345678 \n",
            "\n"
          ],
          "name": "stdout"
        }
      ]
    },
    {
      "cell_type": "code",
      "metadata": {
        "colab": {
          "base_uri": "https://localhost:8080/"
        },
        "id": "qncvG1IdQrjt",
        "outputId": "b896756a-f371-466a-868b-f4650e488a35"
      },
      "source": [
        "# τυπώνουμε το f1_macro_average\n",
        "j+= 1\n",
        "macro[j]=precision_recall_fscore_support(labels_test, preds, average='macro')[2]\n",
        "print(macro[j], \"\\n\")"
      ],
      "execution_count": null,
      "outputs": [
        {
          "output_type": "stream",
          "text": [
            "0.024420024420024417 \n",
            "\n"
          ],
          "name": "stdout"
        },
        {
          "output_type": "stream",
          "text": [
            "/usr/local/lib/python3.6/dist-packages/sklearn/metrics/_classification.py:1221: UndefinedMetricWarning: Precision and F-score are ill-defined and being set to 0.0 in labels with no predicted samples. Use `zero_division` parameter to control this behavior.\n",
            "  _warn_prf(average, modifier, msg_start, len(result))\n"
          ],
          "name": "stderr"
        }
      ]
    },
    {
      "cell_type": "markdown",
      "metadata": {
        "id": "wYeUDzdJQkJJ"
      },
      "source": [
        "**Constant_8**"
      ]
    },
    {
      "cell_type": "code",
      "metadata": {
        "colab": {
          "base_uri": "https://localhost:8080/"
        },
        "id": "GK8dNkaCQsa1",
        "outputId": "6a399f96-a796-4461-b8b9-ed9f5cd5365f"
      },
      "source": [
        "model=dc_constant_8.fit(train, labels_train)\n",
        "preds = dc_constant_8.predict(test)\n",
        "\n",
        "# υπολογίζουμε το confusion matrix\n",
        "cnf_matrix = confusion_matrix(labels_test, preds)\n",
        "\n",
        "# τυπώνουμε το confusion matrix\n",
        "print(cnf_matrix)"
      ],
      "execution_count": null,
      "outputs": [
        {
          "output_type": "stream",
          "text": [
            "[[ 0  0  0  0  0  0  0  0 32]\n",
            " [ 0  0  0  0  0  0  0  0 37]\n",
            " [ 0  0  0  0  0  0  0  0 41]\n",
            " [ 0  0  0  0  0  0  0  0 36]\n",
            " [ 0  0  0  0  0  0  0  0 29]\n",
            " [ 0  0  0  0  0  0  0  0 37]\n",
            " [ 0  0  0  0  0  0  0  0 34]\n",
            " [ 0  0  0  0  0  0  0  0 40]\n",
            " [ 0  0  0  0  0  0  0  0 38]]\n"
          ],
          "name": "stdout"
        }
      ]
    },
    {
      "cell_type": "code",
      "metadata": {
        "colab": {
          "base_uri": "https://localhost:8080/"
        },
        "id": "tBWsz74rQtCI",
        "outputId": "b328c1f5-8609-45c1-dd38-0390e9bbe9dc"
      },
      "source": [
        "# τυπώνουμε το f1_micro_average\n",
        "i += 1\n",
        "micro[i]=precision_recall_fscore_support(labels_test, preds, average='micro')[2]\n",
        "print(micro[i], \"\\n\")"
      ],
      "execution_count": null,
      "outputs": [
        {
          "output_type": "stream",
          "text": [
            "0.11728395061728394 \n",
            "\n"
          ],
          "name": "stdout"
        }
      ]
    },
    {
      "cell_type": "code",
      "metadata": {
        "colab": {
          "base_uri": "https://localhost:8080/"
        },
        "id": "P9F0TAc2QtWK",
        "outputId": "bd45651c-fe7f-4424-fd6d-a207fc865de0"
      },
      "source": [
        "# τυπώνουμε το f1_macro_average\n",
        "j+= 1\n",
        "macro[j]=precision_recall_fscore_support(labels_test, preds, average='macro')[2]\n",
        "print(macro[j], \"\\n\")"
      ],
      "execution_count": null,
      "outputs": [
        {
          "output_type": "stream",
          "text": [
            "0.023327194597912826 \n",
            "\n"
          ],
          "name": "stdout"
        },
        {
          "output_type": "stream",
          "text": [
            "/usr/local/lib/python3.6/dist-packages/sklearn/metrics/_classification.py:1221: UndefinedMetricWarning: Precision and F-score are ill-defined and being set to 0.0 in labels with no predicted samples. Use `zero_division` parameter to control this behavior.\n",
            "  _warn_prf(average, modifier, msg_start, len(result))\n"
          ],
          "name": "stderr"
        }
      ]
    },
    {
      "cell_type": "markdown",
      "metadata": {
        "id": "VEAHgDK6fHeS"
      },
      "source": [
        "## **Most frequent**"
      ]
    },
    {
      "cell_type": "code",
      "metadata": {
        "colab": {
          "base_uri": "https://localhost:8080/"
        },
        "id": "3mYk2zxifE0u",
        "outputId": "140b2d88-4630-41db-a21c-88823bec9647"
      },
      "source": [
        "model=dc_most_frequent.fit(train, labels_train)\n",
        "preds = dc_most_frequent.predict(test)\n",
        "\n",
        "# υπολογίζουμε το confusion matrix\n",
        "cnf_matrix = confusion_matrix(labels_test, preds)\n",
        "\n",
        "# τυπώνουμε το confusion matrix\n",
        "print(cnf_matrix)"
      ],
      "execution_count": null,
      "outputs": [
        {
          "output_type": "stream",
          "text": [
            "[[ 0  0  0  0 32  0  0  0  0]\n",
            " [ 0  0  0  0 37  0  0  0  0]\n",
            " [ 0  0  0  0 41  0  0  0  0]\n",
            " [ 0  0  0  0 36  0  0  0  0]\n",
            " [ 0  0  0  0 29  0  0  0  0]\n",
            " [ 0  0  0  0 37  0  0  0  0]\n",
            " [ 0  0  0  0 34  0  0  0  0]\n",
            " [ 0  0  0  0 40  0  0  0  0]\n",
            " [ 0  0  0  0 38  0  0  0  0]]\n"
          ],
          "name": "stdout"
        }
      ]
    },
    {
      "cell_type": "code",
      "metadata": {
        "colab": {
          "base_uri": "https://localhost:8080/"
        },
        "id": "7vFqkqrafLCb",
        "outputId": "5bc8b83e-774a-4dd1-e191-a99a2966ec94"
      },
      "source": [
        "# τυπώνουμε το f1_micro_average\n",
        "i += 1\n",
        "micro[i]=precision_recall_fscore_support(labels_test, preds, average='micro')[2]\n",
        "print(micro[i], \"\\n\")"
      ],
      "execution_count": null,
      "outputs": [
        {
          "output_type": "stream",
          "text": [
            "0.08950617283950617 \n",
            "\n"
          ],
          "name": "stdout"
        }
      ]
    },
    {
      "cell_type": "code",
      "metadata": {
        "colab": {
          "base_uri": "https://localhost:8080/"
        },
        "id": "nDJt9sjRfND2",
        "outputId": "f16d0216-56fb-4fbf-deb2-eb0549ab6d27"
      },
      "source": [
        "# τυπώνουμε το f1_macro_average\n",
        "j+= 1\n",
        "macro[j]=precision_recall_fscore_support(labels_test, preds, average='macro')[2]\n",
        "print(macro[j], \"\\n\")"
      ],
      "execution_count": null,
      "outputs": [
        {
          "output_type": "stream",
          "text": [
            "0.01825621655649984 \n",
            "\n"
          ],
          "name": "stdout"
        },
        {
          "output_type": "stream",
          "text": [
            "/usr/local/lib/python3.6/dist-packages/sklearn/metrics/_classification.py:1221: UndefinedMetricWarning: Precision and F-score are ill-defined and being set to 0.0 in labels with no predicted samples. Use `zero_division` parameter to control this behavior.\n",
            "  _warn_prf(average, modifier, msg_start, len(result))\n"
          ],
          "name": "stderr"
        }
      ]
    },
    {
      "cell_type": "markdown",
      "metadata": {
        "id": "uukIpQjCfgxK"
      },
      "source": [
        "##**Stratified**"
      ]
    },
    {
      "cell_type": "code",
      "metadata": {
        "colab": {
          "base_uri": "https://localhost:8080/"
        },
        "id": "lIMdmMfQfhhI",
        "outputId": "354493ba-9e6d-430b-8170-5b4c7a6e695d"
      },
      "source": [
        "model=dc_stratified.fit(train, labels_train)\n",
        "preds = dc_stratified.predict(test)\n",
        "\n",
        "# υπολογίζουμε το confusion matrix\n",
        "cnf_matrix = confusion_matrix(labels_test, preds)\n",
        "\n",
        "# τυπώνουμε το confusion matrix\n",
        "print(cnf_matrix)"
      ],
      "execution_count": null,
      "outputs": [
        {
          "output_type": "stream",
          "text": [
            "[[ 4  2  5  3  4  2  7  3  2]\n",
            " [ 8  2  6  2  3  6  3  3  4]\n",
            " [ 7  0  3  3  4  5  8  8  3]\n",
            " [10  5  4  2  2  1  5  4  3]\n",
            " [ 4  2  2  5  2  3  5  0  6]\n",
            " [ 3  4  4  3  5  7  4  4  3]\n",
            " [ 5  5  4  2  3  6  4  3  2]\n",
            " [ 8  6  4  5  3  5  4  3  2]\n",
            " [ 4  4  4  3  5  5  3  6  4]]\n"
          ],
          "name": "stdout"
        }
      ]
    },
    {
      "cell_type": "code",
      "metadata": {
        "colab": {
          "base_uri": "https://localhost:8080/"
        },
        "id": "pdqNTCeQfkKC",
        "outputId": "cea3b979-1c76-48ba-e4bf-9a75792a02ee"
      },
      "source": [
        "#τυπώνουμε το f1_micro_average\n",
        "i += 1\n",
        "micro[i]=precision_recall_fscore_support(labels_test, preds, average='micro')[2]\n",
        "print(micro[i], \"\\n\")"
      ],
      "execution_count": null,
      "outputs": [
        {
          "output_type": "stream",
          "text": [
            "0.09567901234567901 \n",
            "\n"
          ],
          "name": "stdout"
        }
      ]
    },
    {
      "cell_type": "code",
      "metadata": {
        "colab": {
          "base_uri": "https://localhost:8080/"
        },
        "id": "5V-n32kJfnsD",
        "outputId": "309bf6dd-7ef3-4faf-e8a1-88b9d7fb345a"
      },
      "source": [
        "# τυπώνουμε το f1_macro_average\n",
        "j+= 1\n",
        "macro[j]=precision_recall_fscore_support(labels_test, preds, average='macro')[2]\n",
        "print(macro[j], \"\\n\")"
      ],
      "execution_count": null,
      "outputs": [
        {
          "output_type": "stream",
          "text": [
            "0.09412291511720836 \n",
            "\n"
          ],
          "name": "stdout"
        }
      ]
    },
    {
      "cell_type": "markdown",
      "metadata": {
        "id": "fOFyVOfMfqLL"
      },
      "source": [
        "#**Naive Bayes Classifier**\n"
      ]
    },
    {
      "cell_type": "code",
      "metadata": {
        "colab": {
          "base_uri": "https://localhost:8080/"
        },
        "id": "H-VB-OCyfq8c",
        "outputId": "0fbe37bd-4b17-4836-82e1-04a8676aa1d1"
      },
      "source": [
        "from sklearn.naive_bayes import GaussianNB\n",
        "\n",
        "gnb = GaussianNB() #Default τιμές\n",
        "\n",
        "# κάνουμε εκπαίδευση (fit) δηλαδή ουσιαστικά υπολογίζουμε \n",
        "#μέση τιμή και διακύμανση για όλα τα χαρακτηριστικά και κλάσεις στο training set\n",
        "\n",
        "model = gnb.fit(train, labels_train)\n",
        "preds = gnb.predict(test)\n",
        "\n",
        "# υπολογίζουμε το confusion matrix\n",
        "cnf_matrix = confusion_matrix(labels_test, preds)\n",
        "\n",
        "# τυπώνουμε το confusion matrix\n",
        "print(cnf_matrix)"
      ],
      "execution_count": null,
      "outputs": [
        {
          "output_type": "stream",
          "text": [
            "[[28  0  0  0  2  0  0  2  0]\n",
            " [ 2 29  0  0  2  2  0  2  0]\n",
            " [ 0  3 26  4  1  3  0  1  3]\n",
            " [ 1  0  2 11 13  4  0  3  2]\n",
            " [ 0  0  0  3 23  1  0  0  2]\n",
            " [ 1  0  1  1 10 18  1  4  1]\n",
            " [ 0  0  0  0  7  2 17  5  3]\n",
            " [ 0  0  0  0  1  6  1 28  4]\n",
            " [ 0  1  0  1  2  4  0  8 22]]\n"
          ],
          "name": "stdout"
        }
      ]
    },
    {
      "cell_type": "code",
      "metadata": {
        "colab": {
          "base_uri": "https://localhost:8080/"
        },
        "id": "IODUtJ-TtL_i",
        "outputId": "a6a4740b-356d-46a8-dd03-5c47b90ca829"
      },
      "source": [
        "#τυπώνουμε το f1_micro_average\n",
        "i += 1\n",
        "micro[i]=precision_recall_fscore_support(labels_test, preds, average='micro')[2]\n",
        "print(micro[i], \"\\n\")"
      ],
      "execution_count": null,
      "outputs": [
        {
          "output_type": "stream",
          "text": [
            "0.6234567901234568 \n",
            "\n"
          ],
          "name": "stdout"
        }
      ]
    },
    {
      "cell_type": "code",
      "metadata": {
        "colab": {
          "base_uri": "https://localhost:8080/"
        },
        "id": "HATKLPr_tPcd",
        "outputId": "f6a30732-ed4a-4ca6-9bef-e1c91793dafc"
      },
      "source": [
        "# τυπώνουμε το f1_macro_average\n",
        "j+= 1\n",
        "macro[j]=precision_recall_fscore_support(labels_test, preds, average='macro')[2]\n",
        "print(macro[j], \"\\n\")"
      ],
      "execution_count": null,
      "outputs": [
        {
          "output_type": "stream",
          "text": [
            "0.6275839923547369 \n",
            "\n"
          ],
          "name": "stdout"
        }
      ]
    },
    {
      "cell_type": "markdown",
      "metadata": {
        "id": "xcTFpK1wtVcS"
      },
      "source": [
        "# **k Nearest Neighbors Classifier (kNN)**"
      ]
    },
    {
      "cell_type": "code",
      "metadata": {
        "colab": {
          "base_uri": "https://localhost:8080/"
        },
        "id": "n-aatuLptXJB",
        "outputId": "8e584cd2-2c43-4079-ef1f-0edd843412de"
      },
      "source": [
        "from sklearn.neighbors import KNeighborsClassifier\n",
        "\n",
        "knn = KNeighborsClassifier() # Default k = 5\n",
        "knn.fit(train, labels_train)\n",
        "preds = knn.predict(test)\n",
        "\n",
        "# υπολογίζουμε το confusion matrix\n",
        "cnf_matrix = confusion_matrix(labels_test, preds)\n",
        "\n",
        "# τυπώνουμε το confusion matrix\n",
        "print(cnf_matrix)"
      ],
      "execution_count": null,
      "outputs": [
        {
          "output_type": "stream",
          "text": [
            "[[32  0  0  0  0  0  0  0  0]\n",
            " [ 2 34  0  0  0  0  0  1  0]\n",
            " [ 2  4 34  1  0  0  0  0  0]\n",
            " [ 1  0  1 26  0  2  4  0  2]\n",
            " [ 0  0  0  0 28  0  0  0  1]\n",
            " [ 5  0  0  3  1 24  2  1  1]\n",
            " [ 0  0  0  0  0  1 32  0  1]\n",
            " [ 0  0  0  0  0  3  0 34  3]\n",
            " [ 0  2  0  3  0  7  0  1 25]]\n"
          ],
          "name": "stdout"
        }
      ]
    },
    {
      "cell_type": "code",
      "metadata": {
        "colab": {
          "base_uri": "https://localhost:8080/"
        },
        "id": "kPe43PxrtaUe",
        "outputId": "fa75e099-3320-4987-f002-8ab7440212b3"
      },
      "source": [
        "#τυπώνουμε το f1_micro_average\n",
        "i += 1\n",
        "micro[i]=precision_recall_fscore_support(labels_test, preds, average='micro')[2]\n",
        "print(micro[i], \"\\n\")"
      ],
      "execution_count": null,
      "outputs": [
        {
          "output_type": "stream",
          "text": [
            "0.830246913580247 \n",
            "\n"
          ],
          "name": "stdout"
        }
      ]
    },
    {
      "cell_type": "code",
      "metadata": {
        "colab": {
          "base_uri": "https://localhost:8080/"
        },
        "id": "oObvYijHtan3",
        "outputId": "2561b571-c1cb-42f6-b377-902ebcb7ef0c"
      },
      "source": [
        "# τυπώνουμε το f1_macro_average\n",
        "j+= 1\n",
        "macro[j]=precision_recall_fscore_support(labels_test, preds, average='macro')[2]\n",
        "print(macro[j], \"\\n\")"
      ],
      "execution_count": null,
      "outputs": [
        {
          "output_type": "stream",
          "text": [
            "0.8318598658488017 \n",
            "\n"
          ],
          "name": "stdout"
        }
      ]
    },
    {
      "cell_type": "markdown",
      "metadata": {
        "id": "4XqCccPEpGyI"
      },
      "source": [
        "#**Multi-Layer Perceptron Classifier (MLP)**"
      ]
    },
    {
      "cell_type": "code",
      "metadata": {
        "colab": {
          "base_uri": "https://localhost:8080/"
        },
        "id": "5yAWj0xepNsP",
        "outputId": "a6acfe45-f9f1-4f2a-d765-6c152c18ba34"
      },
      "source": [
        "from sklearn.neural_network import MLPClassifier\n",
        "from sklearn.metrics import classification_report\n",
        "\n",
        "mlp = MLPClassifier() #Default τιμές\n",
        "mlp.fit(train, labels_train)\n",
        "preds = mlp.predict(test)\n",
        "\n",
        "# υπολογίζουμε το confusion matrix\n",
        "cnf_matrix = confusion_matrix(labels_test, preds)\n",
        "\n",
        "# τυπώνουμε το confusion matrix\n",
        "print(cnf_matrix)"
      ],
      "execution_count": null,
      "outputs": [
        {
          "output_type": "stream",
          "text": [
            "[[31  1  0  0  0  0  0  0  0]\n",
            " [ 2 33  0  0  0  0  0  1  1]\n",
            " [ 0  0 40  0  1  0  0  0  0]\n",
            " [ 0  0  2 32  0  2  0  0  0]\n",
            " [ 0  0  0  0 29  0  0  0  0]\n",
            " [ 0  0  0  1  0 35  1  0  0]\n",
            " [ 0  0  0  0  0  0 34  0  0]\n",
            " [ 0  0  0  0  0  3  0 37  0]\n",
            " [ 0  1  0  5  0  2  0  1 29]]\n"
          ],
          "name": "stdout"
        }
      ]
    },
    {
      "cell_type": "code",
      "metadata": {
        "colab": {
          "base_uri": "https://localhost:8080/"
        },
        "id": "6W1sETkhrnq3",
        "outputId": "f074c76f-212e-40b5-aa14-0c7b40e1fa96"
      },
      "source": [
        "#τυπώνουμε το f1_micro_average\n",
        "i += 1\n",
        "micro[i]=precision_recall_fscore_support(labels_test, preds, average='micro')[2]\n",
        "print(micro[i], \"\\n\")"
      ],
      "execution_count": null,
      "outputs": [
        {
          "output_type": "stream",
          "text": [
            "0.9259259259259259 \n",
            "\n"
          ],
          "name": "stdout"
        }
      ]
    },
    {
      "cell_type": "code",
      "metadata": {
        "colab": {
          "base_uri": "https://localhost:8080/"
        },
        "id": "_yyuy-garqSZ",
        "outputId": "a40ace46-7432-4d13-d7ca-9e42797bc4f4"
      },
      "source": [
        "# τυπώνουμε το f1_macro_average\n",
        "j+= 1\n",
        "macro[j]=precision_recall_fscore_support(labels_test, preds, average='macro')[2]\n",
        "print(macro[j], \"\\n\")"
      ],
      "execution_count": null,
      "outputs": [
        {
          "output_type": "stream",
          "text": [
            "0.927057465277338 \n",
            "\n"
          ],
          "name": "stdout"
        }
      ]
    },
    {
      "cell_type": "markdown",
      "metadata": {
        "id": "o7EgFtP2rr5r"
      },
      "source": [
        "#**Support Vector Machines Classifier (SVM)**"
      ]
    },
    {
      "cell_type": "code",
      "metadata": {
        "colab": {
          "base_uri": "https://localhost:8080/"
        },
        "id": "TilRbss3rz8k",
        "outputId": "6e205af4-2f0d-497c-a69d-7c14295b2f88"
      },
      "source": [
        "from sklearn import svm\n",
        "\n",
        "svm = svm.SVC() #Default τιμές (rbf kernel)\n",
        "svm.fit(train, labels_train)\n",
        "preds = svm.predict(test)\n",
        "\n",
        "# υπολογίζουμε το confusion matrix\n",
        "cnf_matrix = confusion_matrix(labels_test, preds)\n",
        "\n",
        "# τυπώνουμε το confusion matrix\n",
        "print(cnf_matrix)"
      ],
      "execution_count": null,
      "outputs": [
        {
          "output_type": "stream",
          "text": [
            "[[32  0  0  0  0  0  0  0  0]\n",
            " [ 0 36  0  0  0  0  0  1  0]\n",
            " [ 0  0 40  1  0  0  0  0  0]\n",
            " [ 0  0  2 33  0  1  0  0  0]\n",
            " [ 0  0  0  0 29  0  0  0  0]\n",
            " [ 0  2  1  1  0 31  0  0  2]\n",
            " [ 0  0  0  0  0  1 31  0  2]\n",
            " [ 0  0  0  1  0  0  0 34  5]\n",
            " [ 0  1  0  3  0  2  0  0 32]]\n"
          ],
          "name": "stdout"
        }
      ]
    },
    {
      "cell_type": "code",
      "metadata": {
        "colab": {
          "base_uri": "https://localhost:8080/"
        },
        "id": "xuo69nixwPVg",
        "outputId": "4a6d0f0f-3a14-4a05-c497-4d207282388e"
      },
      "source": [
        "#τυπώνουμε το f1_micro_average\n",
        "i += 1\n",
        "micro[i]=precision_recall_fscore_support(labels_test, preds, average='micro')[2]\n",
        "print(micro[i], \"\\n\")"
      ],
      "execution_count": null,
      "outputs": [
        {
          "output_type": "stream",
          "text": [
            "0.9197530864197531 \n",
            "\n"
          ],
          "name": "stdout"
        }
      ]
    },
    {
      "cell_type": "code",
      "metadata": {
        "colab": {
          "base_uri": "https://localhost:8080/"
        },
        "id": "rfNQGcT7wT1J",
        "outputId": "8eae30ce-b6af-4203-9121-d337a00ab842"
      },
      "source": [
        "# τυπώνουμε το f1_macro_average\n",
        "j+= 1\n",
        "macro[j]=precision_recall_fscore_support(labels_test, preds, average='macro')[2]\n",
        "print(macro[j], \"\\n\")"
      ],
      "execution_count": null,
      "outputs": [
        {
          "output_type": "stream",
          "text": [
            "0.9234999874817775 \n",
            "\n"
          ],
          "name": "stdout"
        }
      ]
    },
    {
      "cell_type": "markdown",
      "metadata": {
        "id": "V0XoNZVBhzIU"
      },
      "source": [
        "# **Σύγκριση Classifiers**"
      ]
    },
    {
      "cell_type": "code",
      "metadata": {
        "id": "QRHRlj-uh09y"
      },
      "source": [
        "import matplotlib.pyplot as plt\n",
        "def plot_scores(type,scores,classifiers):\n",
        "\n",
        "  plt.figure(figsize=(25,15))\n",
        "  plt.bar(classifiers,scores,width=0.5)\n",
        "  plt.xlabel('Classifier Used',color = 'royalblue')\n",
        "  plt.ylabel(type+' average',color='royalblue')\n",
        "\n",
        "  plt.show()\n"
      ],
      "execution_count": null,
      "outputs": []
    },
    {
      "cell_type": "markdown",
      "metadata": {
        "id": "QlKYxF22iFMQ"
      },
      "source": [
        "## **F1 micro**"
      ]
    },
    {
      "cell_type": "code",
      "metadata": {
        "colab": {
          "base_uri": "https://localhost:8080/",
          "height": 554
        },
        "id": "uUTaiEnhiJqD",
        "outputId": "5b5fa949-845a-48f8-d3be-d437c1a58835"
      },
      "source": [
        "plot_scores('f1_micro',micro.values(),['uniform','dc_constant_0','dc_constant_1','dc_constant_2','dc_constant_3','dc_constant_4','dc_constant_5','dc_constant_6','dc_constant_7','dc_constant_8','dc_most_frequent','dc_stratified','gnb','knn','mlp','svm'])"
      ],
      "execution_count": null,
      "outputs": [
        {
          "output_type": "display_data",
          "data": {
            "image/png": "[encoded data removed]",
            "text/plain": [
              "<Figure size 1800x1080 with 1 Axes>"
            ]
          },
          "metadata": {
            "tags": [],
            "needs_background": "light"
          }
        }
      ]
    },
    {
      "cell_type": "markdown",
      "metadata": {
        "id": "wo9JNxLyil-q"
      },
      "source": [
        "## **F1 macro**"
      ]
    },
    {
      "cell_type": "code",
      "metadata": {
        "colab": {
          "base_uri": "https://localhost:8080/",
          "height": 554
        },
        "id": "0fuQpTr5it8G",
        "outputId": "07266522-43a5-44b5-ae59-b0c3b4a86af5"
      },
      "source": [
        "plot_scores('f1_micro',macro.values(),['uniform','dc_constant_0','dc_constant_1','dc_constant_2','dc_constant_3','dc_constant_4','dc_constant_5','dc_constant_6','dc_constant_7','dc_constant_8','dc_most_frequent','dc_stratified','gnb','knn','mlp','svm'])"
      ],
      "execution_count": null,
      "outputs": [
        {
          "output_type": "display_data",
          "data": {
            "image/png": "[encoded data removed]",
            "text/plain": [
              "<Figure size 1800x1080 with 1 Axes>"
            ]
          },
          "metadata": {
            "tags": [],
            "needs_background": "light"
          }
        }
      ]
    },
    {
      "cell_type": "markdown",
      "metadata": {
        "id": "rJmT_SP9EGtC"
      },
      "source": [
        "**Παρατηρήσεις**\n",
        "\n",
        "Από τα παραπάνω διαγράμματα φαίνεται ότι τόσο στο f1_micro όσο και στο f1_macro, οι dummy classifiers δεν μας δίνουν ικανοποιητικά αποτελέσματα, σε αντίθεση με τους υπόλοιπους που παρουσιάζουν αρκετά υψηλή ακρίβεια (ειδικότερα ο MLP και ο SVM)"
      ]
    },
    {
      "cell_type": "markdown",
      "metadata": {
        "id": "rFUqaRcrjA02"
      },
      "source": [
        "# **Βελτιστοποίηση ταξινομητών**"
      ]
    },
    {
      "cell_type": "markdown",
      "metadata": {
        "id": "4mdmFuKaEpie"
      },
      "source": [
        "Δεν πραγματοποιήσαμε κάποια βελτιστοποίηση στους dummy classifiers και στον Naive Bayes Classifier, καθώς η βελτιστοποίηση που θα μπορούσε να γίνει θα αφορούσε το data set και όχι τους ταξινομητές καθαυτούς. \n",
        "\n",
        "Ωστόσο, επειδή παραπάνω είχαμε εφαρμόσει PCA, θεωρούμε ότι οι συγκεκριμένοι classifiers είναι ήδη \"βελτιστοποιημένοι\" και παρακάτω προχωράμε στην βελτιστοποίηση των υπερπαραμέτρων των υπόλοιπων classifiers. "
      ]
    },
    {
      "cell_type": "code",
      "metadata": {
        "id": "yoy7NWd3jC6y",
        "colab": {
          "base_uri": "https://localhost:8080/"
        },
        "outputId": "d7a01943-4dc8-4fbe-9425-80fb5745adc2"
      },
      "source": [
        "!pip install --upgrade imbalanced-learn"
      ],
      "execution_count": null,
      "outputs": [
        {
          "output_type": "stream",
          "text": [
            "Requirement already satisfied: imbalanced-learn in /usr/local/lib/python3.6/dist-packages (0.4.3)\n",
            "Collecting imbalanced-learn\n",
            "  Downloading imbalanced_learn-0.7.0-py3-none-any.whl (167 kB)\n",
            "\u001b[K     |████████████████████████████████| 167 kB 4.4 MB/s \n",
            "\u001b[?25hRequirement already satisfied: numpy>=1.13.3 in /usr/local/lib/python3.6/dist-packages (from imbalanced-learn) (1.19.4)\n",
            "Requirement already satisfied: scipy>=0.19.1 in /usr/local/lib/python3.6/dist-packages (from imbalanced-learn) (1.4.1)\n",
            "Requirement already satisfied: scikit-learn>=0.23 in /usr/local/lib/python3.6/dist-packages (from imbalanced-learn) (0.23.2)\n",
            "Requirement already satisfied: joblib>=0.11 in /usr/local/lib/python3.6/dist-packages (from imbalanced-learn) (0.17.0)\n",
            "Requirement already satisfied: numpy>=1.13.3 in /usr/local/lib/python3.6/dist-packages (from imbalanced-learn) (1.19.4)\n",
            "Requirement already satisfied: threadpoolctl>=2.0.0 in /usr/local/lib/python3.6/dist-packages (from scikit-learn>=0.23->imbalanced-learn) (2.1.0)\n",
            "Requirement already satisfied: scipy>=0.19.1 in /usr/local/lib/python3.6/dist-packages (from imbalanced-learn) (1.4.1)\n",
            "Requirement already satisfied: joblib>=0.11 in /usr/local/lib/python3.6/dist-packages (from imbalanced-learn) (0.17.0)\n",
            "Requirement already satisfied: numpy>=1.13.3 in /usr/local/lib/python3.6/dist-packages (from imbalanced-learn) (1.19.4)\n",
            "Installing collected packages: imbalanced-learn\n",
            "  Attempting uninstall: imbalanced-learn\n",
            "    Found existing installation: imbalanced-learn 0.4.3\n",
            "    Uninstalling imbalanced-learn-0.4.3:\n",
            "      Successfully uninstalled imbalanced-learn-0.4.3\n",
            "Successfully installed imbalanced-learn-0.7.0\n"
          ],
          "name": "stdout"
        }
      ]
    },
    {
      "cell_type": "code",
      "metadata": {
        "id": "Iv8aYpwlzVIR"
      },
      "source": [
        "from imblearn.pipeline import Pipeline\n",
        "\n",
        "# φέρνουμε τις γνωστές μας κλάσεις για preprocessing\n",
        "from sklearn.feature_selection import VarianceThreshold\n",
        "from sklearn.preprocessing import StandardScaler # φέρνουμε τον StandarScaler ως transformer που έχει .transform kai ΄όχι ως scale()\n",
        "from imblearn.over_sampling import RandomOverSampler\n",
        "\n",
        "\n",
        "# αρχικοποιούμε τους εκτιμητές (μετασχηματιστές και ταξινομητή) χωρίς παραμέτρους\n",
        "selector = VarianceThreshold()\n",
        "scaler = StandardScaler()\n",
        "ros = RandomOverSampler()\n",
        "\n",
        "clf = KNeighborsClassifier(n_jobs=-1) # η παράμετρος n_jobs = -1 χρησιμοποιεί όλους τους πυρήνες του υπολογιστή\n",
        "pipe = Pipeline(steps=[('selector', selector), ('scaler', scaler), ('sampler', ros), ('kNN', clf)])"
      ],
      "execution_count": null,
      "outputs": []
    },
    {
      "cell_type": "code",
      "metadata": {
        "colab": {
          "base_uri": "https://localhost:8080/"
        },
        "id": "LBHHF1JV0wpx",
        "outputId": "b42ba63d-50a0-4a0a-cb43-9c52bf8f37ac"
      },
      "source": [
        "pipe.fit(train,labels_train)\n",
        "preds = pipe.predict(test)\n",
        "print(classification_report(labels_test, preds))"
      ],
      "execution_count": null,
      "outputs": [
        {
          "output_type": "stream",
          "text": [
            "              precision    recall  f1-score   support\n",
            "\n",
            "           0       0.91      0.97      0.94        32\n",
            "           1       0.89      0.65      0.75        37\n",
            "           2       0.94      0.76      0.84        41\n",
            "           3       0.81      0.81      0.81        36\n",
            "           4       1.00      1.00      1.00        29\n",
            "           5       0.77      0.73      0.75        37\n",
            "           6       0.42      0.88      0.57        34\n",
            "           7       0.90      0.93      0.91        40\n",
            "           8       0.94      0.42      0.58        38\n",
            "\n",
            "    accuracy                           0.78       324\n",
            "   macro avg       0.84      0.79      0.79       324\n",
            "weighted avg       0.84      0.78      0.79       324\n",
            "\n"
          ],
          "name": "stdout"
        }
      ]
    },
    {
      "cell_type": "code",
      "metadata": {
        "colab": {
          "base_uri": "https://localhost:8080/"
        },
        "id": "F4-oMSWf1HSL",
        "outputId": "beb0f17d-a58c-4857-f44a-16fed9433f06"
      },
      "source": [
        "train_variance = train.var(axis=0)\n",
        "print(train_variance)\n",
        "print(np.max(train_variance))\n",
        "print(np.mean(train_variance))"
      ],
      "execution_count": null,
      "outputs": [
        {
          "output_type": "stream",
          "text": [
            "[0.5226704  0.43945263 0.3358225  0.24972814 0.22647988 0.20859186\n",
            " 0.17860992 0.16711972 0.1351715  0.12569662 0.12199031 0.10735696\n",
            " 0.10056289 0.09207821 0.08938058 0.08746397 0.08416323 0.07712409\n",
            " 0.07208989 0.07024241 0.06537278 0.06290221 0.0601479  0.05768306\n",
            " 0.05654557 0.05523226 0.05247885 0.05148724 0.04995312 0.04737692\n",
            " 0.04637142 0.04566683 0.04468979 0.04287216 0.04175897 0.04111391\n",
            " 0.04067691 0.03834483 0.03825751 0.03732387 0.03633241 0.03596497\n",
            " 0.03455863 0.03340983 0.03333595 0.03266151 0.03118009 0.03055146\n",
            " 0.02990067 0.0295252  0.02887313 0.02802986 0.02789991 0.02750937\n",
            " 0.02724924 0.02694558 0.02567074 0.02554707 0.02489163 0.02437286\n",
            " 0.02406822 0.0235358  0.02324959 0.02246576 0.02224368 0.02175042\n",
            " 0.02144215 0.02111846 0.02073556 0.02053863 0.0203764  0.02005195\n",
            " 0.01981759 0.01976053 0.019346   0.01894268 0.01877352 0.0184987\n",
            " 0.0181353  0.01793069 0.01759172 0.01722991 0.01713338 0.01694555\n",
            " 0.01670647 0.0164066  0.01630309 0.01598349 0.01580894 0.01545411\n",
            " 0.01535698 0.01497036 0.01472849 0.01459182 0.01453223 0.01448329\n",
            " 0.01423239 0.01414795 0.01376825 0.01366094 0.01345041 0.01331719\n",
            " 0.01321815 0.01314339 0.0130251  0.01282864 0.01273904 0.01270125\n",
            " 0.01255404 0.01245659 0.01221038 0.01210759 0.0120036  0.01182377\n",
            " 0.01168352 0.01161002 0.01151655 0.01128098 0.01121979 0.01117612\n",
            " 0.01103941 0.0109325  0.01076817 0.0106567  0.01056612 0.01047057\n",
            " 0.01035595 0.01023634 0.0101836  0.01014486 0.0099837  0.00981758\n",
            " 0.0097905  0.00968599 0.00960831 0.00949126 0.00944398 0.0091998\n",
            " 0.00917685 0.00913167 0.00896667 0.00891609 0.00882761 0.00874456\n",
            " 0.00868938 0.00854613 0.00841299 0.00837785 0.00828941 0.0082222\n",
            " 0.00816273 0.00807365 0.00796411 0.00787638 0.00775868 0.00763987\n",
            " 0.00758572 0.00740703 0.00738082 0.00734382 0.00721023 0.00715402\n",
            " 0.00704361 0.00696996 0.00689625 0.00685811 0.00680612 0.00675618\n",
            " 0.00672179 0.00664304 0.0065514  0.00652776 0.0064756  0.00645495\n",
            " 0.00640307 0.00621154 0.00616975 0.00612264 0.00609375 0.00598822\n",
            " 0.00595437 0.00593362 0.0058267  0.0057864  0.00571933 0.0056856\n",
            " 0.00567689 0.00560911 0.00553711 0.00549953 0.00547966 0.00541819\n",
            " 0.00534061 0.00531885 0.0052969  0.00522151 0.00512332 0.00508248\n",
            " 0.00506272 0.00501862 0.00495058 0.00491195 0.00487798 0.00485862\n",
            " 0.00483504 0.00477844 0.00477123 0.00468642 0.00465013 0.00461226\n",
            " 0.00457454 0.00452271 0.00450573 0.00446919 0.00442965 0.00439113\n",
            " 0.00433506 0.00431962 0.00423215 0.00413907 0.00413279 0.00410823\n",
            " 0.00408092 0.0040395  0.00401921 0.00397931 0.00393117 0.00389898\n",
            " 0.00385349 0.00382882 0.00380211 0.00379132 0.00373408 0.00371019\n",
            " 0.00367327 0.00363727 0.00360799 0.0035853  0.00352684 0.00345998\n",
            " 0.0034575  0.00343833 0.00343284 0.00339343 0.00336786 0.00334094\n",
            " 0.00329847 0.00328763 0.00324914 0.00321324 0.00316693 0.00315728\n",
            " 0.00314836 0.00309592 0.00306225 0.00304513 0.00303792 0.00301332\n",
            " 0.00297238 0.00293649 0.00292272 0.0028885  0.00287317 0.00286479\n",
            " 0.00283106 0.00279977 0.00279919 0.0027896  0.00274603 0.00271723\n",
            " 0.00270274 0.00267424 0.00262748 0.00262146 0.00260556 0.00258055\n",
            " 0.00256655 0.00254974 0.00252261 0.00251326 0.00249427 0.00245593\n",
            " 0.00244789 0.00242635 0.00240213 0.00239504 0.00237222 0.0023401\n",
            " 0.00232483 0.00230355 0.0022834  0.00226979 0.00225233 0.00224614\n",
            " 0.00221698 0.00220706 0.00217406 0.00216694 0.0021396  0.00211109\n",
            " 0.00210382 0.00207338 0.00205609 0.00205305 0.00203723 0.00202482\n",
            " 0.0020012  0.00198237 0.00194889 0.00193761 0.00190415 0.00188965\n",
            " 0.00186863 0.00186625 0.00185265 0.00183531 0.0018094  0.00177845\n",
            " 0.00174049 0.00172817 0.00172416 0.00170468 0.00169928 0.00166831\n",
            " 0.0016521  0.00163442 0.00162439 0.00160116 0.00156977 0.00156455\n",
            " 0.00155883 0.00153714 0.00151813 0.00150132 0.00148872 0.00146667\n",
            " 0.00145145 0.00142648 0.00141032 0.0014027  0.00139048 0.00136425\n",
            " 0.00136135 0.00135524 0.00134283 0.0013211  0.00131726 0.00130528\n",
            " 0.00130247 0.00129341 0.00128697 0.00126914 0.00126457 0.00125251\n",
            " 0.00123743 0.00123538 0.00123281 0.00121893 0.00120227 0.00118935\n",
            " 0.00118458 0.00118206 0.00116402 0.00115889 0.00113688 0.00112271\n",
            " 0.0011194  0.00110654 0.00109819 0.00105425]\n",
            "0.5226704002891636\n",
            "0.019124932676608145\n"
          ],
          "name": "stdout"
        }
      ]
    },
    {
      "cell_type": "code",
      "metadata": {
        "id": "JQt9OmE_1KWL"
      },
      "source": [
        "times_train_2 = {}\n",
        "times_test_2 = {}"
      ],
      "execution_count": null,
      "outputs": []
    },
    {
      "cell_type": "markdown",
      "metadata": {
        "id": "SJ_OotUYHXei"
      },
      "source": [
        "##**k Nearest Neighbors Classifier (kNN)**"
      ]
    },
    {
      "cell_type": "code",
      "metadata": {
        "id": "ujvIfWlt1Nxx"
      },
      "source": [
        "from sklearn.model_selection import GridSearchCV\n",
        "\n",
        "clf = KNeighborsClassifier()\n",
        "vthreshold = [0, 0.02, 0.08] #προσαρμόζουμε τις τιμές μας στο variance που παρατηρήσαμε παραπάνω\n",
        "metric = ['euclidean','minkowski','chebyshev']\n",
        "weights = ['distance','uniform']\n",
        "k = range(5, 15, 2)"
      ],
      "execution_count": null,
      "outputs": []
    },
    {
      "cell_type": "code",
      "metadata": {
        "id": "A7Il3B6T8RMT"
      },
      "source": [
        "pipe = Pipeline(steps=[('selector', selector), ('scaler', scaler), ('sampler', ros), ('kNN', clf)], memory = 'tmp')"
      ],
      "execution_count": null,
      "outputs": []
    },
    {
      "cell_type": "code",
      "metadata": {
        "id": "74c1C9DP8Sf0"
      },
      "source": [
        "knn_estimator_micro = GridSearchCV(pipe, dict(kNN__n_neighbors=k, kNN__metric=metric, kNN__weights=weights), cv=5, scoring='f1_micro', n_jobs=-1) \n",
        "knn_estimator_macro = GridSearchCV(pipe, dict(kNN__n_neighbors=k, kNN__metric=metric, kNN__weights=weights), cv=5, scoring='f1_macro', n_jobs=-1)"
      ],
      "execution_count": null,
      "outputs": []
    },
    {
      "cell_type": "code",
      "metadata": {
        "id": "kibdIeQl8aPs"
      },
      "source": [
        "import time\n",
        "start_time = time.time()\n",
        "knn_estimator_micro.fit(train, labels_train)\n",
        "preds = knn_estimator_micro.predict(test)\n",
        "total_time = time.time() - start_time "
      ],
      "execution_count": null,
      "outputs": []
    },
    {
      "cell_type": "code",
      "metadata": {
        "colab": {
          "base_uri": "https://localhost:8080/"
        },
        "id": "K6sK993r8rf8",
        "outputId": "2f01e2d0-fdb8-40b9-ab89-190b3f5445ea"
      },
      "source": [
        "print(\"Συνολικός χρόνος fit και predict: %s seconds\" % (total_time))\n",
        "print(classification_report(labels_test, preds))"
      ],
      "execution_count": null,
      "outputs": [
        {
          "output_type": "stream",
          "text": [
            "Συνολικός χρόνος fit και predict: 13.769479274749756 seconds\n",
            "              precision    recall  f1-score   support\n",
            "\n",
            "           0       0.91      0.97      0.94        32\n",
            "           1       0.89      0.68      0.77        37\n",
            "           2       1.00      0.80      0.89        41\n",
            "           3       0.80      0.92      0.86        36\n",
            "           4       0.94      1.00      0.97        29\n",
            "           5       0.72      0.76      0.74        37\n",
            "           6       0.70      0.91      0.79        34\n",
            "           7       0.80      1.00      0.89        40\n",
            "           8       0.96      0.61      0.74        38\n",
            "\n",
            "    accuracy                           0.84       324\n",
            "   macro avg       0.86      0.85      0.84       324\n",
            "weighted avg       0.86      0.84      0.84       324\n",
            "\n"
          ],
          "name": "stdout"
        }
      ]
    },
    {
      "cell_type": "code",
      "metadata": {
        "colab": {
          "base_uri": "https://localhost:8080/"
        },
        "id": "f7d-R4nsBBUa",
        "outputId": "a76fd50f-f1de-4174-9e45-faa63e32b02f"
      },
      "source": [
        "print(knn_estimator_micro.best_estimator_)\n",
        "print(knn_estimator_micro.best_params_)"
      ],
      "execution_count": null,
      "outputs": [
        {
          "output_type": "stream",
          "text": [
            "Pipeline(memory='tmp',\n",
            "         steps=[('selector', VarianceThreshold()), ('scaler', StandardScaler()),\n",
            "                ('sampler', RandomOverSampler()),\n",
            "                ('kNN',\n",
            "                 KNeighborsClassifier(metric='euclidean', weights='distance'))])\n",
            "{'kNN__metric': 'euclidean', 'kNN__n_neighbors': 5, 'kNN__weights': 'distance'}\n"
          ],
          "name": "stdout"
        }
      ]
    },
    {
      "cell_type": "code",
      "metadata": {
        "id": "-bj788sOBRdt"
      },
      "source": [
        "start_time = time.time()\n",
        "knn_estimator_macro.fit(train, labels_train)\n",
        "preds = knn_estimator_macro.predict(test)\n",
        "total_time = time.time() - start_time"
      ],
      "execution_count": null,
      "outputs": []
    },
    {
      "cell_type": "code",
      "metadata": {
        "colab": {
          "base_uri": "https://localhost:8080/"
        },
        "id": "vIvqHqVTBnJD",
        "outputId": "f96868f5-7c93-49cd-92aa-887a25801dd4"
      },
      "source": [
        "print(\"Συνολικός χρόνος fit και predict: %s seconds\" % (total_time))\n",
        "print(classification_report(labels_test, preds))"
      ],
      "execution_count": null,
      "outputs": [
        {
          "output_type": "stream",
          "text": [
            "Συνολικός χρόνος fit και predict: 11.883768320083618 seconds\n",
            "              precision    recall  f1-score   support\n",
            "\n",
            "           0       0.91      0.97      0.94        32\n",
            "           1       0.89      0.68      0.77        37\n",
            "           2       1.00      0.80      0.89        41\n",
            "           3       0.80      0.92      0.86        36\n",
            "           4       0.94      1.00      0.97        29\n",
            "           5       0.72      0.76      0.74        37\n",
            "           6       0.70      0.91      0.79        34\n",
            "           7       0.80      1.00      0.89        40\n",
            "           8       0.96      0.61      0.74        38\n",
            "\n",
            "    accuracy                           0.84       324\n",
            "   macro avg       0.86      0.85      0.84       324\n",
            "weighted avg       0.86      0.84      0.84       324\n",
            "\n"
          ],
          "name": "stdout"
        }
      ]
    },
    {
      "cell_type": "code",
      "metadata": {
        "colab": {
          "base_uri": "https://localhost:8080/"
        },
        "id": "xC2FEYs7BsA-",
        "outputId": "29189270-4f58-4601-8401-a307a51b42a1"
      },
      "source": [
        "print(knn_estimator_macro.best_estimator_)\n",
        "print(knn_estimator_macro.best_params_)"
      ],
      "execution_count": null,
      "outputs": [
        {
          "output_type": "stream",
          "text": [
            "Pipeline(memory='tmp',\n",
            "         steps=[('selector', VarianceThreshold()), ('scaler', StandardScaler()),\n",
            "                ('sampler', RandomOverSampler()),\n",
            "                ('kNN',\n",
            "                 KNeighborsClassifier(metric='euclidean', weights='distance'))])\n",
            "{'kNN__metric': 'euclidean', 'kNN__n_neighbors': 5, 'kNN__weights': 'distance'}\n"
          ],
          "name": "stdout"
        }
      ]
    },
    {
      "cell_type": "code",
      "metadata": {
        "colab": {
          "base_uri": "https://localhost:8080/"
        },
        "id": "o_iWkxB8V9UD",
        "outputId": "16dc6dd9-1c6e-403b-f253-d9fd61ae72b6"
      },
      "source": [
        "predictions2 = {}\n",
        "\n",
        "knn = KNeighborsClassifier(n_neighbors=5,weights='distance',metric='euclidean') \n",
        "selector = VarianceThreshold()\n",
        "scaler = StandardScaler()\n",
        "ros = RandomOverSampler()\n",
        "\n",
        "pipe = Pipeline(steps=[('scaler', scaler), ('sampler', ros), ('kNN', knn)], memory = 'tmp')\n",
        "\n",
        "start_time = time.time()\n",
        "pipe.fit(train, labels_train)\n",
        "times_train_2['kNN'] = time.time() - start_time\n",
        "start_time = time.time()\n",
        "predictions2['kNN'] = pipe.predict(test)\n",
        "times_test_2['kNN'] = time.time() - start_time\n",
        "print(classification_report(labels_test, predictions2['kNN']))"
      ],
      "execution_count": null,
      "outputs": [
        {
          "output_type": "stream",
          "text": [
            "              precision    recall  f1-score   support\n",
            "\n",
            "           0       0.91      0.97      0.94        32\n",
            "           1       0.89      0.68      0.77        37\n",
            "           2       0.97      0.76      0.85        41\n",
            "           3       0.85      0.78      0.81        36\n",
            "           4       0.94      1.00      0.97        29\n",
            "           5       0.48      0.78      0.60        37\n",
            "           6       0.74      0.82      0.78        34\n",
            "           7       0.85      1.00      0.92        40\n",
            "           8       0.95      0.53      0.68        38\n",
            "\n",
            "    accuracy                           0.81       324\n",
            "   macro avg       0.84      0.81      0.81       324\n",
            "weighted avg       0.84      0.81      0.81       324\n",
            "\n"
          ],
          "name": "stdout"
        }
      ]
    },
    {
      "cell_type": "markdown",
      "metadata": {
        "id": "31Kf_rsIJeQt"
      },
      "source": [
        "**Παρατηρήσεις**\n",
        "\n",
        "Στις προηγούμενες εκτελέσεις δοκιμάστηκαν αρχικά τιμές της υπερπαραμέτρου k του kNN σε συνδυασμό με ορισμένα metrics και weights. Τα καλύτερα αποτελέσματα προέκυψαν για k=5. Μετά απο αρκετές δοκιμές καταλήξαμε στις τελικές βέλτιστες παραμέτρους: k=5, χωρίς χρήση selector( selector με μηδενικό κατώφλι διακύμανσης, όπου δεν χρησιμεύει σε τίποτα έφοσον δεν έχουμε χαρακτηριστικά με μηδενική διακύμανση), χρήση της παραμέτρου euclidean ως metric και distance ως weight στον kNN. \n",
        "\n",
        "*Σημείωση:* Προφανώς μεταξύ διαφορετικών διαχωρισμών train και test sets που είχαμε τις διάφορες ημέρες που εκτελέστηκε ο κώδικας, προέκυπταν ελαφρώς διαφορετικά αποτελέσματα με αποτέλεσμα να προσαρμόζουμε τις εκάστοτε τιμές. "
      ]
    },
    {
      "cell_type": "markdown",
      "metadata": {
        "id": "xu_d-iuoHkKd"
      },
      "source": [
        "##**Multi-Layer Perceptron Classifier (MLP)**"
      ]
    },
    {
      "cell_type": "code",
      "metadata": {
        "id": "yDeaBQ5mWW-E"
      },
      "source": [
        "mlpclassifier = MLPClassifier() \n",
        "\n",
        "selector = VarianceThreshold()\n",
        "scaler = StandardScaler()\n",
        "ros = RandomOverSampler()\n",
        "\n",
        "vthreshold = [0.02, 0.08] \n",
        "activation = ['identity','relu','tanh','logistic']\n",
        "solver = ['lbfgs','adam','sgd']\n",
        "max_iter = [50,100,150,200]\n",
        "learning_rate = ['constant','adaptive','invscaling']\n",
        "alpha = [0.0001, 0.01]\n",
        "hidden_layer_sizes = [(50,) , (100,) , (150,)] \n"
      ],
      "execution_count": null,
      "outputs": []
    },
    {
      "cell_type": "code",
      "metadata": {
        "id": "6MWzg0wDZRDi"
      },
      "source": [
        "pipe = Pipeline(steps=[('selector', selector), ('scaler', scaler), ('sampler', ros), ('mlpclassifier', mlpclassifier)], memory = 'tmp')"
      ],
      "execution_count": null,
      "outputs": []
    },
    {
      "cell_type": "code",
      "metadata": {
        "id": "BvIqIdcjZ7yg"
      },
      "source": [
        "mlp_estimator_micro = GridSearchCV(pipe, dict(mlpclassifier__hidden_layer_sizes = hidden_layer_sizes  , mlpclassifier__activation=activation, mlpclassifier__solver=solver, mlpclassifier__max_iter=max_iter,mlpclassifier__learning_rate=learning_rate,mlpclassifier__alpha=alpha), cv=5, scoring='f1_micro', n_jobs=-1)\n",
        "mlp_estimator_macro = GridSearchCV(pipe, dict(mlpclassifier__hidden_layer_sizes = hidden_layer_sizes  , mlpclassifier__activation=activation, mlpclassifier__solver=solver, mlpclassifier__max_iter=max_iter,mlpclassifier__learning_rate=learning_rate,mlpclassifier__alpha=alpha), cv=5, scoring='f1_macro', n_jobs=-1)\n"
      ],
      "execution_count": null,
      "outputs": []
    },
    {
      "cell_type": "code",
      "metadata": {
        "id": "vBa97jWvaFGK"
      },
      "source": [
        "start_time = time.time()\n",
        "mlp_estimator_micro.fit(train, labels_train)\n",
        "\n",
        "preds = mlp_estimator_micro.predict(test)\n",
        "total_time = time.time() - start_time"
      ],
      "execution_count": null,
      "outputs": []
    },
    {
      "cell_type": "code",
      "metadata": {
        "colab": {
          "base_uri": "https://localhost:8080/"
        },
        "id": "AfFG56ZfuI4q",
        "outputId": "4e97a2f6-de37-4e3b-d67f-c88694211227"
      },
      "source": [
        "print(\"Συνολικός χρόνος fit και predict: %s seconds\" % (total_time))\n",
        "print(classification_report(labels_test, preds))\n",
        "print(mlp_estimator_micro.best_estimator_)\n",
        "print(mlp_estimator_micro.best_params_)"
      ],
      "execution_count": null,
      "outputs": [
        {
          "output_type": "stream",
          "text": [
            "Συνολικός χρόνος fit και predict: 3169.464425086975 seconds\n",
            "              precision    recall  f1-score   support\n",
            "\n",
            "           0       0.97      1.00      0.98        32\n",
            "           1       0.94      0.92      0.93        37\n",
            "           2       0.86      0.90      0.88        41\n",
            "           3       0.80      0.78      0.79        36\n",
            "           4       0.97      1.00      0.98        29\n",
            "           5       0.86      0.86      0.86        37\n",
            "           6       0.83      1.00      0.91        34\n",
            "           7       0.95      0.97      0.96        40\n",
            "           8       0.96      0.71      0.82        38\n",
            "\n",
            "    accuracy                           0.90       324\n",
            "   macro avg       0.91      0.91      0.90       324\n",
            "weighted avg       0.90      0.90      0.90       324\n",
            "\n",
            "Pipeline(memory='tmp',\n",
            "         steps=[('selector', VarianceThreshold()), ('scaler', StandardScaler()),\n",
            "                ('sampler', RandomOverSampler()),\n",
            "                ('mlpclassifier',\n",
            "                 MLPClassifier(activation='logistic', alpha=0.01,\n",
            "                               hidden_layer_sizes=(150,),\n",
            "                               learning_rate='invscaling', solver='lbfgs'))])\n",
            "{'mlpclassifier__activation': 'logistic', 'mlpclassifier__alpha': 0.01, 'mlpclassifier__hidden_layer_sizes': (150,), 'mlpclassifier__learning_rate': 'invscaling', 'mlpclassifier__max_iter': 200, 'mlpclassifier__solver': 'lbfgs'}\n"
          ],
          "name": "stdout"
        }
      ]
    },
    {
      "cell_type": "code",
      "metadata": {
        "id": "obq1jT2HuUC5"
      },
      "source": [
        "start_time = time.time()\n",
        "mlp_estimator_macro.fit(train, labels_train)\n",
        "\n",
        "preds = mlp_estimator_macro.predict(test)\n",
        "total_time = time.time() - start_time "
      ],
      "execution_count": null,
      "outputs": []
    },
    {
      "cell_type": "code",
      "metadata": {
        "colab": {
          "base_uri": "https://localhost:8080/"
        },
        "id": "Y2mtIcHC6SPf",
        "outputId": "6066e64d-6719-4b90-8ef1-a2182cc14eaa"
      },
      "source": [
        "print(\"Συνολικός χρόνος fit και predict: %s seconds\" % (total_time))\n",
        "print(classification_report(labels_test, preds))\n",
        "print(mlp_estimator_macro.best_estimator_)\n",
        "print(mlp_estimator_macro.best_params_)"
      ],
      "execution_count": null,
      "outputs": [
        {
          "output_type": "stream",
          "text": [
            "Συνολικός χρόνος fit και predict: 3166.9659395217896 seconds\n",
            "              precision    recall  f1-score   support\n",
            "\n",
            "           0       0.97      0.97      0.97        32\n",
            "           1       0.97      0.89      0.93        37\n",
            "           2       0.93      0.90      0.91        41\n",
            "           3       0.74      0.86      0.79        36\n",
            "           4       1.00      1.00      1.00        29\n",
            "           5       0.90      0.95      0.92        37\n",
            "           6       1.00      1.00      1.00        34\n",
            "           7       0.85      1.00      0.92        40\n",
            "           8       1.00      0.71      0.83        38\n",
            "\n",
            "    accuracy                           0.92       324\n",
            "   macro avg       0.93      0.92      0.92       324\n",
            "weighted avg       0.92      0.92      0.92       324\n",
            "\n",
            "Pipeline(memory='tmp',\n",
            "         steps=[('selector', VarianceThreshold()), ('scaler', StandardScaler()),\n",
            "                ('sampler', RandomOverSampler()),\n",
            "                ('mlpclassifier',\n",
            "                 MLPClassifier(activation='logistic', hidden_layer_sizes=(50,),\n",
            "                               solver='lbfgs'))])\n",
            "{'mlpclassifier__activation': 'logistic', 'mlpclassifier__alpha': 0.0001, 'mlpclassifier__hidden_layer_sizes': (50,), 'mlpclassifier__learning_rate': 'constant', 'mlpclassifier__max_iter': 200, 'mlpclassifier__solver': 'lbfgs'}\n"
          ],
          "name": "stdout"
        }
      ]
    },
    {
      "cell_type": "code",
      "metadata": {
        "colab": {
          "base_uri": "https://localhost:8080/"
        },
        "id": "al96nr_46iNj",
        "outputId": "0090a936-5746-4d6a-f594-42e07e8ceb96"
      },
      "source": [
        "my_mlp = MLPClassifier(hidden_layer_sizes = (50,) , activation = 'logistic' , solver = 'lbfgs', max_iter = 150 , learning_rate = 'adaptive' , alpha = 0.01  ) \n",
        "selector = VarianceThreshold()\n",
        "scaler = StandardScaler()\n",
        "ros = RandomOverSampler()\n",
        "\n",
        "pipes = Pipeline(steps=[('selector', selector), ('scaler', scaler), ('sampler', ros), ('clf', my_mlp)], memory = 'tmp')\n",
        "\n",
        "start_time = time.time()\n",
        "pipe.fit(train, labels_train)\n",
        "times_train_2['MLP'] = time.time() - start_time\n",
        "start_time = time.time()\n",
        "predictions2['MLP'] = pipe.predict(test)\n",
        "times_test_2['MLP'] = time.time() - start_time\n",
        "print(classification_report(labels_test, predictions2['MLP']))\n",
        "\n",
        "\n"
      ],
      "execution_count": null,
      "outputs": [
        {
          "output_type": "stream",
          "text": [
            "              precision    recall  f1-score   support\n",
            "\n",
            "           0       0.91      0.97      0.94        32\n",
            "           1       0.88      0.81      0.85        37\n",
            "           2       0.91      0.95      0.93        41\n",
            "           3       0.82      0.86      0.84        36\n",
            "           4       1.00      1.00      1.00        29\n",
            "           5       0.92      0.92      0.92        37\n",
            "           6       0.89      0.97      0.93        34\n",
            "           7       0.93      0.95      0.94        40\n",
            "           8       1.00      0.82      0.90        38\n",
            "\n",
            "    accuracy                           0.91       324\n",
            "   macro avg       0.92      0.92      0.92       324\n",
            "weighted avg       0.92      0.91      0.91       324\n",
            "\n"
          ],
          "name": "stdout"
        }
      ]
    },
    {
      "cell_type": "markdown",
      "metadata": {
        "id": "qEoyQDKDMjft"
      },
      "source": [
        "**Παρατηρήσεις**\n",
        "\n",
        "Για την βελτιστοποίηση του MLP Classifier πραγματοποιήθηκαν και πάλι δοκιμές κάποιων τιμών. Ωστόσο επειδή η GridSearchCV χρειάζεται πολύ χρόνο για να βγάλει αποτελέσματα, σε περίπτωση που πάμε να υπολογίσουμε όλες τις παραμέτρους ταυτόχρονα, δεν ήταν δυνατή η δοκιμή πολλών διαφορετικών τιμών των υπερπαραμέτρων του MLP. Για το λόγο αυτό ενδέχεται να υπάρχει και κάποιος άλλος συνδυασμός που να παράγει ελαφρώς καλύτερα αποτελέσματα. Και εδώ αφαιρέσαμε τον selector (τον αφήσαμε με variance threshold=0.0).\n",
        "\n",
        "Οι τιμές των υπερπαραμέτρων στις οποίες καταλήξαμε είναι: hidden_layer_sizes=(50,), activation='logistic', solver='lbfgs', max_iter=150, learning_rate='adaptive', alpha=0.01."
      ]
    },
    {
      "cell_type": "markdown",
      "metadata": {
        "id": "P04X-Tb9Ht1a"
      },
      "source": [
        "##**Support Vector Machines Classifier (SVM)**"
      ]
    },
    {
      "cell_type": "code",
      "metadata": {
        "colab": {
          "base_uri": "https://localhost:8080/"
        },
        "id": "4nurYq86lJ5e",
        "outputId": "6be5f6e9-16a0-447e-c5b7-258491197a4b"
      },
      "source": [
        "from sklearn import svm\n",
        "\n",
        "svm = svm.SVC()\n",
        "selector = VarianceThreshold()\n",
        "scaler = StandardScaler()\n",
        "ros = RandomOverSampler()\n",
        "\n",
        "vthreshold = [0.02, 0.08]\n",
        "kernel=['rbf'] # kernel type rbf working fine here\n",
        "gamma=[1e-2, 1e-3, 1e-4, 1e-5]\n",
        "C=[0.001, 0.01, 10, 100, 1000]\n",
        "tol=[0.001]\n",
        "\n",
        "svm.fit(train, labels_train)\n",
        "preds = svm.predict(test)\n",
        "\n",
        "# υπολογίζουμε το confusion matrix\n",
        "cnf_matrix = confusion_matrix(labels_test, preds)\n",
        "\n",
        "# τυπώνουμε το confusion matrix\n",
        "print(cnf_matrix)"
      ],
      "execution_count": null,
      "outputs": [
        {
          "output_type": "stream",
          "text": [
            "[[32  0  0  0  0  0  0  0  0]\n",
            " [ 0 36  0  0  0  0  0  1  0]\n",
            " [ 0  0 40  1  0  0  0  0  0]\n",
            " [ 0  0  2 33  0  1  0  0  0]\n",
            " [ 0  0  0  0 29  0  0  0  0]\n",
            " [ 0  2  1  1  0 31  0  0  2]\n",
            " [ 0  0  0  0  0  1 31  0  2]\n",
            " [ 0  0  0  1  0  0  0 34  5]\n",
            " [ 0  1  0  3  0  2  0  0 32]]\n"
          ],
          "name": "stdout"
        }
      ]
    },
    {
      "cell_type": "code",
      "metadata": {
        "id": "uwqSLQp9mKKV"
      },
      "source": [
        "pipe = Pipeline(steps=[('selector', selector), ('scaler', scaler), ('sampler', ros), ('svmclassifier', svm)], memory = 'tmp')"
      ],
      "execution_count": null,
      "outputs": []
    },
    {
      "cell_type": "code",
      "metadata": {
        "id": "f-gZbsAsvK2F"
      },
      "source": [
        "svm_estimator_micro = GridSearchCV(pipe, dict(svmclassifier__kernel = kernel  , svmclassifier__gamma=gamma, svmclassifier__C=C, svmclassifier__tol=tol), cv=5, scoring='f1_micro', n_jobs=-1)\n",
        "svm_estimator_macro = GridSearchCV(pipe, dict(svmclassifier__kernel = kernel  , svmclassifier__gamma=gamma, svmclassifier__C=C, svmclassifier__tol=tol), cv=5, scoring='f1_macro', n_jobs=-1)\n"
      ],
      "execution_count": null,
      "outputs": []
    },
    {
      "cell_type": "code",
      "metadata": {
        "id": "2SqfbOWhwGCx"
      },
      "source": [
        "import time\n",
        "start_time = time.time()\n",
        "svm_estimator_micro.fit(train, labels_train)\n",
        "\n",
        "preds = svm_estimator_micro.predict(test)\n",
        "total_time = time.time() - start_time"
      ],
      "execution_count": null,
      "outputs": []
    },
    {
      "cell_type": "code",
      "metadata": {
        "id": "4-KWBZ-VwJjl",
        "colab": {
          "base_uri": "https://localhost:8080/"
        },
        "outputId": "76709dae-61b1-4ee4-c63c-7c04e8d2568d"
      },
      "source": [
        "print(\"Συνολικός χρόνος fit και predict: %s seconds\" % (total_time))\n",
        "print(classification_report(labels_test, preds))\n",
        "print(svm_estimator_micro.best_estimator_)\n",
        "print(svm_estimator_micro.best_params_)"
      ],
      "execution_count": null,
      "outputs": [
        {
          "output_type": "stream",
          "text": [
            "Συνολικός χρόνος fit και predict: 30.073492765426636 seconds\n",
            "              precision    recall  f1-score   support\n",
            "\n",
            "           0       0.97      0.97      0.97        32\n",
            "           1       0.94      0.89      0.92        37\n",
            "           2       0.88      0.93      0.90        41\n",
            "           3       0.78      0.86      0.82        36\n",
            "           4       1.00      1.00      1.00        29\n",
            "           5       0.94      0.86      0.90        37\n",
            "           6       0.94      1.00      0.97        34\n",
            "           7       0.95      0.95      0.95        40\n",
            "           8       0.86      0.79      0.82        38\n",
            "\n",
            "    accuracy                           0.91       324\n",
            "   macro avg       0.92      0.92      0.92       324\n",
            "weighted avg       0.92      0.91      0.91       324\n",
            "\n",
            "Pipeline(memory='tmp',\n",
            "         steps=[('selector', VarianceThreshold()), ('scaler', StandardScaler()),\n",
            "                ('sampler', RandomOverSampler()),\n",
            "                ('svmclassifier', SVC(C=100, gamma=1e-05))])\n",
            "{'svmclassifier__C': 100, 'svmclassifier__gamma': 1e-05, 'svmclassifier__kernel': 'rbf', 'svmclassifier__tol': 0.001}\n"
          ],
          "name": "stdout"
        }
      ]
    },
    {
      "cell_type": "code",
      "metadata": {
        "id": "rX3QRwO4wYmi"
      },
      "source": [
        "start_time = time.time()\n",
        "svm_estimator_macro.fit(train, labels_train)\n",
        "\n",
        "preds = svm_estimator_macro.predict(test)\n",
        "total_time = time.time() - start_time "
      ],
      "execution_count": null,
      "outputs": []
    },
    {
      "cell_type": "code",
      "metadata": {
        "id": "PhMZv77qweVf",
        "colab": {
          "base_uri": "https://localhost:8080/"
        },
        "outputId": "ab439d2e-3332-4846-a724-cba0bb5f5c6c"
      },
      "source": [
        "print(\"Συνολικός χρόνος fit και predict: %s seconds\" % (total_time))\n",
        "print(classification_report(labels_test, preds))\n",
        "print(svm_estimator_macro.best_estimator_)\n",
        "print(svm_estimator_macro.best_params_)"
      ],
      "execution_count": null,
      "outputs": [
        {
          "output_type": "stream",
          "text": [
            "Συνολικός χρόνος fit και predict: 30.152449131011963 seconds\n",
            "              precision    recall  f1-score   support\n",
            "\n",
            "           0       0.97      0.97      0.97        32\n",
            "           1       0.94      0.89      0.92        37\n",
            "           2       0.88      0.93      0.90        41\n",
            "           3       0.78      0.86      0.82        36\n",
            "           4       1.00      1.00      1.00        29\n",
            "           5       0.94      0.86      0.90        37\n",
            "           6       0.94      1.00      0.97        34\n",
            "           7       0.95      0.95      0.95        40\n",
            "           8       0.86      0.79      0.82        38\n",
            "\n",
            "    accuracy                           0.91       324\n",
            "   macro avg       0.92      0.92      0.92       324\n",
            "weighted avg       0.92      0.91      0.91       324\n",
            "\n",
            "Pipeline(memory='tmp',\n",
            "         steps=[('selector', VarianceThreshold()), ('scaler', StandardScaler()),\n",
            "                ('sampler', RandomOverSampler()),\n",
            "                ('svmclassifier', SVC(C=100, gamma=1e-05))])\n",
            "{'svmclassifier__C': 100, 'svmclassifier__gamma': 1e-05, 'svmclassifier__kernel': 'rbf', 'svmclassifier__tol': 0.001}\n"
          ],
          "name": "stdout"
        }
      ]
    },
    {
      "cell_type": "code",
      "metadata": {
        "colab": {
          "base_uri": "https://localhost:8080/"
        },
        "id": "s98VuCqRy7QL",
        "outputId": "2b25b8cd-c98e-48c3-8e17-19e02f3c9e9e"
      },
      "source": [
        "from sklearn import svm\n",
        "my_svm = svm.SVC(kernel='rbf', C=100.0, gamma=0.0001, tol=0.001) \n",
        "selector = VarianceThreshold()\n",
        "scaler = StandardScaler()\n",
        "ros = RandomOverSampler()\n",
        "\n",
        "pipes = Pipeline(steps=[('selector', selector), ('scaler', scaler), ('sampler', ros), ('SVM', my_svm)], memory = 'tmp')\n",
        "\n",
        "start_time = time.time()\n",
        "pipe.fit(train, labels_train)\n",
        "times_train_2['SVM'] = time.time() - start_time\n",
        "start_time = time.time()\n",
        "predictions2['SVM'] = pipe.predict(test)\n",
        "times_test_2['SVM'] = time.time() - start_time\n",
        "print(classification_report(labels_test, predictions2['SVM']))\n"
      ],
      "execution_count": null,
      "outputs": [
        {
          "output_type": "stream",
          "text": [
            "              precision    recall  f1-score   support\n",
            "\n",
            "           0       1.00      1.00      1.00        32\n",
            "           1       0.61      0.97      0.75        37\n",
            "           2       0.92      0.80      0.86        41\n",
            "           3       0.88      0.78      0.82        36\n",
            "           4       0.93      0.93      0.93        29\n",
            "           5       0.96      0.73      0.83        37\n",
            "           6       0.89      1.00      0.94        34\n",
            "           7       0.85      0.82      0.84        40\n",
            "           8       0.97      0.79      0.87        38\n",
            "\n",
            "    accuracy                           0.86       324\n",
            "   macro avg       0.89      0.87      0.87       324\n",
            "weighted avg       0.89      0.86      0.87       324\n",
            "\n"
          ],
          "name": "stdout"
        }
      ]
    },
    {
      "cell_type": "markdown",
      "metadata": {
        "id": "8hem2BvxQ-Ei"
      },
      "source": [
        "**Παρατηρήσεις**\n",
        "\n",
        "Αρχικά, δοκιμάσαμε τους διάφορους τύπους kernels (linear, rbf, poly) με κάποια αντίστοιχα χαρακτηριστικά τους και καταλήξαμε στον kernel τύπου rbf (ο οποίος είναι και default του SVM Classifier) καθώς έδινε, με μικρή διαφορά, τα βέλτιστα αποτελέσματα.  Όσον αφορά στις παραμέτρους C, gamma και tol, επιλέξαμε να χρησιμοποιήσουμε τις \"κλασικές\" τιμές τους, οι οποίες όπως φαίνεται και παραπάνω λειτουργούν πολύ αποδοτικά. \n",
        "\n",
        "Τελικά, οι βέλτιστοι υπερπαράμετροι του SVM, είναι: kernel='rbf', C=100, gamma=0.0001, tol=0.001."
      ]
    },
    {
      "cell_type": "code",
      "metadata": {
        "colab": {
          "base_uri": "https://localhost:8080/"
        },
        "id": "uKBYFI0G9_1j",
        "outputId": "3fd7e8dc-dfc5-4aa2-862d-d02506458572"
      },
      "source": [
        "def f1_compute(predictions2,metric):\n",
        "\n",
        "    f1_list = {}\n",
        "    for i in predictions2:\n",
        "        (pre,rec,f1,sup) = precision_recall_fscore_support(labels_test, predictions2[i], average=metric)\n",
        "        print(i,\": \",f1, \"\\n\")\n",
        "        f1_list[i] = f1\n",
        "    return f1_list\n",
        "    \n",
        "print(\"f1 micro:\")\n",
        "f1_micro_2 = f1_compute(predictions2,'micro')\n",
        "\n",
        "print(\"f1 macro:\")\n",
        "f1_macro_2 = f1_compute(predictions2,'macro')"
      ],
      "execution_count": null,
      "outputs": [
        {
          "output_type": "stream",
          "text": [
            "f1 micro:\n",
            "kNN :  0.8055555555555556 \n",
            "\n",
            "MLP :  0.9135802469135802 \n",
            "\n",
            "SVM :  0.8641975308641975 \n",
            "\n",
            "f1 macro:\n",
            "kNN :  0.8121581000411915 \n",
            "\n",
            "MLP :  0.9151324824024467 \n",
            "\n",
            "SVM :  0.8713254091384275 \n",
            "\n"
          ],
          "name": "stdout"
        }
      ]
    },
    {
      "cell_type": "code",
      "metadata": {
        "colab": {
          "base_uri": "https://localhost:8080/",
          "height": 573
        },
        "id": "NhDorACy-ujA",
        "outputId": "b868319f-ce22-43be-874c-787124fee8e1"
      },
      "source": [
        "classifiers = ()\n",
        "values = ()\n",
        "for i in f1_micro_2:\n",
        "    classifiers = classifiers + (i,)\n",
        "    values = values + (f1_micro_2[i],)\n",
        "\n",
        "x_axis = classifiers\n",
        "y_axis = values\n",
        "plt.bar(x_axis,y_axis,width=0.4)\n",
        "plt.ylabel('F1')\n",
        "plt.xlabel('Classifier')\n",
        "plt.title('F1-micro average')\n",
        "plt.show()\n",
        "\n",
        "classifiers = ()\n",
        "values = ()\n",
        "for i in f1_macro_2:\n",
        "    classifiers = classifiers + (i,)\n",
        "    values = values + (f1_macro_2[i],)\n",
        "\n",
        "x_axis = classifiers\n",
        "y_axis = values\n",
        "plt.bar(x_axis,y_axis,width=0.4)\n",
        "plt.ylabel('F1')\n",
        "plt.xlabel('Classifier')\n",
        "plt.title('F1-macro average')\n",
        "plt.show()"
      ],
      "execution_count": null,
      "outputs": [
        {
          "output_type": "display_data",
          "data": {
            "image/png": "[encoded data removed]",
            "text/plain": [
              "<Figure size 432x288 with 1 Axes>"
            ]
          },
          "metadata": {
            "tags": [],
            "needs_background": "light"
          }
        },
        {
          "output_type": "display_data",
          "data": {
            "image/png": "[encoded data removed]",
            "text/plain": [
              "<Figure size 432x288 with 1 Axes>"
            ]
          },
          "metadata": {
            "tags": [],
            "needs_background": "light"
          }
        }
      ]
    },
    {
      "cell_type": "markdown",
      "metadata": {
        "id": "dUhS-oqVbfeK"
      },
      "source": [
        "#**Συμπεράσματα**\n",
        "Αρχικά, οι Dummy Classifiers δεν μπορούσαν να βελτιωθούν περαιτέρω αφού είχε γίνει από την αρχή PCA και τα αποτελέσματα που μας παρείχαν σε σχέση με τους υπόλοιπους δεν ήταν ικανοποιητικά. Ο Naive Bayes Classifier επίσης δεν μπορούσε να βελτιστοποιηθεί, όμως είχε ικανοποιητική απόδοση. Τέλος, οι kNN, MLP και SVM Classifiers είχαν εξ αρχής υψηλή επίδοση με αποτέλεσμα η ακρίβειά τους πριν και μετά την βελτιστοποίηση να μην αλλάζει δραματικά. Ενδεικτικά, η μεγαλύτερη διαφορά παρατηρήθηκε στον kNN, όπου υπήρξε βελτίωση των f1 της τάξης του ~11%, ενώ στους άλλους 2 η διαφορά ήταν αμελητέα. Συνολικά, καλύτερη απόδοση είχαν οι MLP, SVM Classifiers. \n",
        "\n",
        "Όσον αφορά στους χρόνους εκτέλεσης, παρατηρήσαμε ότι οι βελτιστοποιημένοι ταξινομητές απαιτούσαν αρκετά περισσότερο χρόνο, το οποίο πιθανότατα να οφείλεται στην αύξηση των δειγμάτων μέσω της εξισορρόπησης των δεδομένων (oversampling). Ειδικότερα στην περίπτωση του MLP, ενώ ο αρχικός ταξινομητής έβγαζε αποτελέσματα εντός ολίγων λεπτών, ο βελτιστοποιημένος εκτελούνταν σχεδόν για 2 ώρες."
      ]
    }
  ]
}